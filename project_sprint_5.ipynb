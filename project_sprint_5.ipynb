{
 "cells": [
  {
   "cell_type": "markdown",
   "metadata": {
    "id": "3rYiDeEH0q0f"
   },
   "source": [
    "# ¿Cuál es la mejor tarifa?\n",
    "\n",
    "Trabajas como analista para el operador de telecomunicaciones Megaline. La empresa ofrece a sus clientes dos tarifas de prepago, Surf y Ultimate. El departamento comercial quiere saber cuál de las tarifas genera más ingresos para poder ajustar el presupuesto de publicidad.\n",
    "\n",
    "Vas a realizar un análisis preliminar de las tarifas basado en una selección de clientes relativamente pequeña. Tendrás los datos de 500 clientes de Megaline: quiénes son los clientes, de dónde son, qué tarifa usan, así como la cantidad de llamadas que hicieron y los mensajes de texto que enviaron en 2018. Tu trabajo es analizar el comportamiento de los clientes y determinar qué tarifa de prepago genera más ingresos."
   ]
  },
  {
   "cell_type": "markdown",
   "metadata": {
    "id": "VNddPNRQ0q0w"
   },
   "source": [
    "[Te proporcionamos algunos comentarios para orientarte mientras completas este proyecto. Pero debes asegurarte de eliminar todos los comentarios entre corchetes antes de entregar tu proyecto.]\n",
    "\n",
    "[Antes de sumergirte en el análisis de datos, explica por tu propia cuenta el propósito del proyecto y las acciones que planeas realizar.]\n",
    "\n",
    "[Ten en cuenta que estudiar, modificar y analizar datos es un proceso iterativo. Es normal volver a los pasos anteriores y corregirlos/ampliarlos para permitir nuevos pasos.]"
   ]
  },
  {
   "cell_type": "markdown",
   "metadata": {
    "id": "MQi4IPy70q0y"
   },
   "source": [
    "## Inicialización"
   ]
  },
  {
   "cell_type": "code",
   "execution_count": 5,
   "metadata": {
    "id": "MtYIuBxu0q0z"
   },
   "outputs": [],
   "source": [
    "# Cargar todas las librerías\n",
    "\n",
    "import pandas as pd\n",
    "import seaborn as sns\n",
    "import numpy as np"
   ]
  },
  {
   "cell_type": "markdown",
   "metadata": {
    "id": "4ysWWC5i0q00"
   },
   "source": [
    "## Cargar datos"
   ]
  },
  {
   "cell_type": "code",
   "execution_count": 6,
   "metadata": {
    "id": "CCqPW7rS0q01"
   },
   "outputs": [],
   "source": [
    "# Carga los archivos de datos en diferentes DataFrames\n",
    "\n",
    "users = pd.read_csv('/datasets/megaline_users.csv', sep=',')\n",
    "calls = pd.read_csv('/datasets/megaline_calls.csv', sep=',')\n",
    "messages = pd.read_csv('/datasets/megaline_messages.csv', sep=',')\n",
    "internet = pd.read_csv('/datasets/megaline_internet.csv', sep=',')\n",
    "plans = pd.read_csv('/datasets/megaline_plans.csv', sep=',')"
   ]
  },
  {
   "cell_type": "markdown",
   "metadata": {
    "id": "69qqoJ3r0q01"
   },
   "source": [
    "## Preparar los datos"
   ]
  },
  {
   "cell_type": "markdown",
   "metadata": {
    "id": "vUuZw80S0q01"
   },
   "source": [
    "[Los datos para este proyecto se dividen en varias tablas. Explora cada una para tener una comprensión inicial de los datos. Si es necesario, haz las correcciones requeridas en cada tabla.]"
   ]
  },
  {
   "cell_type": "markdown",
   "metadata": {
    "id": "ohBhimvH0q01"
   },
   "source": [
    "## Tarifas"
   ]
  },
  {
   "cell_type": "code",
   "execution_count": 7,
   "metadata": {
    "id": "GptqP3Q40q02"
   },
   "outputs": [
    {
     "name": "stdout",
     "output_type": "stream",
     "text": [
      "<class 'pandas.core.frame.DataFrame'>\n",
      "RangeIndex: 2 entries, 0 to 1\n",
      "Data columns (total 8 columns):\n",
      " #   Column                 Non-Null Count  Dtype  \n",
      "---  ------                 --------------  -----  \n",
      " 0   messages_included      2 non-null      int64  \n",
      " 1   mb_per_month_included  2 non-null      int64  \n",
      " 2   minutes_included       2 non-null      int64  \n",
      " 3   usd_monthly_pay        2 non-null      int64  \n",
      " 4   usd_per_gb             2 non-null      int64  \n",
      " 5   usd_per_message        2 non-null      float64\n",
      " 6   usd_per_minute         2 non-null      float64\n",
      " 7   plan_name              2 non-null      object \n",
      "dtypes: float64(2), int64(5), object(1)\n",
      "memory usage: 256.0+ bytes\n"
     ]
    }
   ],
   "source": [
    "# Imprime la información general/resumida sobre el DataFrame de las tarifas\n",
    "\n",
    "plans.info()"
   ]
  },
  {
   "cell_type": "code",
   "execution_count": 8,
   "metadata": {
    "id": "64xzjwL70q02"
   },
   "outputs": [
    {
     "data": {
      "text/html": [
       "<div>\n",
       "<style scoped>\n",
       "    .dataframe tbody tr th:only-of-type {\n",
       "        vertical-align: middle;\n",
       "    }\n",
       "\n",
       "    .dataframe tbody tr th {\n",
       "        vertical-align: top;\n",
       "    }\n",
       "\n",
       "    .dataframe thead th {\n",
       "        text-align: right;\n",
       "    }\n",
       "</style>\n",
       "<table border=\"1\" class=\"dataframe\">\n",
       "  <thead>\n",
       "    <tr style=\"text-align: right;\">\n",
       "      <th></th>\n",
       "      <th>messages_included</th>\n",
       "      <th>mb_per_month_included</th>\n",
       "      <th>minutes_included</th>\n",
       "      <th>usd_monthly_pay</th>\n",
       "      <th>usd_per_gb</th>\n",
       "      <th>usd_per_message</th>\n",
       "      <th>usd_per_minute</th>\n",
       "      <th>plan_name</th>\n",
       "    </tr>\n",
       "  </thead>\n",
       "  <tbody>\n",
       "    <tr>\n",
       "      <th>0</th>\n",
       "      <td>50</td>\n",
       "      <td>15360</td>\n",
       "      <td>500</td>\n",
       "      <td>20</td>\n",
       "      <td>10</td>\n",
       "      <td>0.03</td>\n",
       "      <td>0.03</td>\n",
       "      <td>surf</td>\n",
       "    </tr>\n",
       "    <tr>\n",
       "      <th>1</th>\n",
       "      <td>1000</td>\n",
       "      <td>30720</td>\n",
       "      <td>3000</td>\n",
       "      <td>70</td>\n",
       "      <td>7</td>\n",
       "      <td>0.01</td>\n",
       "      <td>0.01</td>\n",
       "      <td>ultimate</td>\n",
       "    </tr>\n",
       "  </tbody>\n",
       "</table>\n",
       "</div>"
      ],
      "text/plain": [
       "   messages_included  mb_per_month_included  minutes_included  \\\n",
       "0                 50                  15360               500   \n",
       "1               1000                  30720              3000   \n",
       "\n",
       "   usd_monthly_pay  usd_per_gb  usd_per_message  usd_per_minute plan_name  \n",
       "0               20          10             0.03            0.03      surf  \n",
       "1               70           7             0.01            0.01  ultimate  "
      ]
     },
     "execution_count": 8,
     "metadata": {},
     "output_type": "execute_result"
    }
   ],
   "source": [
    "# Imprime una muestra de los datos para las tarifas\n",
    "\n",
    "plans.head()"
   ]
  },
  {
   "cell_type": "markdown",
   "metadata": {
    "id": "mEc_3_hs0q02"
   },
   "source": [
    "[Describe lo que ves y observas en la información general y en la muestra de datos impresa para el precio de datos anterior. ¿Hay algún problema (tipos de datos no adecuados, datos ausentes, etc.) que pudieran necesitar investigación y cambios adicionales? ¿Cómo se puede arreglar?]\n",
    "\n",
    "**En esta tabla podemos inferir el valor por minutos, gigas, mensaje, mensual de los dos planes de la compañia: surt y ultimate**"
   ]
  },
  {
   "cell_type": "code",
   "execution_count": 9,
   "metadata": {},
   "outputs": [],
   "source": [
    "# To do: tener en cuenta que el pago del internet esta en Gb y el consumo en mb "
   ]
  },
  {
   "cell_type": "markdown",
   "metadata": {
    "id": "R3C05i1l0q03"
   },
   "source": [
    "## Corregir datos"
   ]
  },
  {
   "cell_type": "markdown",
   "metadata": {
    "id": "bIi8StZI0q03"
   },
   "source": [
    "[Corrige los problemas obvios con los datos basándote en las observaciones iniciales.]"
   ]
  },
  {
   "cell_type": "code",
   "execution_count": 10,
   "metadata": {
    "id": "Y7SVmjGn0q03"
   },
   "outputs": [
    {
     "data": {
      "text/plain": [
       "0"
      ]
     },
     "execution_count": 10,
     "metadata": {},
     "output_type": "execute_result"
    }
   ],
   "source": [
    "plans.duplicated().sum()"
   ]
  },
  {
   "cell_type": "code",
   "execution_count": 11,
   "metadata": {},
   "outputs": [
    {
     "data": {
      "text/plain": [
       "messages_included        0\n",
       "mb_per_month_included    0\n",
       "minutes_included         0\n",
       "usd_monthly_pay          0\n",
       "usd_per_gb               0\n",
       "usd_per_message          0\n",
       "usd_per_minute           0\n",
       "plan_name                0\n",
       "dtype: int64"
      ]
     },
     "execution_count": 11,
     "metadata": {},
     "output_type": "execute_result"
    }
   ],
   "source": [
    "plans.isnull().sum()"
   ]
  },
  {
   "cell_type": "markdown",
   "metadata": {
    "id": "LJir7bml0q03"
   },
   "source": [
    "## Enriquecer los datos"
   ]
  },
  {
   "cell_type": "markdown",
   "metadata": {
    "id": "eqADpCfg0q04"
   },
   "source": [
    "[Agrega factores adicionales a los datos si crees que pudieran ser útiles.]"
   ]
  },
  {
   "cell_type": "code",
   "execution_count": null,
   "metadata": {
    "id": "gfcIEuXV0q04"
   },
   "outputs": [],
   "source": []
  },
  {
   "cell_type": "markdown",
   "metadata": {
    "id": "1n2X6WXf0q04"
   },
   "source": [
    "## Usuarios/as"
   ]
  },
  {
   "cell_type": "code",
   "execution_count": 12,
   "metadata": {
    "id": "2NgjWFqx0q05"
   },
   "outputs": [
    {
     "name": "stdout",
     "output_type": "stream",
     "text": [
      "<class 'pandas.core.frame.DataFrame'>\n",
      "RangeIndex: 500 entries, 0 to 499\n",
      "Data columns (total 8 columns):\n",
      " #   Column      Non-Null Count  Dtype \n",
      "---  ------      --------------  ----- \n",
      " 0   user_id     500 non-null    int64 \n",
      " 1   first_name  500 non-null    object\n",
      " 2   last_name   500 non-null    object\n",
      " 3   age         500 non-null    int64 \n",
      " 4   city        500 non-null    object\n",
      " 5   reg_date    500 non-null    object\n",
      " 6   plan        500 non-null    object\n",
      " 7   churn_date  34 non-null     object\n",
      "dtypes: int64(2), object(6)\n",
      "memory usage: 31.4+ KB\n"
     ]
    }
   ],
   "source": [
    "# Imprime la información general/resumida sobre el DataFrame de usuarios\n",
    "\n",
    "users.info()"
   ]
  },
  {
   "cell_type": "code",
   "execution_count": 13,
   "metadata": {
    "id": "1IN1L9uh0q05"
   },
   "outputs": [
    {
     "data": {
      "text/html": [
       "<div>\n",
       "<style scoped>\n",
       "    .dataframe tbody tr th:only-of-type {\n",
       "        vertical-align: middle;\n",
       "    }\n",
       "\n",
       "    .dataframe tbody tr th {\n",
       "        vertical-align: top;\n",
       "    }\n",
       "\n",
       "    .dataframe thead th {\n",
       "        text-align: right;\n",
       "    }\n",
       "</style>\n",
       "<table border=\"1\" class=\"dataframe\">\n",
       "  <thead>\n",
       "    <tr style=\"text-align: right;\">\n",
       "      <th></th>\n",
       "      <th>user_id</th>\n",
       "      <th>first_name</th>\n",
       "      <th>last_name</th>\n",
       "      <th>age</th>\n",
       "      <th>city</th>\n",
       "      <th>reg_date</th>\n",
       "      <th>plan</th>\n",
       "      <th>churn_date</th>\n",
       "    </tr>\n",
       "  </thead>\n",
       "  <tbody>\n",
       "    <tr>\n",
       "      <th>0</th>\n",
       "      <td>1000</td>\n",
       "      <td>Anamaria</td>\n",
       "      <td>Bauer</td>\n",
       "      <td>45</td>\n",
       "      <td>Atlanta-Sandy Springs-Roswell, GA MSA</td>\n",
       "      <td>2018-12-24</td>\n",
       "      <td>ultimate</td>\n",
       "      <td>NaN</td>\n",
       "    </tr>\n",
       "    <tr>\n",
       "      <th>1</th>\n",
       "      <td>1001</td>\n",
       "      <td>Mickey</td>\n",
       "      <td>Wilkerson</td>\n",
       "      <td>28</td>\n",
       "      <td>Seattle-Tacoma-Bellevue, WA MSA</td>\n",
       "      <td>2018-08-13</td>\n",
       "      <td>surf</td>\n",
       "      <td>NaN</td>\n",
       "    </tr>\n",
       "    <tr>\n",
       "      <th>2</th>\n",
       "      <td>1002</td>\n",
       "      <td>Carlee</td>\n",
       "      <td>Hoffman</td>\n",
       "      <td>36</td>\n",
       "      <td>Las Vegas-Henderson-Paradise, NV MSA</td>\n",
       "      <td>2018-10-21</td>\n",
       "      <td>surf</td>\n",
       "      <td>NaN</td>\n",
       "    </tr>\n",
       "    <tr>\n",
       "      <th>3</th>\n",
       "      <td>1003</td>\n",
       "      <td>Reynaldo</td>\n",
       "      <td>Jenkins</td>\n",
       "      <td>52</td>\n",
       "      <td>Tulsa, OK MSA</td>\n",
       "      <td>2018-01-28</td>\n",
       "      <td>surf</td>\n",
       "      <td>NaN</td>\n",
       "    </tr>\n",
       "    <tr>\n",
       "      <th>4</th>\n",
       "      <td>1004</td>\n",
       "      <td>Leonila</td>\n",
       "      <td>Thompson</td>\n",
       "      <td>40</td>\n",
       "      <td>Seattle-Tacoma-Bellevue, WA MSA</td>\n",
       "      <td>2018-05-23</td>\n",
       "      <td>surf</td>\n",
       "      <td>NaN</td>\n",
       "    </tr>\n",
       "  </tbody>\n",
       "</table>\n",
       "</div>"
      ],
      "text/plain": [
       "   user_id first_name  last_name  age                                   city  \\\n",
       "0     1000   Anamaria      Bauer   45  Atlanta-Sandy Springs-Roswell, GA MSA   \n",
       "1     1001     Mickey  Wilkerson   28        Seattle-Tacoma-Bellevue, WA MSA   \n",
       "2     1002     Carlee    Hoffman   36   Las Vegas-Henderson-Paradise, NV MSA   \n",
       "3     1003   Reynaldo    Jenkins   52                          Tulsa, OK MSA   \n",
       "4     1004    Leonila   Thompson   40        Seattle-Tacoma-Bellevue, WA MSA   \n",
       "\n",
       "     reg_date      plan churn_date  \n",
       "0  2018-12-24  ultimate        NaN  \n",
       "1  2018-08-13      surf        NaN  \n",
       "2  2018-10-21      surf        NaN  \n",
       "3  2018-01-28      surf        NaN  \n",
       "4  2018-05-23      surf        NaN  "
      ]
     },
     "execution_count": 13,
     "metadata": {},
     "output_type": "execute_result"
    }
   ],
   "source": [
    "# Imprime una muestra de datos para usuarios\n",
    "\n",
    "users.head()"
   ]
  },
  {
   "cell_type": "markdown",
   "metadata": {
    "id": "dCZoUq4f0q06"
   },
   "source": [
    "[Describe lo que ves y observas en la información general y en la muestra de datos impresa para el precio de datos anterior. ¿Hay algún problema (tipos de datos no adecuados, datos ausentes, etc.) que pudieran necesitar investigación y cambios adicionales? ¿Cómo se puede arreglar?]\n",
    "\n",
    "***Se encontró que hay 34 datos de la columna 'churn_date', es decir desiste del plan, esta columna tiene valores nulos ya que indica que el cliente sigue activo o vigente y no ha desistido del servicio, ***"
   ]
  },
  {
   "cell_type": "markdown",
   "metadata": {
    "id": "BX5FQh_I0q06"
   },
   "source": [
    "### Corregir los datos"
   ]
  },
  {
   "cell_type": "markdown",
   "metadata": {
    "id": "8OdKMwJv0q06"
   },
   "source": [
    "[Corrige los problemas obvios con los datos basándote en las observaciones iniciales.]"
   ]
  },
  {
   "cell_type": "code",
   "execution_count": 14,
   "metadata": {
    "id": "yUqX-K0C0q07"
   },
   "outputs": [
    {
     "data": {
      "text/plain": [
       "0"
      ]
     },
     "execution_count": 14,
     "metadata": {},
     "output_type": "execute_result"
    }
   ],
   "source": [
    "users.duplicated().sum()"
   ]
  },
  {
   "cell_type": "code",
   "execution_count": 15,
   "metadata": {},
   "outputs": [
    {
     "data": {
      "text/plain": [
       "user_id         0\n",
       "first_name      0\n",
       "last_name       0\n",
       "age             0\n",
       "city            0\n",
       "reg_date        0\n",
       "plan            0\n",
       "churn_date    466\n",
       "dtype: int64"
      ]
     },
     "execution_count": 15,
     "metadata": {},
     "output_type": "execute_result"
    }
   ],
   "source": [
    "users.isnull().sum()"
   ]
  },
  {
   "cell_type": "markdown",
   "metadata": {
    "id": "ycwuARJp0q07"
   },
   "source": [
    "### Enriquecer los datos"
   ]
  },
  {
   "cell_type": "markdown",
   "metadata": {
    "id": "96NIh4CJ0q08"
   },
   "source": [
    "[Agrega factores adicionales a los datos si crees que pudieran ser útiles.]"
   ]
  },
  {
   "cell_type": "code",
   "execution_count": 16,
   "metadata": {
    "id": "iq0AaBS90q08"
   },
   "outputs": [
    {
     "name": "stdout",
     "output_type": "stream",
     "text": [
      "<class 'pandas.core.frame.DataFrame'>\n",
      "RangeIndex: 500 entries, 0 to 499\n",
      "Data columns (total 8 columns):\n",
      " #   Column      Non-Null Count  Dtype \n",
      "---  ------      --------------  ----- \n",
      " 0   user_id     500 non-null    int64 \n",
      " 1   first_name  500 non-null    object\n",
      " 2   last_name   500 non-null    object\n",
      " 3   age         500 non-null    int64 \n",
      " 4   city        500 non-null    object\n",
      " 5   reg_date    500 non-null    object\n",
      " 6   plan_id     500 non-null    object\n",
      " 7   churn_date  34 non-null     object\n",
      "dtypes: int64(2), object(6)\n",
      "memory usage: 31.4+ KB\n"
     ]
    }
   ],
   "source": [
    "# Renombrar la columna 'plan' por 'plan_id'\n",
    "\n",
    "users.rename(columns={'plan':'plan_id'}, inplace=True)\n",
    "users.info()"
   ]
  },
  {
   "cell_type": "code",
   "execution_count": 17,
   "metadata": {},
   "outputs": [],
   "source": [
    "#Se modifica el formato de la columna 'reg_date' a formato fecha y se crea la columna del mes 'month'\n",
    "\n",
    "users['reg_date'] = pd.to_datetime(users['reg_date'], format='%Y-%m-%d')\n",
    "users['reg_month'] = pd.DatetimeIndex(users['reg_date']).month"
   ]
  },
  {
   "cell_type": "code",
   "execution_count": 18,
   "metadata": {},
   "outputs": [],
   "source": [
    "#Se modifica el formato de la columna 'churn_date' a formato fecha y se crea la columna del mes 'month'\n",
    "\n",
    "users['churn_date'] = pd.to_datetime(users['churn_date'], format='%Y-%m-%d')\n",
    "users['churn_month'] = pd.DatetimeIndex(users['churn_date']).month"
   ]
  },
  {
   "cell_type": "code",
   "execution_count": 19,
   "metadata": {},
   "outputs": [
    {
     "name": "stdout",
     "output_type": "stream",
     "text": [
      "<class 'pandas.core.frame.DataFrame'>\n",
      "RangeIndex: 500 entries, 0 to 499\n",
      "Data columns (total 10 columns):\n",
      " #   Column       Non-Null Count  Dtype         \n",
      "---  ------       --------------  -----         \n",
      " 0   user_id      500 non-null    int64         \n",
      " 1   first_name   500 non-null    object        \n",
      " 2   last_name    500 non-null    object        \n",
      " 3   age          500 non-null    int64         \n",
      " 4   city         500 non-null    object        \n",
      " 5   reg_date     500 non-null    datetime64[ns]\n",
      " 6   plan_id      500 non-null    object        \n",
      " 7   churn_date   34 non-null     datetime64[ns]\n",
      " 8   reg_month    500 non-null    int64         \n",
      " 9   churn_month  34 non-null     float64       \n",
      "dtypes: datetime64[ns](2), float64(1), int64(3), object(4)\n",
      "memory usage: 39.2+ KB\n"
     ]
    }
   ],
   "source": [
    "users.info()"
   ]
  },
  {
   "cell_type": "code",
   "execution_count": 20,
   "metadata": {},
   "outputs": [
    {
     "name": "stdout",
     "output_type": "stream",
     "text": [
      "<class 'pandas.core.frame.DataFrame'>\n",
      "RangeIndex: 500 entries, 0 to 499\n",
      "Data columns (total 10 columns):\n",
      " #   Column       Non-Null Count  Dtype         \n",
      "---  ------       --------------  -----         \n",
      " 0   user_id      500 non-null    int64         \n",
      " 1   first_name   500 non-null    object        \n",
      " 2   last_name    500 non-null    object        \n",
      " 3   age          500 non-null    int64         \n",
      " 4   city         500 non-null    object        \n",
      " 5   reg_date     500 non-null    datetime64[ns]\n",
      " 6   plan_id      500 non-null    object        \n",
      " 7   churn_date   34 non-null     datetime64[ns]\n",
      " 8   reg_month    500 non-null    int64         \n",
      " 9   churn_month  34 non-null     float64       \n",
      "dtypes: datetime64[ns](2), float64(1), int64(3), object(4)\n",
      "memory usage: 39.2+ KB\n"
     ]
    }
   ],
   "source": [
    "users.info()"
   ]
  },
  {
   "cell_type": "markdown",
   "metadata": {
    "id": "o7MeKCid0q08"
   },
   "source": [
    "## Llamadas"
   ]
  },
  {
   "cell_type": "code",
   "execution_count": 21,
   "metadata": {
    "id": "6dDlnoDm0q08"
   },
   "outputs": [
    {
     "name": "stdout",
     "output_type": "stream",
     "text": [
      "<class 'pandas.core.frame.DataFrame'>\n",
      "RangeIndex: 137735 entries, 0 to 137734\n",
      "Data columns (total 4 columns):\n",
      " #   Column     Non-Null Count   Dtype  \n",
      "---  ------     --------------   -----  \n",
      " 0   id         137735 non-null  object \n",
      " 1   user_id    137735 non-null  int64  \n",
      " 2   call_date  137735 non-null  object \n",
      " 3   duration   137735 non-null  float64\n",
      "dtypes: float64(1), int64(1), object(2)\n",
      "memory usage: 4.2+ MB\n"
     ]
    }
   ],
   "source": [
    "# Imprime la información general/resumida sobre el DataFrame de las llamadas\n",
    "\n",
    "calls.info()"
   ]
  },
  {
   "cell_type": "code",
   "execution_count": 22,
   "metadata": {
    "id": "kuh1vlNB0q09"
   },
   "outputs": [
    {
     "data": {
      "text/html": [
       "<div>\n",
       "<style scoped>\n",
       "    .dataframe tbody tr th:only-of-type {\n",
       "        vertical-align: middle;\n",
       "    }\n",
       "\n",
       "    .dataframe tbody tr th {\n",
       "        vertical-align: top;\n",
       "    }\n",
       "\n",
       "    .dataframe thead th {\n",
       "        text-align: right;\n",
       "    }\n",
       "</style>\n",
       "<table border=\"1\" class=\"dataframe\">\n",
       "  <thead>\n",
       "    <tr style=\"text-align: right;\">\n",
       "      <th></th>\n",
       "      <th>id</th>\n",
       "      <th>user_id</th>\n",
       "      <th>call_date</th>\n",
       "      <th>duration</th>\n",
       "    </tr>\n",
       "  </thead>\n",
       "  <tbody>\n",
       "    <tr>\n",
       "      <th>0</th>\n",
       "      <td>1000_93</td>\n",
       "      <td>1000</td>\n",
       "      <td>2018-12-27</td>\n",
       "      <td>8.52</td>\n",
       "    </tr>\n",
       "    <tr>\n",
       "      <th>1</th>\n",
       "      <td>1000_145</td>\n",
       "      <td>1000</td>\n",
       "      <td>2018-12-27</td>\n",
       "      <td>13.66</td>\n",
       "    </tr>\n",
       "    <tr>\n",
       "      <th>2</th>\n",
       "      <td>1000_247</td>\n",
       "      <td>1000</td>\n",
       "      <td>2018-12-27</td>\n",
       "      <td>14.48</td>\n",
       "    </tr>\n",
       "    <tr>\n",
       "      <th>3</th>\n",
       "      <td>1000_309</td>\n",
       "      <td>1000</td>\n",
       "      <td>2018-12-28</td>\n",
       "      <td>5.76</td>\n",
       "    </tr>\n",
       "    <tr>\n",
       "      <th>4</th>\n",
       "      <td>1000_380</td>\n",
       "      <td>1000</td>\n",
       "      <td>2018-12-30</td>\n",
       "      <td>4.22</td>\n",
       "    </tr>\n",
       "  </tbody>\n",
       "</table>\n",
       "</div>"
      ],
      "text/plain": [
       "         id  user_id   call_date  duration\n",
       "0   1000_93     1000  2018-12-27      8.52\n",
       "1  1000_145     1000  2018-12-27     13.66\n",
       "2  1000_247     1000  2018-12-27     14.48\n",
       "3  1000_309     1000  2018-12-28      5.76\n",
       "4  1000_380     1000  2018-12-30      4.22"
      ]
     },
     "execution_count": 22,
     "metadata": {},
     "output_type": "execute_result"
    }
   ],
   "source": [
    "# Imprime una muestra de datos para las llamadas\n",
    "\n",
    "calls.head()"
   ]
  },
  {
   "cell_type": "markdown",
   "metadata": {
    "id": "DOAxYJSx0q09"
   },
   "source": [
    "[Describe lo que ves y observas en la información general y en la muestra de datos impresa para el precio de datos anterior. ¿Hay algún problema (tipos de datos no adecuados, datos ausentes, etc.) que pudieran necesitar investigación y cambios adicionales? ¿Cómo se puede arreglar?]"
   ]
  },
  {
   "cell_type": "markdown",
   "metadata": {
    "id": "S7hzxmbX0q0-"
   },
   "source": [
    "### Corregir los datos"
   ]
  },
  {
   "cell_type": "markdown",
   "metadata": {
    "id": "YxWyAjD20q0-"
   },
   "source": [
    "[Corrige los problemas obvios con los datos basándote en las observaciones iniciales.]"
   ]
  },
  {
   "cell_type": "code",
   "execution_count": 23,
   "metadata": {
    "id": "S2r8xA4f0q0-"
   },
   "outputs": [
    {
     "data": {
      "text/plain": [
       "0"
      ]
     },
     "execution_count": 23,
     "metadata": {},
     "output_type": "execute_result"
    }
   ],
   "source": [
    "calls.duplicated().sum()"
   ]
  },
  {
   "cell_type": "code",
   "execution_count": 24,
   "metadata": {},
   "outputs": [
    {
     "data": {
      "text/plain": [
       "id           0\n",
       "user_id      0\n",
       "call_date    0\n",
       "duration     0\n",
       "dtype: int64"
      ]
     },
     "execution_count": 24,
     "metadata": {},
     "output_type": "execute_result"
    }
   ],
   "source": [
    "calls.isnull().sum()"
   ]
  },
  {
   "cell_type": "markdown",
   "metadata": {
    "id": "KrMgTrlG0q0_"
   },
   "source": [
    "### Enriquecer los datos"
   ]
  },
  {
   "cell_type": "markdown",
   "metadata": {
    "id": "a9MbmEvE0q0_"
   },
   "source": [
    "[Agrega factores adicionales a los datos si crees que pudieran ser útiles.]"
   ]
  },
  {
   "cell_type": "code",
   "execution_count": 25,
   "metadata": {
    "id": "iZ1avpA_0q0_"
   },
   "outputs": [
    {
     "data": {
      "text/html": [
       "<div>\n",
       "<style scoped>\n",
       "    .dataframe tbody tr th:only-of-type {\n",
       "        vertical-align: middle;\n",
       "    }\n",
       "\n",
       "    .dataframe tbody tr th {\n",
       "        vertical-align: top;\n",
       "    }\n",
       "\n",
       "    .dataframe thead th {\n",
       "        text-align: right;\n",
       "    }\n",
       "</style>\n",
       "<table border=\"1\" class=\"dataframe\">\n",
       "  <thead>\n",
       "    <tr style=\"text-align: right;\">\n",
       "      <th></th>\n",
       "      <th>call_id</th>\n",
       "      <th>user_id</th>\n",
       "      <th>call_date</th>\n",
       "      <th>duration</th>\n",
       "    </tr>\n",
       "  </thead>\n",
       "  <tbody>\n",
       "    <tr>\n",
       "      <th>0</th>\n",
       "      <td>1000_93</td>\n",
       "      <td>1000</td>\n",
       "      <td>2018-12-27</td>\n",
       "      <td>8.52</td>\n",
       "    </tr>\n",
       "    <tr>\n",
       "      <th>1</th>\n",
       "      <td>1000_145</td>\n",
       "      <td>1000</td>\n",
       "      <td>2018-12-27</td>\n",
       "      <td>13.66</td>\n",
       "    </tr>\n",
       "    <tr>\n",
       "      <th>2</th>\n",
       "      <td>1000_247</td>\n",
       "      <td>1000</td>\n",
       "      <td>2018-12-27</td>\n",
       "      <td>14.48</td>\n",
       "    </tr>\n",
       "    <tr>\n",
       "      <th>3</th>\n",
       "      <td>1000_309</td>\n",
       "      <td>1000</td>\n",
       "      <td>2018-12-28</td>\n",
       "      <td>5.76</td>\n",
       "    </tr>\n",
       "    <tr>\n",
       "      <th>4</th>\n",
       "      <td>1000_380</td>\n",
       "      <td>1000</td>\n",
       "      <td>2018-12-30</td>\n",
       "      <td>4.22</td>\n",
       "    </tr>\n",
       "  </tbody>\n",
       "</table>\n",
       "</div>"
      ],
      "text/plain": [
       "    call_id  user_id   call_date  duration\n",
       "0   1000_93     1000  2018-12-27      8.52\n",
       "1  1000_145     1000  2018-12-27     13.66\n",
       "2  1000_247     1000  2018-12-27     14.48\n",
       "3  1000_309     1000  2018-12-28      5.76\n",
       "4  1000_380     1000  2018-12-30      4.22"
      ]
     },
     "execution_count": 25,
     "metadata": {},
     "output_type": "execute_result"
    }
   ],
   "source": [
    "# Renombrar la columna 'id' por 'call_id'\n",
    "calls.rename(columns={'id':'call_id'}, inplace=True)\n",
    "calls.head()"
   ]
  },
  {
   "cell_type": "code",
   "execution_count": 26,
   "metadata": {},
   "outputs": [
    {
     "data": {
      "text/plain": [
       "0"
      ]
     },
     "execution_count": 26,
     "metadata": {},
     "output_type": "execute_result"
    }
   ],
   "source": [
    "calls.duplicated(subset=['call_id']).sum()"
   ]
  },
  {
   "cell_type": "code",
   "execution_count": 27,
   "metadata": {},
   "outputs": [
    {
     "data": {
      "text/html": [
       "<div>\n",
       "<style scoped>\n",
       "    .dataframe tbody tr th:only-of-type {\n",
       "        vertical-align: middle;\n",
       "    }\n",
       "\n",
       "    .dataframe tbody tr th {\n",
       "        vertical-align: top;\n",
       "    }\n",
       "\n",
       "    .dataframe thead th {\n",
       "        text-align: right;\n",
       "    }\n",
       "</style>\n",
       "<table border=\"1\" class=\"dataframe\">\n",
       "  <thead>\n",
       "    <tr style=\"text-align: right;\">\n",
       "      <th></th>\n",
       "      <th>user_id</th>\n",
       "      <th>duration</th>\n",
       "    </tr>\n",
       "  </thead>\n",
       "  <tbody>\n",
       "    <tr>\n",
       "      <th>count</th>\n",
       "      <td>137735.000000</td>\n",
       "      <td>137735.000000</td>\n",
       "    </tr>\n",
       "    <tr>\n",
       "      <th>mean</th>\n",
       "      <td>1247.658046</td>\n",
       "      <td>6.745927</td>\n",
       "    </tr>\n",
       "    <tr>\n",
       "      <th>std</th>\n",
       "      <td>139.416268</td>\n",
       "      <td>5.839241</td>\n",
       "    </tr>\n",
       "    <tr>\n",
       "      <th>min</th>\n",
       "      <td>1000.000000</td>\n",
       "      <td>0.000000</td>\n",
       "    </tr>\n",
       "    <tr>\n",
       "      <th>25%</th>\n",
       "      <td>1128.000000</td>\n",
       "      <td>1.290000</td>\n",
       "    </tr>\n",
       "    <tr>\n",
       "      <th>50%</th>\n",
       "      <td>1247.000000</td>\n",
       "      <td>5.980000</td>\n",
       "    </tr>\n",
       "    <tr>\n",
       "      <th>75%</th>\n",
       "      <td>1365.000000</td>\n",
       "      <td>10.690000</td>\n",
       "    </tr>\n",
       "    <tr>\n",
       "      <th>max</th>\n",
       "      <td>1499.000000</td>\n",
       "      <td>37.600000</td>\n",
       "    </tr>\n",
       "  </tbody>\n",
       "</table>\n",
       "</div>"
      ],
      "text/plain": [
       "             user_id       duration\n",
       "count  137735.000000  137735.000000\n",
       "mean     1247.658046       6.745927\n",
       "std       139.416268       5.839241\n",
       "min      1000.000000       0.000000\n",
       "25%      1128.000000       1.290000\n",
       "50%      1247.000000       5.980000\n",
       "75%      1365.000000      10.690000\n",
       "max      1499.000000      37.600000"
      ]
     },
     "execution_count": 27,
     "metadata": {},
     "output_type": "execute_result"
    }
   ],
   "source": [
    "calls.describe()"
   ]
  },
  {
   "cell_type": "code",
   "execution_count": 28,
   "metadata": {},
   "outputs": [
    {
     "name": "stdout",
     "output_type": "stream",
     "text": [
      "<class 'pandas.core.frame.DataFrame'>\n",
      "RangeIndex: 137735 entries, 0 to 137734\n",
      "Data columns (total 4 columns):\n",
      " #   Column     Non-Null Count   Dtype         \n",
      "---  ------     --------------   -----         \n",
      " 0   call_id    137735 non-null  object        \n",
      " 1   user_id    137735 non-null  int64         \n",
      " 2   call_date  137735 non-null  datetime64[ns]\n",
      " 3   duration   137735 non-null  float64       \n",
      "dtypes: datetime64[ns](1), float64(1), int64(1), object(1)\n",
      "memory usage: 4.2+ MB\n"
     ]
    }
   ],
   "source": [
    "# Se modifica el formato de la columna 'call_date' a formato de fecha:\n",
    "calls['call_date'] = pd.to_datetime(calls['call_date'], format='%Y-%m-%d')\n",
    "calls.info()"
   ]
  },
  {
   "cell_type": "code",
   "execution_count": 29,
   "metadata": {},
   "outputs": [
    {
     "data": {
      "text/html": [
       "<div>\n",
       "<style scoped>\n",
       "    .dataframe tbody tr th:only-of-type {\n",
       "        vertical-align: middle;\n",
       "    }\n",
       "\n",
       "    .dataframe tbody tr th {\n",
       "        vertical-align: top;\n",
       "    }\n",
       "\n",
       "    .dataframe thead th {\n",
       "        text-align: right;\n",
       "    }\n",
       "</style>\n",
       "<table border=\"1\" class=\"dataframe\">\n",
       "  <thead>\n",
       "    <tr style=\"text-align: right;\">\n",
       "      <th></th>\n",
       "      <th>call_id</th>\n",
       "      <th>user_id</th>\n",
       "      <th>call_date</th>\n",
       "      <th>duration</th>\n",
       "    </tr>\n",
       "  </thead>\n",
       "  <tbody>\n",
       "    <tr>\n",
       "      <th>0</th>\n",
       "      <td>1000_93</td>\n",
       "      <td>1000</td>\n",
       "      <td>2018-12-27</td>\n",
       "      <td>8.52</td>\n",
       "    </tr>\n",
       "    <tr>\n",
       "      <th>1</th>\n",
       "      <td>1000_145</td>\n",
       "      <td>1000</td>\n",
       "      <td>2018-12-27</td>\n",
       "      <td>13.66</td>\n",
       "    </tr>\n",
       "    <tr>\n",
       "      <th>2</th>\n",
       "      <td>1000_247</td>\n",
       "      <td>1000</td>\n",
       "      <td>2018-12-27</td>\n",
       "      <td>14.48</td>\n",
       "    </tr>\n",
       "    <tr>\n",
       "      <th>3</th>\n",
       "      <td>1000_309</td>\n",
       "      <td>1000</td>\n",
       "      <td>2018-12-28</td>\n",
       "      <td>5.76</td>\n",
       "    </tr>\n",
       "    <tr>\n",
       "      <th>4</th>\n",
       "      <td>1000_380</td>\n",
       "      <td>1000</td>\n",
       "      <td>2018-12-30</td>\n",
       "      <td>4.22</td>\n",
       "    </tr>\n",
       "  </tbody>\n",
       "</table>\n",
       "</div>"
      ],
      "text/plain": [
       "    call_id  user_id  call_date  duration\n",
       "0   1000_93     1000 2018-12-27      8.52\n",
       "1  1000_145     1000 2018-12-27     13.66\n",
       "2  1000_247     1000 2018-12-27     14.48\n",
       "3  1000_309     1000 2018-12-28      5.76\n",
       "4  1000_380     1000 2018-12-30      4.22"
      ]
     },
     "execution_count": 29,
     "metadata": {},
     "output_type": "execute_result"
    }
   ],
   "source": [
    "calls.head()"
   ]
  },
  {
   "cell_type": "code",
   "execution_count": 30,
   "metadata": {},
   "outputs": [
    {
     "name": "stdout",
     "output_type": "stream",
     "text": [
      "<class 'pandas.core.frame.DataFrame'>\n",
      "RangeIndex: 137735 entries, 0 to 137734\n",
      "Data columns (total 5 columns):\n",
      " #   Column     Non-Null Count   Dtype         \n",
      "---  ------     --------------   -----         \n",
      " 0   call_id    137735 non-null  object        \n",
      " 1   user_id    137735 non-null  int64         \n",
      " 2   call_date  137735 non-null  datetime64[ns]\n",
      " 3   duration   137735 non-null  float64       \n",
      " 4   month      137735 non-null  int64         \n",
      "dtypes: datetime64[ns](1), float64(1), int64(2), object(1)\n",
      "memory usage: 5.3+ MB\n"
     ]
    }
   ],
   "source": [
    "#se crea una columna 'month' para analizar mensualmente\n",
    "calls['month'] = pd.DatetimeIndex(calls['call_date']).month\n",
    "calls.info()"
   ]
  },
  {
   "cell_type": "code",
   "execution_count": 31,
   "metadata": {},
   "outputs": [
    {
     "data": {
      "text/html": [
       "<div>\n",
       "<style scoped>\n",
       "    .dataframe tbody tr th:only-of-type {\n",
       "        vertical-align: middle;\n",
       "    }\n",
       "\n",
       "    .dataframe tbody tr th {\n",
       "        vertical-align: top;\n",
       "    }\n",
       "\n",
       "    .dataframe thead th {\n",
       "        text-align: right;\n",
       "    }\n",
       "</style>\n",
       "<table border=\"1\" class=\"dataframe\">\n",
       "  <thead>\n",
       "    <tr style=\"text-align: right;\">\n",
       "      <th></th>\n",
       "      <th>call_id</th>\n",
       "      <th>user_id</th>\n",
       "      <th>call_date</th>\n",
       "      <th>duration</th>\n",
       "      <th>month</th>\n",
       "    </tr>\n",
       "  </thead>\n",
       "  <tbody>\n",
       "    <tr>\n",
       "      <th>0</th>\n",
       "      <td>1000_93</td>\n",
       "      <td>1000</td>\n",
       "      <td>2018-12-27</td>\n",
       "      <td>8.52</td>\n",
       "      <td>12</td>\n",
       "    </tr>\n",
       "    <tr>\n",
       "      <th>1</th>\n",
       "      <td>1000_145</td>\n",
       "      <td>1000</td>\n",
       "      <td>2018-12-27</td>\n",
       "      <td>13.66</td>\n",
       "      <td>12</td>\n",
       "    </tr>\n",
       "    <tr>\n",
       "      <th>2</th>\n",
       "      <td>1000_247</td>\n",
       "      <td>1000</td>\n",
       "      <td>2018-12-27</td>\n",
       "      <td>14.48</td>\n",
       "      <td>12</td>\n",
       "    </tr>\n",
       "    <tr>\n",
       "      <th>3</th>\n",
       "      <td>1000_309</td>\n",
       "      <td>1000</td>\n",
       "      <td>2018-12-28</td>\n",
       "      <td>5.76</td>\n",
       "      <td>12</td>\n",
       "    </tr>\n",
       "    <tr>\n",
       "      <th>4</th>\n",
       "      <td>1000_380</td>\n",
       "      <td>1000</td>\n",
       "      <td>2018-12-30</td>\n",
       "      <td>4.22</td>\n",
       "      <td>12</td>\n",
       "    </tr>\n",
       "  </tbody>\n",
       "</table>\n",
       "</div>"
      ],
      "text/plain": [
       "    call_id  user_id  call_date  duration  month\n",
       "0   1000_93     1000 2018-12-27      8.52     12\n",
       "1  1000_145     1000 2018-12-27     13.66     12\n",
       "2  1000_247     1000 2018-12-27     14.48     12\n",
       "3  1000_309     1000 2018-12-28      5.76     12\n",
       "4  1000_380     1000 2018-12-30      4.22     12"
      ]
     },
     "execution_count": 31,
     "metadata": {},
     "output_type": "execute_result"
    }
   ],
   "source": [
    "calls.head()"
   ]
  },
  {
   "cell_type": "code",
   "execution_count": 32,
   "metadata": {},
   "outputs": [],
   "source": [
    "#redondeo de la duracion de llamadas\n",
    "\n",
    "import math\n",
    "def redondeo_calls(duracion):\n",
    "    redondeo = math.ceil(duracion)\n",
    "    return redondeo"
   ]
  },
  {
   "cell_type": "code",
   "execution_count": 33,
   "metadata": {},
   "outputs": [],
   "source": [
    "calls['duracion_redondeada'] = calls['duration'].apply(redondeo_calls)"
   ]
  },
  {
   "cell_type": "code",
   "execution_count": 34,
   "metadata": {},
   "outputs": [
    {
     "data": {
      "text/html": [
       "<div>\n",
       "<style scoped>\n",
       "    .dataframe tbody tr th:only-of-type {\n",
       "        vertical-align: middle;\n",
       "    }\n",
       "\n",
       "    .dataframe tbody tr th {\n",
       "        vertical-align: top;\n",
       "    }\n",
       "\n",
       "    .dataframe thead th {\n",
       "        text-align: right;\n",
       "    }\n",
       "</style>\n",
       "<table border=\"1\" class=\"dataframe\">\n",
       "  <thead>\n",
       "    <tr style=\"text-align: right;\">\n",
       "      <th></th>\n",
       "      <th>call_id</th>\n",
       "      <th>user_id</th>\n",
       "      <th>call_date</th>\n",
       "      <th>duration</th>\n",
       "      <th>month</th>\n",
       "      <th>duracion_redondeada</th>\n",
       "    </tr>\n",
       "  </thead>\n",
       "  <tbody>\n",
       "    <tr>\n",
       "      <th>0</th>\n",
       "      <td>1000_93</td>\n",
       "      <td>1000</td>\n",
       "      <td>2018-12-27</td>\n",
       "      <td>8.52</td>\n",
       "      <td>12</td>\n",
       "      <td>9</td>\n",
       "    </tr>\n",
       "    <tr>\n",
       "      <th>1</th>\n",
       "      <td>1000_145</td>\n",
       "      <td>1000</td>\n",
       "      <td>2018-12-27</td>\n",
       "      <td>13.66</td>\n",
       "      <td>12</td>\n",
       "      <td>14</td>\n",
       "    </tr>\n",
       "    <tr>\n",
       "      <th>2</th>\n",
       "      <td>1000_247</td>\n",
       "      <td>1000</td>\n",
       "      <td>2018-12-27</td>\n",
       "      <td>14.48</td>\n",
       "      <td>12</td>\n",
       "      <td>15</td>\n",
       "    </tr>\n",
       "    <tr>\n",
       "      <th>3</th>\n",
       "      <td>1000_309</td>\n",
       "      <td>1000</td>\n",
       "      <td>2018-12-28</td>\n",
       "      <td>5.76</td>\n",
       "      <td>12</td>\n",
       "      <td>6</td>\n",
       "    </tr>\n",
       "    <tr>\n",
       "      <th>4</th>\n",
       "      <td>1000_380</td>\n",
       "      <td>1000</td>\n",
       "      <td>2018-12-30</td>\n",
       "      <td>4.22</td>\n",
       "      <td>12</td>\n",
       "      <td>5</td>\n",
       "    </tr>\n",
       "  </tbody>\n",
       "</table>\n",
       "</div>"
      ],
      "text/plain": [
       "    call_id  user_id  call_date  duration  month  duracion_redondeada\n",
       "0   1000_93     1000 2018-12-27      8.52     12                    9\n",
       "1  1000_145     1000 2018-12-27     13.66     12                   14\n",
       "2  1000_247     1000 2018-12-27     14.48     12                   15\n",
       "3  1000_309     1000 2018-12-28      5.76     12                    6\n",
       "4  1000_380     1000 2018-12-30      4.22     12                    5"
      ]
     },
     "execution_count": 34,
     "metadata": {},
     "output_type": "execute_result"
    }
   ],
   "source": [
    "calls.head()"
   ]
  },
  {
   "cell_type": "code",
   "execution_count": null,
   "metadata": {},
   "outputs": [],
   "source": []
  },
  {
   "cell_type": "markdown",
   "metadata": {
    "id": "mOUZSi180q0_"
   },
   "source": [
    "## Mensajes"
   ]
  },
  {
   "cell_type": "code",
   "execution_count": 35,
   "metadata": {
    "id": "R-bYJpdV0q1A",
    "scrolled": true
   },
   "outputs": [
    {
     "name": "stdout",
     "output_type": "stream",
     "text": [
      "<class 'pandas.core.frame.DataFrame'>\n",
      "RangeIndex: 76051 entries, 0 to 76050\n",
      "Data columns (total 3 columns):\n",
      " #   Column        Non-Null Count  Dtype \n",
      "---  ------        --------------  ----- \n",
      " 0   id            76051 non-null  object\n",
      " 1   user_id       76051 non-null  int64 \n",
      " 2   message_date  76051 non-null  object\n",
      "dtypes: int64(1), object(2)\n",
      "memory usage: 1.7+ MB\n"
     ]
    }
   ],
   "source": [
    "# Imprime la información general/resumida sobre el DataFrame de los mensajes\n",
    "\n",
    "messages.info()"
   ]
  },
  {
   "cell_type": "code",
   "execution_count": 36,
   "metadata": {
    "id": "mCEl2iGE0q1A"
   },
   "outputs": [
    {
     "data": {
      "text/html": [
       "<div>\n",
       "<style scoped>\n",
       "    .dataframe tbody tr th:only-of-type {\n",
       "        vertical-align: middle;\n",
       "    }\n",
       "\n",
       "    .dataframe tbody tr th {\n",
       "        vertical-align: top;\n",
       "    }\n",
       "\n",
       "    .dataframe thead th {\n",
       "        text-align: right;\n",
       "    }\n",
       "</style>\n",
       "<table border=\"1\" class=\"dataframe\">\n",
       "  <thead>\n",
       "    <tr style=\"text-align: right;\">\n",
       "      <th></th>\n",
       "      <th>id</th>\n",
       "      <th>user_id</th>\n",
       "      <th>message_date</th>\n",
       "    </tr>\n",
       "  </thead>\n",
       "  <tbody>\n",
       "    <tr>\n",
       "      <th>0</th>\n",
       "      <td>1000_125</td>\n",
       "      <td>1000</td>\n",
       "      <td>2018-12-27</td>\n",
       "    </tr>\n",
       "    <tr>\n",
       "      <th>1</th>\n",
       "      <td>1000_160</td>\n",
       "      <td>1000</td>\n",
       "      <td>2018-12-31</td>\n",
       "    </tr>\n",
       "    <tr>\n",
       "      <th>2</th>\n",
       "      <td>1000_223</td>\n",
       "      <td>1000</td>\n",
       "      <td>2018-12-31</td>\n",
       "    </tr>\n",
       "    <tr>\n",
       "      <th>3</th>\n",
       "      <td>1000_251</td>\n",
       "      <td>1000</td>\n",
       "      <td>2018-12-27</td>\n",
       "    </tr>\n",
       "    <tr>\n",
       "      <th>4</th>\n",
       "      <td>1000_255</td>\n",
       "      <td>1000</td>\n",
       "      <td>2018-12-26</td>\n",
       "    </tr>\n",
       "  </tbody>\n",
       "</table>\n",
       "</div>"
      ],
      "text/plain": [
       "         id  user_id message_date\n",
       "0  1000_125     1000   2018-12-27\n",
       "1  1000_160     1000   2018-12-31\n",
       "2  1000_223     1000   2018-12-31\n",
       "3  1000_251     1000   2018-12-27\n",
       "4  1000_255     1000   2018-12-26"
      ]
     },
     "execution_count": 36,
     "metadata": {},
     "output_type": "execute_result"
    }
   ],
   "source": [
    "# Imprime una muestra de datos para los mensajes\n",
    "\n",
    "messages.head()"
   ]
  },
  {
   "cell_type": "markdown",
   "metadata": {
    "id": "04xDj7KH0q1A"
   },
   "source": [
    "[Describe lo que ves y observas en la información general y en la muestra de datos impresa para el precio de datos anterior. ¿Hay algún problema (tipos de datos no adecuados, datos ausentes, etc.) que pudieran necesitar investigación y cambios adicionales? ¿Cómo se puede arreglar?]"
   ]
  },
  {
   "cell_type": "markdown",
   "metadata": {
    "id": "Sprfak900q1B"
   },
   "source": [
    "### Corregir los datos"
   ]
  },
  {
   "cell_type": "markdown",
   "metadata": {
    "id": "eGw7d9j10q1B"
   },
   "source": [
    "[Corrige los problemas obvios con los datos basándote en las observaciones iniciales.]"
   ]
  },
  {
   "cell_type": "code",
   "execution_count": 37,
   "metadata": {
    "id": "vsllvkoa0q1B"
   },
   "outputs": [
    {
     "data": {
      "text/plain": [
       "0"
      ]
     },
     "execution_count": 37,
     "metadata": {},
     "output_type": "execute_result"
    }
   ],
   "source": [
    "messages.duplicated().sum()"
   ]
  },
  {
   "cell_type": "code",
   "execution_count": 38,
   "metadata": {},
   "outputs": [
    {
     "data": {
      "text/plain": [
       "id              0\n",
       "user_id         0\n",
       "message_date    0\n",
       "dtype: int64"
      ]
     },
     "execution_count": 38,
     "metadata": {},
     "output_type": "execute_result"
    }
   ],
   "source": [
    "messages.isnull().sum()"
   ]
  },
  {
   "cell_type": "markdown",
   "metadata": {
    "id": "HvLid7iD0q1B"
   },
   "source": [
    "### Enriquecer los datos"
   ]
  },
  {
   "cell_type": "markdown",
   "metadata": {
    "id": "8nhPFKIe0q1C"
   },
   "source": [
    "[Agrega factores adicionales a los datos si crees que pudieran ser útiles.]"
   ]
  },
  {
   "cell_type": "code",
   "execution_count": 39,
   "metadata": {
    "id": "zYEXZac10q1C"
   },
   "outputs": [],
   "source": [
    "#Se modifica el formato de la columna 'message_date' a formato fecha y se crea la columna del mes 'month'\n",
    "\n",
    "messages['message_date'] = pd.to_datetime(messages['message_date'], format='%Y-%m-%d')\n",
    "messages['month'] = pd.DatetimeIndex(messages['message_date']).month"
   ]
  },
  {
   "cell_type": "code",
   "execution_count": 40,
   "metadata": {},
   "outputs": [
    {
     "name": "stdout",
     "output_type": "stream",
     "text": [
      "<class 'pandas.core.frame.DataFrame'>\n",
      "RangeIndex: 76051 entries, 0 to 76050\n",
      "Data columns (total 4 columns):\n",
      " #   Column        Non-Null Count  Dtype         \n",
      "---  ------        --------------  -----         \n",
      " 0   id            76051 non-null  object        \n",
      " 1   user_id       76051 non-null  int64         \n",
      " 2   message_date  76051 non-null  datetime64[ns]\n",
      " 3   month         76051 non-null  int64         \n",
      "dtypes: datetime64[ns](1), int64(2), object(1)\n",
      "memory usage: 2.3+ MB\n"
     ]
    }
   ],
   "source": [
    "messages.info()"
   ]
  },
  {
   "cell_type": "code",
   "execution_count": 41,
   "metadata": {},
   "outputs": [
    {
     "data": {
      "text/html": [
       "<div>\n",
       "<style scoped>\n",
       "    .dataframe tbody tr th:only-of-type {\n",
       "        vertical-align: middle;\n",
       "    }\n",
       "\n",
       "    .dataframe tbody tr th {\n",
       "        vertical-align: top;\n",
       "    }\n",
       "\n",
       "    .dataframe thead th {\n",
       "        text-align: right;\n",
       "    }\n",
       "</style>\n",
       "<table border=\"1\" class=\"dataframe\">\n",
       "  <thead>\n",
       "    <tr style=\"text-align: right;\">\n",
       "      <th></th>\n",
       "      <th>id</th>\n",
       "      <th>user_id</th>\n",
       "      <th>message_date</th>\n",
       "      <th>month</th>\n",
       "    </tr>\n",
       "  </thead>\n",
       "  <tbody>\n",
       "    <tr>\n",
       "      <th>0</th>\n",
       "      <td>1000_125</td>\n",
       "      <td>1000</td>\n",
       "      <td>2018-12-27</td>\n",
       "      <td>12</td>\n",
       "    </tr>\n",
       "    <tr>\n",
       "      <th>1</th>\n",
       "      <td>1000_160</td>\n",
       "      <td>1000</td>\n",
       "      <td>2018-12-31</td>\n",
       "      <td>12</td>\n",
       "    </tr>\n",
       "    <tr>\n",
       "      <th>2</th>\n",
       "      <td>1000_223</td>\n",
       "      <td>1000</td>\n",
       "      <td>2018-12-31</td>\n",
       "      <td>12</td>\n",
       "    </tr>\n",
       "    <tr>\n",
       "      <th>3</th>\n",
       "      <td>1000_251</td>\n",
       "      <td>1000</td>\n",
       "      <td>2018-12-27</td>\n",
       "      <td>12</td>\n",
       "    </tr>\n",
       "    <tr>\n",
       "      <th>4</th>\n",
       "      <td>1000_255</td>\n",
       "      <td>1000</td>\n",
       "      <td>2018-12-26</td>\n",
       "      <td>12</td>\n",
       "    </tr>\n",
       "  </tbody>\n",
       "</table>\n",
       "</div>"
      ],
      "text/plain": [
       "         id  user_id message_date  month\n",
       "0  1000_125     1000   2018-12-27     12\n",
       "1  1000_160     1000   2018-12-31     12\n",
       "2  1000_223     1000   2018-12-31     12\n",
       "3  1000_251     1000   2018-12-27     12\n",
       "4  1000_255     1000   2018-12-26     12"
      ]
     },
     "execution_count": 41,
     "metadata": {},
     "output_type": "execute_result"
    }
   ],
   "source": [
    "messages.head()"
   ]
  },
  {
   "cell_type": "code",
   "execution_count": 42,
   "metadata": {},
   "outputs": [
    {
     "data": {
      "text/plain": [
       "42808"
      ]
     },
     "execution_count": 42,
     "metadata": {},
     "output_type": "execute_result"
    }
   ],
   "source": [
    "messages.duplicated(subset=['user_id', 'message_date']).sum()"
   ]
  },
  {
   "cell_type": "code",
   "execution_count": 43,
   "metadata": {},
   "outputs": [],
   "source": [
    "##Estos duplicados son normales por la naturaleza de la columna, ya que una fila representa solo un mensaje "
   ]
  },
  {
   "cell_type": "code",
   "execution_count": 44,
   "metadata": {},
   "outputs": [
    {
     "data": {
      "text/html": [
       "<div>\n",
       "<style scoped>\n",
       "    .dataframe tbody tr th:only-of-type {\n",
       "        vertical-align: middle;\n",
       "    }\n",
       "\n",
       "    .dataframe tbody tr th {\n",
       "        vertical-align: top;\n",
       "    }\n",
       "\n",
       "    .dataframe thead th {\n",
       "        text-align: right;\n",
       "    }\n",
       "</style>\n",
       "<table border=\"1\" class=\"dataframe\">\n",
       "  <thead>\n",
       "    <tr style=\"text-align: right;\">\n",
       "      <th></th>\n",
       "      <th>messages_id</th>\n",
       "      <th>user_id</th>\n",
       "      <th>message_date</th>\n",
       "      <th>month</th>\n",
       "    </tr>\n",
       "  </thead>\n",
       "  <tbody>\n",
       "    <tr>\n",
       "      <th>0</th>\n",
       "      <td>1000_125</td>\n",
       "      <td>1000</td>\n",
       "      <td>2018-12-27</td>\n",
       "      <td>12</td>\n",
       "    </tr>\n",
       "    <tr>\n",
       "      <th>1</th>\n",
       "      <td>1000_160</td>\n",
       "      <td>1000</td>\n",
       "      <td>2018-12-31</td>\n",
       "      <td>12</td>\n",
       "    </tr>\n",
       "    <tr>\n",
       "      <th>2</th>\n",
       "      <td>1000_223</td>\n",
       "      <td>1000</td>\n",
       "      <td>2018-12-31</td>\n",
       "      <td>12</td>\n",
       "    </tr>\n",
       "    <tr>\n",
       "      <th>3</th>\n",
       "      <td>1000_251</td>\n",
       "      <td>1000</td>\n",
       "      <td>2018-12-27</td>\n",
       "      <td>12</td>\n",
       "    </tr>\n",
       "    <tr>\n",
       "      <th>4</th>\n",
       "      <td>1000_255</td>\n",
       "      <td>1000</td>\n",
       "      <td>2018-12-26</td>\n",
       "      <td>12</td>\n",
       "    </tr>\n",
       "  </tbody>\n",
       "</table>\n",
       "</div>"
      ],
      "text/plain": [
       "  messages_id  user_id message_date  month\n",
       "0    1000_125     1000   2018-12-27     12\n",
       "1    1000_160     1000   2018-12-31     12\n",
       "2    1000_223     1000   2018-12-31     12\n",
       "3    1000_251     1000   2018-12-27     12\n",
       "4    1000_255     1000   2018-12-26     12"
      ]
     },
     "execution_count": 44,
     "metadata": {},
     "output_type": "execute_result"
    }
   ],
   "source": [
    "##renombrar la columna 'id' por 'message_id'\n",
    "\n",
    "messages.rename(columns={'id':'messages_id'}, inplace=True)\n",
    "messages.head()"
   ]
  },
  {
   "cell_type": "markdown",
   "metadata": {
    "id": "bStkaxn40q1C"
   },
   "source": [
    "## Internet"
   ]
  },
  {
   "cell_type": "code",
   "execution_count": 45,
   "metadata": {
    "id": "e-Uz5qyn0q1C"
   },
   "outputs": [
    {
     "name": "stdout",
     "output_type": "stream",
     "text": [
      "<class 'pandas.core.frame.DataFrame'>\n",
      "RangeIndex: 104825 entries, 0 to 104824\n",
      "Data columns (total 4 columns):\n",
      " #   Column        Non-Null Count   Dtype  \n",
      "---  ------        --------------   -----  \n",
      " 0   id            104825 non-null  object \n",
      " 1   user_id       104825 non-null  int64  \n",
      " 2   session_date  104825 non-null  object \n",
      " 3   mb_used       104825 non-null  float64\n",
      "dtypes: float64(1), int64(1), object(2)\n",
      "memory usage: 3.2+ MB\n"
     ]
    }
   ],
   "source": [
    "# Imprime la información general/resumida sobre el DataFrame de internet\n",
    "\n",
    "internet.info()"
   ]
  },
  {
   "cell_type": "code",
   "execution_count": 46,
   "metadata": {
    "id": "9r3x_XLw0q1C"
   },
   "outputs": [
    {
     "data": {
      "text/html": [
       "<div>\n",
       "<style scoped>\n",
       "    .dataframe tbody tr th:only-of-type {\n",
       "        vertical-align: middle;\n",
       "    }\n",
       "\n",
       "    .dataframe tbody tr th {\n",
       "        vertical-align: top;\n",
       "    }\n",
       "\n",
       "    .dataframe thead th {\n",
       "        text-align: right;\n",
       "    }\n",
       "</style>\n",
       "<table border=\"1\" class=\"dataframe\">\n",
       "  <thead>\n",
       "    <tr style=\"text-align: right;\">\n",
       "      <th></th>\n",
       "      <th>id</th>\n",
       "      <th>user_id</th>\n",
       "      <th>session_date</th>\n",
       "      <th>mb_used</th>\n",
       "    </tr>\n",
       "  </thead>\n",
       "  <tbody>\n",
       "    <tr>\n",
       "      <th>0</th>\n",
       "      <td>1000_13</td>\n",
       "      <td>1000</td>\n",
       "      <td>2018-12-29</td>\n",
       "      <td>89.86</td>\n",
       "    </tr>\n",
       "    <tr>\n",
       "      <th>1</th>\n",
       "      <td>1000_204</td>\n",
       "      <td>1000</td>\n",
       "      <td>2018-12-31</td>\n",
       "      <td>0.00</td>\n",
       "    </tr>\n",
       "    <tr>\n",
       "      <th>2</th>\n",
       "      <td>1000_379</td>\n",
       "      <td>1000</td>\n",
       "      <td>2018-12-28</td>\n",
       "      <td>660.40</td>\n",
       "    </tr>\n",
       "    <tr>\n",
       "      <th>3</th>\n",
       "      <td>1000_413</td>\n",
       "      <td>1000</td>\n",
       "      <td>2018-12-26</td>\n",
       "      <td>270.99</td>\n",
       "    </tr>\n",
       "    <tr>\n",
       "      <th>4</th>\n",
       "      <td>1000_442</td>\n",
       "      <td>1000</td>\n",
       "      <td>2018-12-27</td>\n",
       "      <td>880.22</td>\n",
       "    </tr>\n",
       "  </tbody>\n",
       "</table>\n",
       "</div>"
      ],
      "text/plain": [
       "         id  user_id session_date  mb_used\n",
       "0   1000_13     1000   2018-12-29    89.86\n",
       "1  1000_204     1000   2018-12-31     0.00\n",
       "2  1000_379     1000   2018-12-28   660.40\n",
       "3  1000_413     1000   2018-12-26   270.99\n",
       "4  1000_442     1000   2018-12-27   880.22"
      ]
     },
     "execution_count": 46,
     "metadata": {},
     "output_type": "execute_result"
    }
   ],
   "source": [
    "# Imprime una muestra de datos para el tráfico de internet\n",
    "\n",
    "internet.head()"
   ]
  },
  {
   "cell_type": "markdown",
   "metadata": {
    "id": "EzOG5ik30q1D"
   },
   "source": [
    "[Describe lo que ves y observas en la información general y en la muestra de datos impresa para el precio de datos anterior. ¿Hay algún problema (tipos de datos no adecuados, datos ausentes, etc.) que pudieran necesitar investigación y cambios adicionales? ¿Cómo se puede arreglar?]"
   ]
  },
  {
   "cell_type": "markdown",
   "metadata": {
    "id": "yA0tkPFg0q1D"
   },
   "source": [
    "### Corregir los datos"
   ]
  },
  {
   "cell_type": "markdown",
   "metadata": {
    "id": "zlZMuIEK0q1D"
   },
   "source": [
    "[Corrige los problemas obvios con los datos basándote en las observaciones iniciales.]"
   ]
  },
  {
   "cell_type": "code",
   "execution_count": 47,
   "metadata": {
    "id": "zVeanzdd0q1E"
   },
   "outputs": [
    {
     "data": {
      "text/plain": [
       "0"
      ]
     },
     "execution_count": 47,
     "metadata": {},
     "output_type": "execute_result"
    }
   ],
   "source": [
    "internet.duplicated().sum()"
   ]
  },
  {
   "cell_type": "code",
   "execution_count": 48,
   "metadata": {},
   "outputs": [
    {
     "data": {
      "text/plain": [
       "id              0\n",
       "user_id         0\n",
       "session_date    0\n",
       "mb_used         0\n",
       "dtype: int64"
      ]
     },
     "execution_count": 48,
     "metadata": {},
     "output_type": "execute_result"
    }
   ],
   "source": [
    "internet.isnull().sum()"
   ]
  },
  {
   "cell_type": "markdown",
   "metadata": {
    "id": "e8_mLF4a0q1E"
   },
   "source": [
    "### Enriquecer los datos"
   ]
  },
  {
   "cell_type": "markdown",
   "metadata": {
    "id": "xhNdn2tE0q1E"
   },
   "source": [
    "[Agrega factores adicionales a los datos si crees que pudieran ser útiles.]"
   ]
  },
  {
   "cell_type": "code",
   "execution_count": 49,
   "metadata": {
    "id": "ESiYPIEK0q1E"
   },
   "outputs": [],
   "source": [
    "#Se modifica el formato de la columna 'session_date' a formato fecha\n",
    "internet['session_date'] = pd.to_datetime(internet['session_date'], format='%Y-%m-%d')\n",
    "internet['month'] = pd.DatetimeIndex(internet['session_date']).month"
   ]
  },
  {
   "cell_type": "code",
   "execution_count": 50,
   "metadata": {},
   "outputs": [
    {
     "name": "stdout",
     "output_type": "stream",
     "text": [
      "<class 'pandas.core.frame.DataFrame'>\n",
      "RangeIndex: 104825 entries, 0 to 104824\n",
      "Data columns (total 5 columns):\n",
      " #   Column        Non-Null Count   Dtype         \n",
      "---  ------        --------------   -----         \n",
      " 0   id            104825 non-null  object        \n",
      " 1   user_id       104825 non-null  int64         \n",
      " 2   session_date  104825 non-null  datetime64[ns]\n",
      " 3   mb_used       104825 non-null  float64       \n",
      " 4   month         104825 non-null  int64         \n",
      "dtypes: datetime64[ns](1), float64(1), int64(2), object(1)\n",
      "memory usage: 4.0+ MB\n"
     ]
    }
   ],
   "source": [
    "internet.info()"
   ]
  },
  {
   "cell_type": "code",
   "execution_count": 51,
   "metadata": {},
   "outputs": [
    {
     "data": {
      "text/html": [
       "<div>\n",
       "<style scoped>\n",
       "    .dataframe tbody tr th:only-of-type {\n",
       "        vertical-align: middle;\n",
       "    }\n",
       "\n",
       "    .dataframe tbody tr th {\n",
       "        vertical-align: top;\n",
       "    }\n",
       "\n",
       "    .dataframe thead th {\n",
       "        text-align: right;\n",
       "    }\n",
       "</style>\n",
       "<table border=\"1\" class=\"dataframe\">\n",
       "  <thead>\n",
       "    <tr style=\"text-align: right;\">\n",
       "      <th></th>\n",
       "      <th>id</th>\n",
       "      <th>user_id</th>\n",
       "      <th>session_date</th>\n",
       "      <th>mb_used</th>\n",
       "      <th>month</th>\n",
       "    </tr>\n",
       "  </thead>\n",
       "  <tbody>\n",
       "    <tr>\n",
       "      <th>0</th>\n",
       "      <td>1000_13</td>\n",
       "      <td>1000</td>\n",
       "      <td>2018-12-29</td>\n",
       "      <td>89.86</td>\n",
       "      <td>12</td>\n",
       "    </tr>\n",
       "    <tr>\n",
       "      <th>1</th>\n",
       "      <td>1000_204</td>\n",
       "      <td>1000</td>\n",
       "      <td>2018-12-31</td>\n",
       "      <td>0.00</td>\n",
       "      <td>12</td>\n",
       "    </tr>\n",
       "    <tr>\n",
       "      <th>2</th>\n",
       "      <td>1000_379</td>\n",
       "      <td>1000</td>\n",
       "      <td>2018-12-28</td>\n",
       "      <td>660.40</td>\n",
       "      <td>12</td>\n",
       "    </tr>\n",
       "    <tr>\n",
       "      <th>3</th>\n",
       "      <td>1000_413</td>\n",
       "      <td>1000</td>\n",
       "      <td>2018-12-26</td>\n",
       "      <td>270.99</td>\n",
       "      <td>12</td>\n",
       "    </tr>\n",
       "    <tr>\n",
       "      <th>4</th>\n",
       "      <td>1000_442</td>\n",
       "      <td>1000</td>\n",
       "      <td>2018-12-27</td>\n",
       "      <td>880.22</td>\n",
       "      <td>12</td>\n",
       "    </tr>\n",
       "  </tbody>\n",
       "</table>\n",
       "</div>"
      ],
      "text/plain": [
       "         id  user_id session_date  mb_used  month\n",
       "0   1000_13     1000   2018-12-29    89.86     12\n",
       "1  1000_204     1000   2018-12-31     0.00     12\n",
       "2  1000_379     1000   2018-12-28   660.40     12\n",
       "3  1000_413     1000   2018-12-26   270.99     12\n",
       "4  1000_442     1000   2018-12-27   880.22     12"
      ]
     },
     "execution_count": 51,
     "metadata": {},
     "output_type": "execute_result"
    }
   ],
   "source": [
    "internet.head()"
   ]
  },
  {
   "cell_type": "code",
   "execution_count": 52,
   "metadata": {},
   "outputs": [
    {
     "data": {
      "text/html": [
       "<div>\n",
       "<style scoped>\n",
       "    .dataframe tbody tr th:only-of-type {\n",
       "        vertical-align: middle;\n",
       "    }\n",
       "\n",
       "    .dataframe tbody tr th {\n",
       "        vertical-align: top;\n",
       "    }\n",
       "\n",
       "    .dataframe thead th {\n",
       "        text-align: right;\n",
       "    }\n",
       "</style>\n",
       "<table border=\"1\" class=\"dataframe\">\n",
       "  <thead>\n",
       "    <tr style=\"text-align: right;\">\n",
       "      <th></th>\n",
       "      <th>user_id</th>\n",
       "      <th>mb_used</th>\n",
       "      <th>month</th>\n",
       "    </tr>\n",
       "  </thead>\n",
       "  <tbody>\n",
       "    <tr>\n",
       "      <th>count</th>\n",
       "      <td>104825.000000</td>\n",
       "      <td>104825.000000</td>\n",
       "      <td>104825.000000</td>\n",
       "    </tr>\n",
       "    <tr>\n",
       "      <th>mean</th>\n",
       "      <td>1242.496361</td>\n",
       "      <td>366.713701</td>\n",
       "      <td>9.342552</td>\n",
       "    </tr>\n",
       "    <tr>\n",
       "      <th>std</th>\n",
       "      <td>142.053913</td>\n",
       "      <td>277.170542</td>\n",
       "      <td>2.400404</td>\n",
       "    </tr>\n",
       "    <tr>\n",
       "      <th>min</th>\n",
       "      <td>1000.000000</td>\n",
       "      <td>0.000000</td>\n",
       "      <td>1.000000</td>\n",
       "    </tr>\n",
       "    <tr>\n",
       "      <th>25%</th>\n",
       "      <td>1122.000000</td>\n",
       "      <td>136.080000</td>\n",
       "      <td>8.000000</td>\n",
       "    </tr>\n",
       "    <tr>\n",
       "      <th>50%</th>\n",
       "      <td>1236.000000</td>\n",
       "      <td>343.980000</td>\n",
       "      <td>10.000000</td>\n",
       "    </tr>\n",
       "    <tr>\n",
       "      <th>75%</th>\n",
       "      <td>1367.000000</td>\n",
       "      <td>554.610000</td>\n",
       "      <td>11.000000</td>\n",
       "    </tr>\n",
       "    <tr>\n",
       "      <th>max</th>\n",
       "      <td>1499.000000</td>\n",
       "      <td>1693.470000</td>\n",
       "      <td>12.000000</td>\n",
       "    </tr>\n",
       "  </tbody>\n",
       "</table>\n",
       "</div>"
      ],
      "text/plain": [
       "             user_id        mb_used          month\n",
       "count  104825.000000  104825.000000  104825.000000\n",
       "mean     1242.496361     366.713701       9.342552\n",
       "std       142.053913     277.170542       2.400404\n",
       "min      1000.000000       0.000000       1.000000\n",
       "25%      1122.000000     136.080000       8.000000\n",
       "50%      1236.000000     343.980000      10.000000\n",
       "75%      1367.000000     554.610000      11.000000\n",
       "max      1499.000000    1693.470000      12.000000"
      ]
     },
     "execution_count": 52,
     "metadata": {},
     "output_type": "execute_result"
    }
   ],
   "source": [
    "internet.describe()"
   ]
  },
  {
   "cell_type": "code",
   "execution_count": 53,
   "metadata": {},
   "outputs": [
    {
     "data": {
      "text/plain": [
       "13747"
      ]
     },
     "execution_count": 53,
     "metadata": {},
     "output_type": "execute_result"
    }
   ],
   "source": [
    "#Cual es el porcentaje de mis datos que no usan megas de internet\n",
    "#filtramos la columna 'mb_used'\n",
    "len(internet.query('mb_used == 0'))"
   ]
  },
  {
   "cell_type": "code",
   "execution_count": 54,
   "metadata": {},
   "outputs": [
    {
     "data": {
      "text/plain": [
       "13.11423801574052"
      ]
     },
     "execution_count": 54,
     "metadata": {},
     "output_type": "execute_result"
    }
   ],
   "source": [
    "#Cual es el porcentaje de los uruarios que no usan megas:\n",
    "(len(internet.query('mb_used == 0'))/len(internet))*100"
   ]
  },
  {
   "cell_type": "code",
   "execution_count": 55,
   "metadata": {},
   "outputs": [],
   "source": [
    "## eso quiero decir que hay una oortunidad de negocio para ese 13% de la los usuarios y así incentivar las ventas "
   ]
  },
  {
   "cell_type": "code",
   "execution_count": 56,
   "metadata": {},
   "outputs": [
    {
     "data": {
      "text/html": [
       "<div>\n",
       "<style scoped>\n",
       "    .dataframe tbody tr th:only-of-type {\n",
       "        vertical-align: middle;\n",
       "    }\n",
       "\n",
       "    .dataframe tbody tr th {\n",
       "        vertical-align: top;\n",
       "    }\n",
       "\n",
       "    .dataframe thead th {\n",
       "        text-align: right;\n",
       "    }\n",
       "</style>\n",
       "<table border=\"1\" class=\"dataframe\">\n",
       "  <thead>\n",
       "    <tr style=\"text-align: right;\">\n",
       "      <th></th>\n",
       "      <th>internet_id</th>\n",
       "      <th>user_id</th>\n",
       "      <th>session_date</th>\n",
       "      <th>mb_used</th>\n",
       "      <th>month</th>\n",
       "    </tr>\n",
       "  </thead>\n",
       "  <tbody>\n",
       "    <tr>\n",
       "      <th>0</th>\n",
       "      <td>1000_13</td>\n",
       "      <td>1000</td>\n",
       "      <td>2018-12-29</td>\n",
       "      <td>89.86</td>\n",
       "      <td>12</td>\n",
       "    </tr>\n",
       "    <tr>\n",
       "      <th>1</th>\n",
       "      <td>1000_204</td>\n",
       "      <td>1000</td>\n",
       "      <td>2018-12-31</td>\n",
       "      <td>0.00</td>\n",
       "      <td>12</td>\n",
       "    </tr>\n",
       "    <tr>\n",
       "      <th>2</th>\n",
       "      <td>1000_379</td>\n",
       "      <td>1000</td>\n",
       "      <td>2018-12-28</td>\n",
       "      <td>660.40</td>\n",
       "      <td>12</td>\n",
       "    </tr>\n",
       "    <tr>\n",
       "      <th>3</th>\n",
       "      <td>1000_413</td>\n",
       "      <td>1000</td>\n",
       "      <td>2018-12-26</td>\n",
       "      <td>270.99</td>\n",
       "      <td>12</td>\n",
       "    </tr>\n",
       "    <tr>\n",
       "      <th>4</th>\n",
       "      <td>1000_442</td>\n",
       "      <td>1000</td>\n",
       "      <td>2018-12-27</td>\n",
       "      <td>880.22</td>\n",
       "      <td>12</td>\n",
       "    </tr>\n",
       "  </tbody>\n",
       "</table>\n",
       "</div>"
      ],
      "text/plain": [
       "  internet_id  user_id session_date  mb_used  month\n",
       "0     1000_13     1000   2018-12-29    89.86     12\n",
       "1    1000_204     1000   2018-12-31     0.00     12\n",
       "2    1000_379     1000   2018-12-28   660.40     12\n",
       "3    1000_413     1000   2018-12-26   270.99     12\n",
       "4    1000_442     1000   2018-12-27   880.22     12"
      ]
     },
     "execution_count": 56,
     "metadata": {},
     "output_type": "execute_result"
    }
   ],
   "source": [
    "internet.rename(columns={'id':'internet_id'}, inplace=True)\n",
    "internet.head()"
   ]
  },
  {
   "cell_type": "markdown",
   "metadata": {
    "id": "3UA2cqIW0q1E"
   },
   "source": [
    "## Estudiar las condiciones de las tarifas"
   ]
  },
  {
   "cell_type": "markdown",
   "metadata": {
    "id": "T86Sqltq0q1F"
   },
   "source": [
    "[Es sumamente importante entender cómo funcionan las tarifas, cómo se les cobra a los usuarios en función de su plan de suscripción. Así que te sugerimos imprimir la información de la tarifa para ver una vez más sus condiciones.]"
   ]
  },
  {
   "cell_type": "code",
   "execution_count": 57,
   "metadata": {
    "id": "i409op8p0q1F"
   },
   "outputs": [
    {
     "data": {
      "text/html": [
       "<div>\n",
       "<style scoped>\n",
       "    .dataframe tbody tr th:only-of-type {\n",
       "        vertical-align: middle;\n",
       "    }\n",
       "\n",
       "    .dataframe tbody tr th {\n",
       "        vertical-align: top;\n",
       "    }\n",
       "\n",
       "    .dataframe thead th {\n",
       "        text-align: right;\n",
       "    }\n",
       "</style>\n",
       "<table border=\"1\" class=\"dataframe\">\n",
       "  <thead>\n",
       "    <tr style=\"text-align: right;\">\n",
       "      <th></th>\n",
       "      <th>messages_included</th>\n",
       "      <th>mb_per_month_included</th>\n",
       "      <th>minutes_included</th>\n",
       "      <th>usd_monthly_pay</th>\n",
       "      <th>usd_per_gb</th>\n",
       "      <th>usd_per_message</th>\n",
       "      <th>usd_per_minute</th>\n",
       "      <th>plan_name</th>\n",
       "    </tr>\n",
       "  </thead>\n",
       "  <tbody>\n",
       "    <tr>\n",
       "      <th>0</th>\n",
       "      <td>50</td>\n",
       "      <td>15360</td>\n",
       "      <td>500</td>\n",
       "      <td>20</td>\n",
       "      <td>10</td>\n",
       "      <td>0.03</td>\n",
       "      <td>0.03</td>\n",
       "      <td>surf</td>\n",
       "    </tr>\n",
       "    <tr>\n",
       "      <th>1</th>\n",
       "      <td>1000</td>\n",
       "      <td>30720</td>\n",
       "      <td>3000</td>\n",
       "      <td>70</td>\n",
       "      <td>7</td>\n",
       "      <td>0.01</td>\n",
       "      <td>0.01</td>\n",
       "      <td>ultimate</td>\n",
       "    </tr>\n",
       "  </tbody>\n",
       "</table>\n",
       "</div>"
      ],
      "text/plain": [
       "   messages_included  mb_per_month_included  minutes_included  \\\n",
       "0                 50                  15360               500   \n",
       "1               1000                  30720              3000   \n",
       "\n",
       "   usd_monthly_pay  usd_per_gb  usd_per_message  usd_per_minute plan_name  \n",
       "0               20          10             0.03            0.03      surf  \n",
       "1               70           7             0.01            0.01  ultimate  "
      ]
     },
     "execution_count": 57,
     "metadata": {},
     "output_type": "execute_result"
    }
   ],
   "source": [
    "# Imprime las condiciones de la tarifa y asegúrate de que te quedan claras\n",
    "\n",
    "plans.head()"
   ]
  },
  {
   "cell_type": "markdown",
   "metadata": {
    "id": "hMR1tP5d0q1F"
   },
   "source": [
    "## Agregar datos por usuario\n",
    "\n",
    "[Ahora que los datos están limpios, agrega los datos por usuario y por periodo para que solo haya un registro por usuario y por periodo. Esto facilitará mucho el análisis posterior.]"
   ]
  },
  {
   "cell_type": "code",
   "execution_count": 58,
   "metadata": {
    "id": "A332cedB0q1G"
   },
   "outputs": [],
   "source": [
    "# Calcula el número de llamadas hechas por cada usuario al mes. Guarda el resultado.\n",
    "\n",
    "calls_analytics = calls.pivot_table(index=['user_id', 'month'], values='duracion_redondeada', aggfunc=['sum', 'count'])"
   ]
  },
  {
   "cell_type": "code",
   "execution_count": 59,
   "metadata": {},
   "outputs": [
    {
     "data": {
      "text/html": [
       "<div>\n",
       "<style scoped>\n",
       "    .dataframe tbody tr th:only-of-type {\n",
       "        vertical-align: middle;\n",
       "    }\n",
       "\n",
       "    .dataframe tbody tr th {\n",
       "        vertical-align: top;\n",
       "    }\n",
       "\n",
       "    .dataframe thead tr th {\n",
       "        text-align: left;\n",
       "    }\n",
       "\n",
       "    .dataframe thead tr:last-of-type th {\n",
       "        text-align: right;\n",
       "    }\n",
       "</style>\n",
       "<table border=\"1\" class=\"dataframe\">\n",
       "  <thead>\n",
       "    <tr>\n",
       "      <th></th>\n",
       "      <th></th>\n",
       "      <th>sum</th>\n",
       "      <th>count</th>\n",
       "    </tr>\n",
       "    <tr>\n",
       "      <th></th>\n",
       "      <th></th>\n",
       "      <th>duracion_redondeada</th>\n",
       "      <th>duracion_redondeada</th>\n",
       "    </tr>\n",
       "    <tr>\n",
       "      <th>user_id</th>\n",
       "      <th>month</th>\n",
       "      <th></th>\n",
       "      <th></th>\n",
       "    </tr>\n",
       "  </thead>\n",
       "  <tbody>\n",
       "    <tr>\n",
       "      <th>1000</th>\n",
       "      <th>12</th>\n",
       "      <td>124</td>\n",
       "      <td>16</td>\n",
       "    </tr>\n",
       "    <tr>\n",
       "      <th rowspan=\"4\" valign=\"top\">1001</th>\n",
       "      <th>8</th>\n",
       "      <td>182</td>\n",
       "      <td>27</td>\n",
       "    </tr>\n",
       "    <tr>\n",
       "      <th>9</th>\n",
       "      <td>315</td>\n",
       "      <td>49</td>\n",
       "    </tr>\n",
       "    <tr>\n",
       "      <th>10</th>\n",
       "      <td>393</td>\n",
       "      <td>65</td>\n",
       "    </tr>\n",
       "    <tr>\n",
       "      <th>11</th>\n",
       "      <td>426</td>\n",
       "      <td>64</td>\n",
       "    </tr>\n",
       "    <tr>\n",
       "      <th>...</th>\n",
       "      <th>...</th>\n",
       "      <td>...</td>\n",
       "      <td>...</td>\n",
       "    </tr>\n",
       "    <tr>\n",
       "      <th>1498</th>\n",
       "      <th>12</th>\n",
       "      <td>339</td>\n",
       "      <td>39</td>\n",
       "    </tr>\n",
       "    <tr>\n",
       "      <th rowspan=\"4\" valign=\"top\">1499</th>\n",
       "      <th>9</th>\n",
       "      <td>346</td>\n",
       "      <td>41</td>\n",
       "    </tr>\n",
       "    <tr>\n",
       "      <th>10</th>\n",
       "      <td>385</td>\n",
       "      <td>53</td>\n",
       "    </tr>\n",
       "    <tr>\n",
       "      <th>11</th>\n",
       "      <td>308</td>\n",
       "      <td>45</td>\n",
       "    </tr>\n",
       "    <tr>\n",
       "      <th>12</th>\n",
       "      <td>496</td>\n",
       "      <td>65</td>\n",
       "    </tr>\n",
       "  </tbody>\n",
       "</table>\n",
       "<p>2258 rows × 2 columns</p>\n",
       "</div>"
      ],
      "text/plain": [
       "                              sum               count\n",
       "              duracion_redondeada duracion_redondeada\n",
       "user_id month                                        \n",
       "1000    12                    124                  16\n",
       "1001    8                     182                  27\n",
       "        9                     315                  49\n",
       "        10                    393                  65\n",
       "        11                    426                  64\n",
       "...                           ...                 ...\n",
       "1498    12                    339                  39\n",
       "1499    9                     346                  41\n",
       "        10                    385                  53\n",
       "        11                    308                  45\n",
       "        12                    496                  65\n",
       "\n",
       "[2258 rows x 2 columns]"
      ]
     },
     "execution_count": 59,
     "metadata": {},
     "output_type": "execute_result"
    }
   ],
   "source": [
    "calls_analytics"
   ]
  },
  {
   "cell_type": "code",
   "execution_count": 60,
   "metadata": {},
   "outputs": [],
   "source": [
    "#modificamos los nombres de las columnas\n",
    "\n",
    "calls_analytics.columns = ['minutos_usados', 'llamadas_hechas']"
   ]
  },
  {
   "cell_type": "code",
   "execution_count": 61,
   "metadata": {},
   "outputs": [
    {
     "data": {
      "text/html": [
       "<div>\n",
       "<style scoped>\n",
       "    .dataframe tbody tr th:only-of-type {\n",
       "        vertical-align: middle;\n",
       "    }\n",
       "\n",
       "    .dataframe tbody tr th {\n",
       "        vertical-align: top;\n",
       "    }\n",
       "\n",
       "    .dataframe thead th {\n",
       "        text-align: right;\n",
       "    }\n",
       "</style>\n",
       "<table border=\"1\" class=\"dataframe\">\n",
       "  <thead>\n",
       "    <tr style=\"text-align: right;\">\n",
       "      <th></th>\n",
       "      <th></th>\n",
       "      <th>minutos_usados</th>\n",
       "      <th>llamadas_hechas</th>\n",
       "    </tr>\n",
       "    <tr>\n",
       "      <th>user_id</th>\n",
       "      <th>month</th>\n",
       "      <th></th>\n",
       "      <th></th>\n",
       "    </tr>\n",
       "  </thead>\n",
       "  <tbody>\n",
       "    <tr>\n",
       "      <th>1000</th>\n",
       "      <th>12</th>\n",
       "      <td>124</td>\n",
       "      <td>16</td>\n",
       "    </tr>\n",
       "    <tr>\n",
       "      <th rowspan=\"4\" valign=\"top\">1001</th>\n",
       "      <th>8</th>\n",
       "      <td>182</td>\n",
       "      <td>27</td>\n",
       "    </tr>\n",
       "    <tr>\n",
       "      <th>9</th>\n",
       "      <td>315</td>\n",
       "      <td>49</td>\n",
       "    </tr>\n",
       "    <tr>\n",
       "      <th>10</th>\n",
       "      <td>393</td>\n",
       "      <td>65</td>\n",
       "    </tr>\n",
       "    <tr>\n",
       "      <th>11</th>\n",
       "      <td>426</td>\n",
       "      <td>64</td>\n",
       "    </tr>\n",
       "  </tbody>\n",
       "</table>\n",
       "</div>"
      ],
      "text/plain": [
       "               minutos_usados  llamadas_hechas\n",
       "user_id month                                 \n",
       "1000    12                124               16\n",
       "1001    8                 182               27\n",
       "        9                 315               49\n",
       "        10                393               65\n",
       "        11                426               64"
      ]
     },
     "execution_count": 61,
     "metadata": {},
     "output_type": "execute_result"
    }
   ],
   "source": [
    "calls_analytics.head()"
   ]
  },
  {
   "cell_type": "code",
   "execution_count": 62,
   "metadata": {},
   "outputs": [
    {
     "data": {
      "text/html": [
       "<div>\n",
       "<style scoped>\n",
       "    .dataframe tbody tr th:only-of-type {\n",
       "        vertical-align: middle;\n",
       "    }\n",
       "\n",
       "    .dataframe tbody tr th {\n",
       "        vertical-align: top;\n",
       "    }\n",
       "\n",
       "    .dataframe thead th {\n",
       "        text-align: right;\n",
       "    }\n",
       "</style>\n",
       "<table border=\"1\" class=\"dataframe\">\n",
       "  <thead>\n",
       "    <tr style=\"text-align: right;\">\n",
       "      <th></th>\n",
       "      <th>user_id</th>\n",
       "      <th>month</th>\n",
       "      <th>minutos_usados</th>\n",
       "      <th>llamadas_hechas</th>\n",
       "    </tr>\n",
       "  </thead>\n",
       "  <tbody>\n",
       "    <tr>\n",
       "      <th>0</th>\n",
       "      <td>1000</td>\n",
       "      <td>12</td>\n",
       "      <td>124</td>\n",
       "      <td>16</td>\n",
       "    </tr>\n",
       "    <tr>\n",
       "      <th>1</th>\n",
       "      <td>1001</td>\n",
       "      <td>8</td>\n",
       "      <td>182</td>\n",
       "      <td>27</td>\n",
       "    </tr>\n",
       "    <tr>\n",
       "      <th>2</th>\n",
       "      <td>1001</td>\n",
       "      <td>9</td>\n",
       "      <td>315</td>\n",
       "      <td>49</td>\n",
       "    </tr>\n",
       "    <tr>\n",
       "      <th>3</th>\n",
       "      <td>1001</td>\n",
       "      <td>10</td>\n",
       "      <td>393</td>\n",
       "      <td>65</td>\n",
       "    </tr>\n",
       "    <tr>\n",
       "      <th>4</th>\n",
       "      <td>1001</td>\n",
       "      <td>11</td>\n",
       "      <td>426</td>\n",
       "      <td>64</td>\n",
       "    </tr>\n",
       "    <tr>\n",
       "      <th>...</th>\n",
       "      <td>...</td>\n",
       "      <td>...</td>\n",
       "      <td>...</td>\n",
       "      <td>...</td>\n",
       "    </tr>\n",
       "    <tr>\n",
       "      <th>2253</th>\n",
       "      <td>1498</td>\n",
       "      <td>12</td>\n",
       "      <td>339</td>\n",
       "      <td>39</td>\n",
       "    </tr>\n",
       "    <tr>\n",
       "      <th>2254</th>\n",
       "      <td>1499</td>\n",
       "      <td>9</td>\n",
       "      <td>346</td>\n",
       "      <td>41</td>\n",
       "    </tr>\n",
       "    <tr>\n",
       "      <th>2255</th>\n",
       "      <td>1499</td>\n",
       "      <td>10</td>\n",
       "      <td>385</td>\n",
       "      <td>53</td>\n",
       "    </tr>\n",
       "    <tr>\n",
       "      <th>2256</th>\n",
       "      <td>1499</td>\n",
       "      <td>11</td>\n",
       "      <td>308</td>\n",
       "      <td>45</td>\n",
       "    </tr>\n",
       "    <tr>\n",
       "      <th>2257</th>\n",
       "      <td>1499</td>\n",
       "      <td>12</td>\n",
       "      <td>496</td>\n",
       "      <td>65</td>\n",
       "    </tr>\n",
       "  </tbody>\n",
       "</table>\n",
       "<p>2258 rows × 4 columns</p>\n",
       "</div>"
      ],
      "text/plain": [
       "      user_id  month  minutos_usados  llamadas_hechas\n",
       "0        1000     12             124               16\n",
       "1        1001      8             182               27\n",
       "2        1001      9             315               49\n",
       "3        1001     10             393               65\n",
       "4        1001     11             426               64\n",
       "...       ...    ...             ...              ...\n",
       "2253     1498     12             339               39\n",
       "2254     1499      9             346               41\n",
       "2255     1499     10             385               53\n",
       "2256     1499     11             308               45\n",
       "2257     1499     12             496               65\n",
       "\n",
       "[2258 rows x 4 columns]"
      ]
     },
     "execution_count": 62,
     "metadata": {},
     "output_type": "execute_result"
    }
   ],
   "source": [
    "#modificar los index\n",
    "calls_analytics =calls_analytics.reset_index()\n",
    "calls_analytics"
   ]
  },
  {
   "cell_type": "code",
   "execution_count": 63,
   "metadata": {
    "id": "aw2cmuql0q1G"
   },
   "outputs": [
    {
     "data": {
      "text/html": [
       "<div>\n",
       "<style scoped>\n",
       "    .dataframe tbody tr th:only-of-type {\n",
       "        vertical-align: middle;\n",
       "    }\n",
       "\n",
       "    .dataframe tbody tr th {\n",
       "        vertical-align: top;\n",
       "    }\n",
       "\n",
       "    .dataframe thead th {\n",
       "        text-align: right;\n",
       "    }\n",
       "</style>\n",
       "<table border=\"1\" class=\"dataframe\">\n",
       "  <thead>\n",
       "    <tr style=\"text-align: right;\">\n",
       "      <th></th>\n",
       "      <th>user_id</th>\n",
       "      <th>month</th>\n",
       "      <th>minutos_usados</th>\n",
       "      <th>llamadas_hechas</th>\n",
       "    </tr>\n",
       "  </thead>\n",
       "  <tbody>\n",
       "    <tr>\n",
       "      <th>0</th>\n",
       "      <td>1000</td>\n",
       "      <td>12</td>\n",
       "      <td>124</td>\n",
       "      <td>16</td>\n",
       "    </tr>\n",
       "    <tr>\n",
       "      <th>1</th>\n",
       "      <td>1001</td>\n",
       "      <td>8</td>\n",
       "      <td>182</td>\n",
       "      <td>27</td>\n",
       "    </tr>\n",
       "    <tr>\n",
       "      <th>2</th>\n",
       "      <td>1001</td>\n",
       "      <td>9</td>\n",
       "      <td>315</td>\n",
       "      <td>49</td>\n",
       "    </tr>\n",
       "    <tr>\n",
       "      <th>3</th>\n",
       "      <td>1001</td>\n",
       "      <td>10</td>\n",
       "      <td>393</td>\n",
       "      <td>65</td>\n",
       "    </tr>\n",
       "    <tr>\n",
       "      <th>4</th>\n",
       "      <td>1001</td>\n",
       "      <td>11</td>\n",
       "      <td>426</td>\n",
       "      <td>64</td>\n",
       "    </tr>\n",
       "    <tr>\n",
       "      <th>...</th>\n",
       "      <td>...</td>\n",
       "      <td>...</td>\n",
       "      <td>...</td>\n",
       "      <td>...</td>\n",
       "    </tr>\n",
       "    <tr>\n",
       "      <th>2253</th>\n",
       "      <td>1498</td>\n",
       "      <td>12</td>\n",
       "      <td>339</td>\n",
       "      <td>39</td>\n",
       "    </tr>\n",
       "    <tr>\n",
       "      <th>2254</th>\n",
       "      <td>1499</td>\n",
       "      <td>9</td>\n",
       "      <td>346</td>\n",
       "      <td>41</td>\n",
       "    </tr>\n",
       "    <tr>\n",
       "      <th>2255</th>\n",
       "      <td>1499</td>\n",
       "      <td>10</td>\n",
       "      <td>385</td>\n",
       "      <td>53</td>\n",
       "    </tr>\n",
       "    <tr>\n",
       "      <th>2256</th>\n",
       "      <td>1499</td>\n",
       "      <td>11</td>\n",
       "      <td>308</td>\n",
       "      <td>45</td>\n",
       "    </tr>\n",
       "    <tr>\n",
       "      <th>2257</th>\n",
       "      <td>1499</td>\n",
       "      <td>12</td>\n",
       "      <td>496</td>\n",
       "      <td>65</td>\n",
       "    </tr>\n",
       "  </tbody>\n",
       "</table>\n",
       "<p>2258 rows × 4 columns</p>\n",
       "</div>"
      ],
      "text/plain": [
       "      user_id  month  minutos_usados  llamadas_hechas\n",
       "0        1000     12             124               16\n",
       "1        1001      8             182               27\n",
       "2        1001      9             315               49\n",
       "3        1001     10             393               65\n",
       "4        1001     11             426               64\n",
       "...       ...    ...             ...              ...\n",
       "2253     1498     12             339               39\n",
       "2254     1499      9             346               41\n",
       "2255     1499     10             385               53\n",
       "2256     1499     11             308               45\n",
       "2257     1499     12             496               65\n",
       "\n",
       "[2258 rows x 4 columns]"
      ]
     },
     "execution_count": 63,
     "metadata": {},
     "output_type": "execute_result"
    }
   ],
   "source": [
    "# Calcula la cantidad de minutos usados por cada usuario al mes. Guarda el resultado.\n",
    "\n",
    "calls_analytics"
   ]
  },
  {
   "cell_type": "code",
   "execution_count": 64,
   "metadata": {
    "id": "CcQvNHn60q1G"
   },
   "outputs": [],
   "source": [
    "# Calcula el número de mensajes enviados por cada usuario al mes. Guarda el resultado.\n",
    "\n",
    "mensajes_analytics = messages.pivot_table(index=['user_id', 'month'], values='messages_id', aggfunc='count')"
   ]
  },
  {
   "cell_type": "code",
   "execution_count": 65,
   "metadata": {},
   "outputs": [
    {
     "data": {
      "text/html": [
       "<div>\n",
       "<style scoped>\n",
       "    .dataframe tbody tr th:only-of-type {\n",
       "        vertical-align: middle;\n",
       "    }\n",
       "\n",
       "    .dataframe tbody tr th {\n",
       "        vertical-align: top;\n",
       "    }\n",
       "\n",
       "    .dataframe thead th {\n",
       "        text-align: right;\n",
       "    }\n",
       "</style>\n",
       "<table border=\"1\" class=\"dataframe\">\n",
       "  <thead>\n",
       "    <tr style=\"text-align: right;\">\n",
       "      <th></th>\n",
       "      <th></th>\n",
       "      <th>messages_id</th>\n",
       "    </tr>\n",
       "    <tr>\n",
       "      <th>user_id</th>\n",
       "      <th>month</th>\n",
       "      <th></th>\n",
       "    </tr>\n",
       "  </thead>\n",
       "  <tbody>\n",
       "    <tr>\n",
       "      <th>1000</th>\n",
       "      <th>12</th>\n",
       "      <td>11</td>\n",
       "    </tr>\n",
       "    <tr>\n",
       "      <th rowspan=\"4\" valign=\"top\">1001</th>\n",
       "      <th>8</th>\n",
       "      <td>30</td>\n",
       "    </tr>\n",
       "    <tr>\n",
       "      <th>9</th>\n",
       "      <td>44</td>\n",
       "    </tr>\n",
       "    <tr>\n",
       "      <th>10</th>\n",
       "      <td>53</td>\n",
       "    </tr>\n",
       "    <tr>\n",
       "      <th>11</th>\n",
       "      <td>36</td>\n",
       "    </tr>\n",
       "  </tbody>\n",
       "</table>\n",
       "</div>"
      ],
      "text/plain": [
       "               messages_id\n",
       "user_id month             \n",
       "1000    12              11\n",
       "1001    8               30\n",
       "        9               44\n",
       "        10              53\n",
       "        11              36"
      ]
     },
     "execution_count": 65,
     "metadata": {},
     "output_type": "execute_result"
    }
   ],
   "source": [
    "mensajes_analytics.head()"
   ]
  },
  {
   "cell_type": "code",
   "execution_count": 66,
   "metadata": {},
   "outputs": [],
   "source": [
    "mensajes_analytics.columns = ['numero_de_mensajes']"
   ]
  },
  {
   "cell_type": "code",
   "execution_count": 67,
   "metadata": {},
   "outputs": [],
   "source": [
    "mensajes_analytics = mensajes_analytics.reset_index()"
   ]
  },
  {
   "cell_type": "code",
   "execution_count": 68,
   "metadata": {},
   "outputs": [
    {
     "data": {
      "text/html": [
       "<div>\n",
       "<style scoped>\n",
       "    .dataframe tbody tr th:only-of-type {\n",
       "        vertical-align: middle;\n",
       "    }\n",
       "\n",
       "    .dataframe tbody tr th {\n",
       "        vertical-align: top;\n",
       "    }\n",
       "\n",
       "    .dataframe thead th {\n",
       "        text-align: right;\n",
       "    }\n",
       "</style>\n",
       "<table border=\"1\" class=\"dataframe\">\n",
       "  <thead>\n",
       "    <tr style=\"text-align: right;\">\n",
       "      <th></th>\n",
       "      <th>user_id</th>\n",
       "      <th>month</th>\n",
       "      <th>numero_de_mensajes</th>\n",
       "    </tr>\n",
       "  </thead>\n",
       "  <tbody>\n",
       "    <tr>\n",
       "      <th>0</th>\n",
       "      <td>1000</td>\n",
       "      <td>12</td>\n",
       "      <td>11</td>\n",
       "    </tr>\n",
       "    <tr>\n",
       "      <th>1</th>\n",
       "      <td>1001</td>\n",
       "      <td>8</td>\n",
       "      <td>30</td>\n",
       "    </tr>\n",
       "    <tr>\n",
       "      <th>2</th>\n",
       "      <td>1001</td>\n",
       "      <td>9</td>\n",
       "      <td>44</td>\n",
       "    </tr>\n",
       "    <tr>\n",
       "      <th>3</th>\n",
       "      <td>1001</td>\n",
       "      <td>10</td>\n",
       "      <td>53</td>\n",
       "    </tr>\n",
       "    <tr>\n",
       "      <th>4</th>\n",
       "      <td>1001</td>\n",
       "      <td>11</td>\n",
       "      <td>36</td>\n",
       "    </tr>\n",
       "    <tr>\n",
       "      <th>...</th>\n",
       "      <td>...</td>\n",
       "      <td>...</td>\n",
       "      <td>...</td>\n",
       "    </tr>\n",
       "    <tr>\n",
       "      <th>1801</th>\n",
       "      <td>1496</td>\n",
       "      <td>9</td>\n",
       "      <td>21</td>\n",
       "    </tr>\n",
       "    <tr>\n",
       "      <th>1802</th>\n",
       "      <td>1496</td>\n",
       "      <td>10</td>\n",
       "      <td>18</td>\n",
       "    </tr>\n",
       "    <tr>\n",
       "      <th>1803</th>\n",
       "      <td>1496</td>\n",
       "      <td>11</td>\n",
       "      <td>13</td>\n",
       "    </tr>\n",
       "    <tr>\n",
       "      <th>1804</th>\n",
       "      <td>1496</td>\n",
       "      <td>12</td>\n",
       "      <td>11</td>\n",
       "    </tr>\n",
       "    <tr>\n",
       "      <th>1805</th>\n",
       "      <td>1497</td>\n",
       "      <td>12</td>\n",
       "      <td>50</td>\n",
       "    </tr>\n",
       "  </tbody>\n",
       "</table>\n",
       "<p>1806 rows × 3 columns</p>\n",
       "</div>"
      ],
      "text/plain": [
       "      user_id  month  numero_de_mensajes\n",
       "0        1000     12                  11\n",
       "1        1001      8                  30\n",
       "2        1001      9                  44\n",
       "3        1001     10                  53\n",
       "4        1001     11                  36\n",
       "...       ...    ...                 ...\n",
       "1801     1496      9                  21\n",
       "1802     1496     10                  18\n",
       "1803     1496     11                  13\n",
       "1804     1496     12                  11\n",
       "1805     1497     12                  50\n",
       "\n",
       "[1806 rows x 3 columns]"
      ]
     },
     "execution_count": 68,
     "metadata": {},
     "output_type": "execute_result"
    }
   ],
   "source": [
    "mensajes_analytics"
   ]
  },
  {
   "cell_type": "code",
   "execution_count": 69,
   "metadata": {
    "id": "H1AqN2eG0q1H"
   },
   "outputs": [],
   "source": [
    "# Calcula el volumen del tráfico de Internet usado por cada usuario al mes. Guarda el resultado.\n",
    "\n",
    "internet_analytics = internet.pivot_table(index=['user_id', 'month'], values='mb_used', aggfunc='sum')"
   ]
  },
  {
   "cell_type": "code",
   "execution_count": 70,
   "metadata": {},
   "outputs": [],
   "source": [
    "internet_analytics.columns =['total_de_datos_usados']"
   ]
  },
  {
   "cell_type": "code",
   "execution_count": 71,
   "metadata": {},
   "outputs": [],
   "source": [
    "internet_analytics = internet_analytics.reset_index()"
   ]
  },
  {
   "cell_type": "code",
   "execution_count": 72,
   "metadata": {},
   "outputs": [
    {
     "data": {
      "text/html": [
       "<div>\n",
       "<style scoped>\n",
       "    .dataframe tbody tr th:only-of-type {\n",
       "        vertical-align: middle;\n",
       "    }\n",
       "\n",
       "    .dataframe tbody tr th {\n",
       "        vertical-align: top;\n",
       "    }\n",
       "\n",
       "    .dataframe thead th {\n",
       "        text-align: right;\n",
       "    }\n",
       "</style>\n",
       "<table border=\"1\" class=\"dataframe\">\n",
       "  <thead>\n",
       "    <tr style=\"text-align: right;\">\n",
       "      <th></th>\n",
       "      <th>user_id</th>\n",
       "      <th>month</th>\n",
       "      <th>total_de_datos_usados</th>\n",
       "    </tr>\n",
       "  </thead>\n",
       "  <tbody>\n",
       "    <tr>\n",
       "      <th>0</th>\n",
       "      <td>1000</td>\n",
       "      <td>12</td>\n",
       "      <td>1901.47</td>\n",
       "    </tr>\n",
       "    <tr>\n",
       "      <th>1</th>\n",
       "      <td>1001</td>\n",
       "      <td>8</td>\n",
       "      <td>6919.15</td>\n",
       "    </tr>\n",
       "    <tr>\n",
       "      <th>2</th>\n",
       "      <td>1001</td>\n",
       "      <td>9</td>\n",
       "      <td>13314.82</td>\n",
       "    </tr>\n",
       "    <tr>\n",
       "      <th>3</th>\n",
       "      <td>1001</td>\n",
       "      <td>10</td>\n",
       "      <td>22330.49</td>\n",
       "    </tr>\n",
       "    <tr>\n",
       "      <th>4</th>\n",
       "      <td>1001</td>\n",
       "      <td>11</td>\n",
       "      <td>18504.30</td>\n",
       "    </tr>\n",
       "    <tr>\n",
       "      <th>...</th>\n",
       "      <td>...</td>\n",
       "      <td>...</td>\n",
       "      <td>...</td>\n",
       "    </tr>\n",
       "    <tr>\n",
       "      <th>2272</th>\n",
       "      <td>1498</td>\n",
       "      <td>12</td>\n",
       "      <td>23137.69</td>\n",
       "    </tr>\n",
       "    <tr>\n",
       "      <th>2273</th>\n",
       "      <td>1499</td>\n",
       "      <td>9</td>\n",
       "      <td>12984.76</td>\n",
       "    </tr>\n",
       "    <tr>\n",
       "      <th>2274</th>\n",
       "      <td>1499</td>\n",
       "      <td>10</td>\n",
       "      <td>19492.43</td>\n",
       "    </tr>\n",
       "    <tr>\n",
       "      <th>2275</th>\n",
       "      <td>1499</td>\n",
       "      <td>11</td>\n",
       "      <td>16813.83</td>\n",
       "    </tr>\n",
       "    <tr>\n",
       "      <th>2276</th>\n",
       "      <td>1499</td>\n",
       "      <td>12</td>\n",
       "      <td>22059.21</td>\n",
       "    </tr>\n",
       "  </tbody>\n",
       "</table>\n",
       "<p>2277 rows × 3 columns</p>\n",
       "</div>"
      ],
      "text/plain": [
       "      user_id  month  total_de_datos_usados\n",
       "0        1000     12                1901.47\n",
       "1        1001      8                6919.15\n",
       "2        1001      9               13314.82\n",
       "3        1001     10               22330.49\n",
       "4        1001     11               18504.30\n",
       "...       ...    ...                    ...\n",
       "2272     1498     12               23137.69\n",
       "2273     1499      9               12984.76\n",
       "2274     1499     10               19492.43\n",
       "2275     1499     11               16813.83\n",
       "2276     1499     12               22059.21\n",
       "\n",
       "[2277 rows x 3 columns]"
      ]
     },
     "execution_count": 72,
     "metadata": {},
     "output_type": "execute_result"
    }
   ],
   "source": [
    "internet_analytics"
   ]
  },
  {
   "cell_type": "code",
   "execution_count": 73,
   "metadata": {},
   "outputs": [],
   "source": [
    "#se redondea y se convierte los datos a gb:\n",
    "\n",
    "def dato_redondeo(mb):\n",
    "    redondeo = math.ceil(mb/1024)\n",
    "    return redondeo"
   ]
  },
  {
   "cell_type": "code",
   "execution_count": 74,
   "metadata": {},
   "outputs": [],
   "source": [
    "internet_analytics['total_de_datos_usados_redondeado'] = internet_analytics['total_de_datos_usados'].apply(dato_redondeo)"
   ]
  },
  {
   "cell_type": "code",
   "execution_count": 75,
   "metadata": {},
   "outputs": [
    {
     "data": {
      "text/html": [
       "<div>\n",
       "<style scoped>\n",
       "    .dataframe tbody tr th:only-of-type {\n",
       "        vertical-align: middle;\n",
       "    }\n",
       "\n",
       "    .dataframe tbody tr th {\n",
       "        vertical-align: top;\n",
       "    }\n",
       "\n",
       "    .dataframe thead th {\n",
       "        text-align: right;\n",
       "    }\n",
       "</style>\n",
       "<table border=\"1\" class=\"dataframe\">\n",
       "  <thead>\n",
       "    <tr style=\"text-align: right;\">\n",
       "      <th></th>\n",
       "      <th>user_id</th>\n",
       "      <th>month</th>\n",
       "      <th>total_de_datos_usados</th>\n",
       "      <th>total_de_datos_usados_redondeado</th>\n",
       "    </tr>\n",
       "  </thead>\n",
       "  <tbody>\n",
       "    <tr>\n",
       "      <th>0</th>\n",
       "      <td>1000</td>\n",
       "      <td>12</td>\n",
       "      <td>1901.47</td>\n",
       "      <td>2</td>\n",
       "    </tr>\n",
       "    <tr>\n",
       "      <th>1</th>\n",
       "      <td>1001</td>\n",
       "      <td>8</td>\n",
       "      <td>6919.15</td>\n",
       "      <td>7</td>\n",
       "    </tr>\n",
       "    <tr>\n",
       "      <th>2</th>\n",
       "      <td>1001</td>\n",
       "      <td>9</td>\n",
       "      <td>13314.82</td>\n",
       "      <td>14</td>\n",
       "    </tr>\n",
       "    <tr>\n",
       "      <th>3</th>\n",
       "      <td>1001</td>\n",
       "      <td>10</td>\n",
       "      <td>22330.49</td>\n",
       "      <td>22</td>\n",
       "    </tr>\n",
       "    <tr>\n",
       "      <th>4</th>\n",
       "      <td>1001</td>\n",
       "      <td>11</td>\n",
       "      <td>18504.30</td>\n",
       "      <td>19</td>\n",
       "    </tr>\n",
       "    <tr>\n",
       "      <th>...</th>\n",
       "      <td>...</td>\n",
       "      <td>...</td>\n",
       "      <td>...</td>\n",
       "      <td>...</td>\n",
       "    </tr>\n",
       "    <tr>\n",
       "      <th>2272</th>\n",
       "      <td>1498</td>\n",
       "      <td>12</td>\n",
       "      <td>23137.69</td>\n",
       "      <td>23</td>\n",
       "    </tr>\n",
       "    <tr>\n",
       "      <th>2273</th>\n",
       "      <td>1499</td>\n",
       "      <td>9</td>\n",
       "      <td>12984.76</td>\n",
       "      <td>13</td>\n",
       "    </tr>\n",
       "    <tr>\n",
       "      <th>2274</th>\n",
       "      <td>1499</td>\n",
       "      <td>10</td>\n",
       "      <td>19492.43</td>\n",
       "      <td>20</td>\n",
       "    </tr>\n",
       "    <tr>\n",
       "      <th>2275</th>\n",
       "      <td>1499</td>\n",
       "      <td>11</td>\n",
       "      <td>16813.83</td>\n",
       "      <td>17</td>\n",
       "    </tr>\n",
       "    <tr>\n",
       "      <th>2276</th>\n",
       "      <td>1499</td>\n",
       "      <td>12</td>\n",
       "      <td>22059.21</td>\n",
       "      <td>22</td>\n",
       "    </tr>\n",
       "  </tbody>\n",
       "</table>\n",
       "<p>2277 rows × 4 columns</p>\n",
       "</div>"
      ],
      "text/plain": [
       "      user_id  month  total_de_datos_usados  total_de_datos_usados_redondeado\n",
       "0        1000     12                1901.47                                 2\n",
       "1        1001      8                6919.15                                 7\n",
       "2        1001      9               13314.82                                14\n",
       "3        1001     10               22330.49                                22\n",
       "4        1001     11               18504.30                                19\n",
       "...       ...    ...                    ...                               ...\n",
       "2272     1498     12               23137.69                                23\n",
       "2273     1499      9               12984.76                                13\n",
       "2274     1499     10               19492.43                                20\n",
       "2275     1499     11               16813.83                                17\n",
       "2276     1499     12               22059.21                                22\n",
       "\n",
       "[2277 rows x 4 columns]"
      ]
     },
     "execution_count": 75,
     "metadata": {},
     "output_type": "execute_result"
    }
   ],
   "source": [
    "internet_analytics"
   ]
  },
  {
   "cell_type": "markdown",
   "metadata": {
    "id": "VDfYXnj80q1H"
   },
   "source": [
    "[Junta los datos agregados en un DataFrame para que haya un registro que represente lo que consumió un usuario único en un mes determinado.]"
   ]
  },
  {
   "cell_type": "code",
   "execution_count": 76,
   "metadata": {
    "id": "FW99ykyf0q1H"
   },
   "outputs": [],
   "source": [
    "# Fusiona o combina los datos de llamadas, minutos, mensajes e Internet con base en user_id y month\n",
    "# esto nos permitira realizar un analisis mucho más facil \n",
    "\n",
    "calls_and_messages = calls_analytics.merge(mensajes_analytics, on=['user_id', 'month'], how='outer')"
   ]
  },
  {
   "cell_type": "code",
   "execution_count": 77,
   "metadata": {},
   "outputs": [
    {
     "data": {
      "text/html": [
       "<div>\n",
       "<style scoped>\n",
       "    .dataframe tbody tr th:only-of-type {\n",
       "        vertical-align: middle;\n",
       "    }\n",
       "\n",
       "    .dataframe tbody tr th {\n",
       "        vertical-align: top;\n",
       "    }\n",
       "\n",
       "    .dataframe thead th {\n",
       "        text-align: right;\n",
       "    }\n",
       "</style>\n",
       "<table border=\"1\" class=\"dataframe\">\n",
       "  <thead>\n",
       "    <tr style=\"text-align: right;\">\n",
       "      <th></th>\n",
       "      <th>user_id</th>\n",
       "      <th>month</th>\n",
       "      <th>minutos_usados</th>\n",
       "      <th>llamadas_hechas</th>\n",
       "      <th>numero_de_mensajes</th>\n",
       "    </tr>\n",
       "  </thead>\n",
       "  <tbody>\n",
       "    <tr>\n",
       "      <th>0</th>\n",
       "      <td>1000</td>\n",
       "      <td>12</td>\n",
       "      <td>124.0</td>\n",
       "      <td>16.0</td>\n",
       "      <td>11.0</td>\n",
       "    </tr>\n",
       "    <tr>\n",
       "      <th>1</th>\n",
       "      <td>1001</td>\n",
       "      <td>8</td>\n",
       "      <td>182.0</td>\n",
       "      <td>27.0</td>\n",
       "      <td>30.0</td>\n",
       "    </tr>\n",
       "    <tr>\n",
       "      <th>2</th>\n",
       "      <td>1001</td>\n",
       "      <td>9</td>\n",
       "      <td>315.0</td>\n",
       "      <td>49.0</td>\n",
       "      <td>44.0</td>\n",
       "    </tr>\n",
       "    <tr>\n",
       "      <th>3</th>\n",
       "      <td>1001</td>\n",
       "      <td>10</td>\n",
       "      <td>393.0</td>\n",
       "      <td>65.0</td>\n",
       "      <td>53.0</td>\n",
       "    </tr>\n",
       "    <tr>\n",
       "      <th>4</th>\n",
       "      <td>1001</td>\n",
       "      <td>11</td>\n",
       "      <td>426.0</td>\n",
       "      <td>64.0</td>\n",
       "      <td>36.0</td>\n",
       "    </tr>\n",
       "    <tr>\n",
       "      <th>...</th>\n",
       "      <td>...</td>\n",
       "      <td>...</td>\n",
       "      <td>...</td>\n",
       "      <td>...</td>\n",
       "      <td>...</td>\n",
       "    </tr>\n",
       "    <tr>\n",
       "      <th>2286</th>\n",
       "      <td>1349</td>\n",
       "      <td>10</td>\n",
       "      <td>NaN</td>\n",
       "      <td>NaN</td>\n",
       "      <td>76.0</td>\n",
       "    </tr>\n",
       "    <tr>\n",
       "      <th>2287</th>\n",
       "      <td>1349</td>\n",
       "      <td>11</td>\n",
       "      <td>NaN</td>\n",
       "      <td>NaN</td>\n",
       "      <td>72.0</td>\n",
       "    </tr>\n",
       "    <tr>\n",
       "      <th>2288</th>\n",
       "      <td>1349</td>\n",
       "      <td>12</td>\n",
       "      <td>NaN</td>\n",
       "      <td>NaN</td>\n",
       "      <td>61.0</td>\n",
       "    </tr>\n",
       "    <tr>\n",
       "      <th>2289</th>\n",
       "      <td>1361</td>\n",
       "      <td>5</td>\n",
       "      <td>NaN</td>\n",
       "      <td>NaN</td>\n",
       "      <td>2.0</td>\n",
       "    </tr>\n",
       "    <tr>\n",
       "      <th>2290</th>\n",
       "      <td>1482</td>\n",
       "      <td>10</td>\n",
       "      <td>NaN</td>\n",
       "      <td>NaN</td>\n",
       "      <td>2.0</td>\n",
       "    </tr>\n",
       "  </tbody>\n",
       "</table>\n",
       "<p>2291 rows × 5 columns</p>\n",
       "</div>"
      ],
      "text/plain": [
       "      user_id  month  minutos_usados  llamadas_hechas  numero_de_mensajes\n",
       "0        1000     12           124.0             16.0                11.0\n",
       "1        1001      8           182.0             27.0                30.0\n",
       "2        1001      9           315.0             49.0                44.0\n",
       "3        1001     10           393.0             65.0                53.0\n",
       "4        1001     11           426.0             64.0                36.0\n",
       "...       ...    ...             ...              ...                 ...\n",
       "2286     1349     10             NaN              NaN                76.0\n",
       "2287     1349     11             NaN              NaN                72.0\n",
       "2288     1349     12             NaN              NaN                61.0\n",
       "2289     1361      5             NaN              NaN                 2.0\n",
       "2290     1482     10             NaN              NaN                 2.0\n",
       "\n",
       "[2291 rows x 5 columns]"
      ]
     },
     "execution_count": 77,
     "metadata": {},
     "output_type": "execute_result"
    }
   ],
   "source": [
    "calls_and_messages"
   ]
  },
  {
   "cell_type": "code",
   "execution_count": 78,
   "metadata": {},
   "outputs": [
    {
     "data": {
      "text/html": [
       "<div>\n",
       "<style scoped>\n",
       "    .dataframe tbody tr th:only-of-type {\n",
       "        vertical-align: middle;\n",
       "    }\n",
       "\n",
       "    .dataframe tbody tr th {\n",
       "        vertical-align: top;\n",
       "    }\n",
       "\n",
       "    .dataframe thead th {\n",
       "        text-align: right;\n",
       "    }\n",
       "</style>\n",
       "<table border=\"1\" class=\"dataframe\">\n",
       "  <thead>\n",
       "    <tr style=\"text-align: right;\">\n",
       "      <th></th>\n",
       "      <th>user_id</th>\n",
       "      <th>month</th>\n",
       "      <th>minutos_usados</th>\n",
       "      <th>llamadas_hechas</th>\n",
       "      <th>numero_de_mensajes</th>\n",
       "      <th>total_de_datos_usados</th>\n",
       "      <th>total_de_datos_usados_redondeado</th>\n",
       "    </tr>\n",
       "  </thead>\n",
       "  <tbody>\n",
       "    <tr>\n",
       "      <th>0</th>\n",
       "      <td>1000</td>\n",
       "      <td>12</td>\n",
       "      <td>124.0</td>\n",
       "      <td>16.0</td>\n",
       "      <td>11.0</td>\n",
       "      <td>1901.47</td>\n",
       "      <td>2.0</td>\n",
       "    </tr>\n",
       "    <tr>\n",
       "      <th>1</th>\n",
       "      <td>1001</td>\n",
       "      <td>8</td>\n",
       "      <td>182.0</td>\n",
       "      <td>27.0</td>\n",
       "      <td>30.0</td>\n",
       "      <td>6919.15</td>\n",
       "      <td>7.0</td>\n",
       "    </tr>\n",
       "    <tr>\n",
       "      <th>2</th>\n",
       "      <td>1001</td>\n",
       "      <td>9</td>\n",
       "      <td>315.0</td>\n",
       "      <td>49.0</td>\n",
       "      <td>44.0</td>\n",
       "      <td>13314.82</td>\n",
       "      <td>14.0</td>\n",
       "    </tr>\n",
       "    <tr>\n",
       "      <th>3</th>\n",
       "      <td>1001</td>\n",
       "      <td>10</td>\n",
       "      <td>393.0</td>\n",
       "      <td>65.0</td>\n",
       "      <td>53.0</td>\n",
       "      <td>22330.49</td>\n",
       "      <td>22.0</td>\n",
       "    </tr>\n",
       "    <tr>\n",
       "      <th>4</th>\n",
       "      <td>1001</td>\n",
       "      <td>11</td>\n",
       "      <td>426.0</td>\n",
       "      <td>64.0</td>\n",
       "      <td>36.0</td>\n",
       "      <td>18504.30</td>\n",
       "      <td>19.0</td>\n",
       "    </tr>\n",
       "    <tr>\n",
       "      <th>...</th>\n",
       "      <td>...</td>\n",
       "      <td>...</td>\n",
       "      <td>...</td>\n",
       "      <td>...</td>\n",
       "      <td>...</td>\n",
       "      <td>...</td>\n",
       "      <td>...</td>\n",
       "    </tr>\n",
       "    <tr>\n",
       "      <th>2288</th>\n",
       "      <td>1349</td>\n",
       "      <td>12</td>\n",
       "      <td>NaN</td>\n",
       "      <td>NaN</td>\n",
       "      <td>61.0</td>\n",
       "      <td>13039.91</td>\n",
       "      <td>13.0</td>\n",
       "    </tr>\n",
       "    <tr>\n",
       "      <th>2289</th>\n",
       "      <td>1361</td>\n",
       "      <td>5</td>\n",
       "      <td>NaN</td>\n",
       "      <td>NaN</td>\n",
       "      <td>2.0</td>\n",
       "      <td>1519.69</td>\n",
       "      <td>2.0</td>\n",
       "    </tr>\n",
       "    <tr>\n",
       "      <th>2290</th>\n",
       "      <td>1482</td>\n",
       "      <td>10</td>\n",
       "      <td>NaN</td>\n",
       "      <td>NaN</td>\n",
       "      <td>2.0</td>\n",
       "      <td>NaN</td>\n",
       "      <td>NaN</td>\n",
       "    </tr>\n",
       "    <tr>\n",
       "      <th>2291</th>\n",
       "      <td>1108</td>\n",
       "      <td>12</td>\n",
       "      <td>NaN</td>\n",
       "      <td>NaN</td>\n",
       "      <td>NaN</td>\n",
       "      <td>233.17</td>\n",
       "      <td>1.0</td>\n",
       "    </tr>\n",
       "    <tr>\n",
       "      <th>2292</th>\n",
       "      <td>1311</td>\n",
       "      <td>6</td>\n",
       "      <td>NaN</td>\n",
       "      <td>NaN</td>\n",
       "      <td>NaN</td>\n",
       "      <td>1498.83</td>\n",
       "      <td>2.0</td>\n",
       "    </tr>\n",
       "  </tbody>\n",
       "</table>\n",
       "<p>2293 rows × 7 columns</p>\n",
       "</div>"
      ],
      "text/plain": [
       "      user_id  month  minutos_usados  llamadas_hechas  numero_de_mensajes  \\\n",
       "0        1000     12           124.0             16.0                11.0   \n",
       "1        1001      8           182.0             27.0                30.0   \n",
       "2        1001      9           315.0             49.0                44.0   \n",
       "3        1001     10           393.0             65.0                53.0   \n",
       "4        1001     11           426.0             64.0                36.0   \n",
       "...       ...    ...             ...              ...                 ...   \n",
       "2288     1349     12             NaN              NaN                61.0   \n",
       "2289     1361      5             NaN              NaN                 2.0   \n",
       "2290     1482     10             NaN              NaN                 2.0   \n",
       "2291     1108     12             NaN              NaN                 NaN   \n",
       "2292     1311      6             NaN              NaN                 NaN   \n",
       "\n",
       "      total_de_datos_usados  total_de_datos_usados_redondeado  \n",
       "0                   1901.47                               2.0  \n",
       "1                   6919.15                               7.0  \n",
       "2                  13314.82                              14.0  \n",
       "3                  22330.49                              22.0  \n",
       "4                  18504.30                              19.0  \n",
       "...                     ...                               ...  \n",
       "2288               13039.91                              13.0  \n",
       "2289                1519.69                               2.0  \n",
       "2290                    NaN                               NaN  \n",
       "2291                 233.17                               1.0  \n",
       "2292                1498.83                               2.0  \n",
       "\n",
       "[2293 rows x 7 columns]"
      ]
     },
     "execution_count": 78,
     "metadata": {},
     "output_type": "execute_result"
    }
   ],
   "source": [
    "tabla_de_consumo = calls_and_messages.merge(internet_analytics, on=['user_id', 'month'], how='outer')\n",
    "tabla_de_consumo"
   ]
  },
  {
   "cell_type": "code",
   "execution_count": 79,
   "metadata": {},
   "outputs": [],
   "source": [
    "# Para analizar el comportamiento de las personas por ciudad \n",
    "\n",
    "plan_analytics = users[['user_id', 'plan_id', 'city']]"
   ]
  },
  {
   "cell_type": "code",
   "execution_count": 80,
   "metadata": {},
   "outputs": [
    {
     "data": {
      "text/html": [
       "<div>\n",
       "<style scoped>\n",
       "    .dataframe tbody tr th:only-of-type {\n",
       "        vertical-align: middle;\n",
       "    }\n",
       "\n",
       "    .dataframe tbody tr th {\n",
       "        vertical-align: top;\n",
       "    }\n",
       "\n",
       "    .dataframe thead th {\n",
       "        text-align: right;\n",
       "    }\n",
       "</style>\n",
       "<table border=\"1\" class=\"dataframe\">\n",
       "  <thead>\n",
       "    <tr style=\"text-align: right;\">\n",
       "      <th></th>\n",
       "      <th>user_id</th>\n",
       "      <th>plan_id</th>\n",
       "      <th>city</th>\n",
       "    </tr>\n",
       "  </thead>\n",
       "  <tbody>\n",
       "    <tr>\n",
       "      <th>0</th>\n",
       "      <td>1000</td>\n",
       "      <td>ultimate</td>\n",
       "      <td>Atlanta-Sandy Springs-Roswell, GA MSA</td>\n",
       "    </tr>\n",
       "    <tr>\n",
       "      <th>1</th>\n",
       "      <td>1001</td>\n",
       "      <td>surf</td>\n",
       "      <td>Seattle-Tacoma-Bellevue, WA MSA</td>\n",
       "    </tr>\n",
       "    <tr>\n",
       "      <th>2</th>\n",
       "      <td>1002</td>\n",
       "      <td>surf</td>\n",
       "      <td>Las Vegas-Henderson-Paradise, NV MSA</td>\n",
       "    </tr>\n",
       "    <tr>\n",
       "      <th>3</th>\n",
       "      <td>1003</td>\n",
       "      <td>surf</td>\n",
       "      <td>Tulsa, OK MSA</td>\n",
       "    </tr>\n",
       "    <tr>\n",
       "      <th>4</th>\n",
       "      <td>1004</td>\n",
       "      <td>surf</td>\n",
       "      <td>Seattle-Tacoma-Bellevue, WA MSA</td>\n",
       "    </tr>\n",
       "    <tr>\n",
       "      <th>...</th>\n",
       "      <td>...</td>\n",
       "      <td>...</td>\n",
       "      <td>...</td>\n",
       "    </tr>\n",
       "    <tr>\n",
       "      <th>495</th>\n",
       "      <td>1495</td>\n",
       "      <td>surf</td>\n",
       "      <td>New York-Newark-Jersey City, NY-NJ-PA MSA</td>\n",
       "    </tr>\n",
       "    <tr>\n",
       "      <th>496</th>\n",
       "      <td>1496</td>\n",
       "      <td>surf</td>\n",
       "      <td>New Orleans-Metairie, LA MSA</td>\n",
       "    </tr>\n",
       "    <tr>\n",
       "      <th>497</th>\n",
       "      <td>1497</td>\n",
       "      <td>ultimate</td>\n",
       "      <td>Los Angeles-Long Beach-Anaheim, CA MSA</td>\n",
       "    </tr>\n",
       "    <tr>\n",
       "      <th>498</th>\n",
       "      <td>1498</td>\n",
       "      <td>surf</td>\n",
       "      <td>New York-Newark-Jersey City, NY-NJ-PA MSA</td>\n",
       "    </tr>\n",
       "    <tr>\n",
       "      <th>499</th>\n",
       "      <td>1499</td>\n",
       "      <td>surf</td>\n",
       "      <td>Orlando-Kissimmee-Sanford, FL MSA</td>\n",
       "    </tr>\n",
       "  </tbody>\n",
       "</table>\n",
       "<p>500 rows × 3 columns</p>\n",
       "</div>"
      ],
      "text/plain": [
       "     user_id   plan_id                                       city\n",
       "0       1000  ultimate      Atlanta-Sandy Springs-Roswell, GA MSA\n",
       "1       1001      surf            Seattle-Tacoma-Bellevue, WA MSA\n",
       "2       1002      surf       Las Vegas-Henderson-Paradise, NV MSA\n",
       "3       1003      surf                              Tulsa, OK MSA\n",
       "4       1004      surf            Seattle-Tacoma-Bellevue, WA MSA\n",
       "..       ...       ...                                        ...\n",
       "495     1495      surf  New York-Newark-Jersey City, NY-NJ-PA MSA\n",
       "496     1496      surf               New Orleans-Metairie, LA MSA\n",
       "497     1497  ultimate     Los Angeles-Long Beach-Anaheim, CA MSA\n",
       "498     1498      surf  New York-Newark-Jersey City, NY-NJ-PA MSA\n",
       "499     1499      surf          Orlando-Kissimmee-Sanford, FL MSA\n",
       "\n",
       "[500 rows x 3 columns]"
      ]
     },
     "execution_count": 80,
     "metadata": {},
     "output_type": "execute_result"
    }
   ],
   "source": [
    "plan_analytics"
   ]
  },
  {
   "cell_type": "code",
   "execution_count": 81,
   "metadata": {},
   "outputs": [],
   "source": [
    "#Ahora vamos a unir la tabla de consumo con la tabla plan= ya que cada mes las suscripciones pueden cambiar \n",
    "\n",
    "tabla_de_consumo_planes = tabla_de_consumo.merge(plan_analytics, on=['user_id'], how='outer')"
   ]
  },
  {
   "cell_type": "code",
   "execution_count": 82,
   "metadata": {},
   "outputs": [
    {
     "data": {
      "text/html": [
       "<div>\n",
       "<style scoped>\n",
       "    .dataframe tbody tr th:only-of-type {\n",
       "        vertical-align: middle;\n",
       "    }\n",
       "\n",
       "    .dataframe tbody tr th {\n",
       "        vertical-align: top;\n",
       "    }\n",
       "\n",
       "    .dataframe thead th {\n",
       "        text-align: right;\n",
       "    }\n",
       "</style>\n",
       "<table border=\"1\" class=\"dataframe\">\n",
       "  <thead>\n",
       "    <tr style=\"text-align: right;\">\n",
       "      <th></th>\n",
       "      <th>user_id</th>\n",
       "      <th>month</th>\n",
       "      <th>minutos_usados</th>\n",
       "      <th>llamadas_hechas</th>\n",
       "      <th>numero_de_mensajes</th>\n",
       "      <th>total_de_datos_usados</th>\n",
       "      <th>total_de_datos_usados_redondeado</th>\n",
       "      <th>plan_id</th>\n",
       "      <th>city</th>\n",
       "    </tr>\n",
       "  </thead>\n",
       "  <tbody>\n",
       "    <tr>\n",
       "      <th>0</th>\n",
       "      <td>1000</td>\n",
       "      <td>12.0</td>\n",
       "      <td>124.0</td>\n",
       "      <td>16.0</td>\n",
       "      <td>11.0</td>\n",
       "      <td>1901.47</td>\n",
       "      <td>2.0</td>\n",
       "      <td>ultimate</td>\n",
       "      <td>Atlanta-Sandy Springs-Roswell, GA MSA</td>\n",
       "    </tr>\n",
       "    <tr>\n",
       "      <th>1</th>\n",
       "      <td>1001</td>\n",
       "      <td>8.0</td>\n",
       "      <td>182.0</td>\n",
       "      <td>27.0</td>\n",
       "      <td>30.0</td>\n",
       "      <td>6919.15</td>\n",
       "      <td>7.0</td>\n",
       "      <td>surf</td>\n",
       "      <td>Seattle-Tacoma-Bellevue, WA MSA</td>\n",
       "    </tr>\n",
       "    <tr>\n",
       "      <th>2</th>\n",
       "      <td>1001</td>\n",
       "      <td>9.0</td>\n",
       "      <td>315.0</td>\n",
       "      <td>49.0</td>\n",
       "      <td>44.0</td>\n",
       "      <td>13314.82</td>\n",
       "      <td>14.0</td>\n",
       "      <td>surf</td>\n",
       "      <td>Seattle-Tacoma-Bellevue, WA MSA</td>\n",
       "    </tr>\n",
       "    <tr>\n",
       "      <th>3</th>\n",
       "      <td>1001</td>\n",
       "      <td>10.0</td>\n",
       "      <td>393.0</td>\n",
       "      <td>65.0</td>\n",
       "      <td>53.0</td>\n",
       "      <td>22330.49</td>\n",
       "      <td>22.0</td>\n",
       "      <td>surf</td>\n",
       "      <td>Seattle-Tacoma-Bellevue, WA MSA</td>\n",
       "    </tr>\n",
       "    <tr>\n",
       "      <th>4</th>\n",
       "      <td>1001</td>\n",
       "      <td>11.0</td>\n",
       "      <td>426.0</td>\n",
       "      <td>64.0</td>\n",
       "      <td>36.0</td>\n",
       "      <td>18504.30</td>\n",
       "      <td>19.0</td>\n",
       "      <td>surf</td>\n",
       "      <td>Seattle-Tacoma-Bellevue, WA MSA</td>\n",
       "    </tr>\n",
       "    <tr>\n",
       "      <th>...</th>\n",
       "      <td>...</td>\n",
       "      <td>...</td>\n",
       "      <td>...</td>\n",
       "      <td>...</td>\n",
       "      <td>...</td>\n",
       "      <td>...</td>\n",
       "      <td>...</td>\n",
       "      <td>...</td>\n",
       "      <td>...</td>\n",
       "    </tr>\n",
       "    <tr>\n",
       "      <th>2298</th>\n",
       "      <td>1307</td>\n",
       "      <td>NaN</td>\n",
       "      <td>NaN</td>\n",
       "      <td>NaN</td>\n",
       "      <td>NaN</td>\n",
       "      <td>NaN</td>\n",
       "      <td>NaN</td>\n",
       "      <td>surf</td>\n",
       "      <td>Boston-Cambridge-Newton, MA-NH MSA</td>\n",
       "    </tr>\n",
       "    <tr>\n",
       "      <th>2299</th>\n",
       "      <td>1319</td>\n",
       "      <td>NaN</td>\n",
       "      <td>NaN</td>\n",
       "      <td>NaN</td>\n",
       "      <td>NaN</td>\n",
       "      <td>NaN</td>\n",
       "      <td>NaN</td>\n",
       "      <td>surf</td>\n",
       "      <td>Colorado Springs, CO MSA</td>\n",
       "    </tr>\n",
       "    <tr>\n",
       "      <th>2300</th>\n",
       "      <td>1378</td>\n",
       "      <td>NaN</td>\n",
       "      <td>NaN</td>\n",
       "      <td>NaN</td>\n",
       "      <td>NaN</td>\n",
       "      <td>NaN</td>\n",
       "      <td>NaN</td>\n",
       "      <td>surf</td>\n",
       "      <td>Denver-Aurora-Lakewood, CO MSA</td>\n",
       "    </tr>\n",
       "    <tr>\n",
       "      <th>2301</th>\n",
       "      <td>1463</td>\n",
       "      <td>NaN</td>\n",
       "      <td>NaN</td>\n",
       "      <td>NaN</td>\n",
       "      <td>NaN</td>\n",
       "      <td>NaN</td>\n",
       "      <td>NaN</td>\n",
       "      <td>ultimate</td>\n",
       "      <td>Atlanta-Sandy Springs-Roswell, GA MSA</td>\n",
       "    </tr>\n",
       "    <tr>\n",
       "      <th>2302</th>\n",
       "      <td>1473</td>\n",
       "      <td>NaN</td>\n",
       "      <td>NaN</td>\n",
       "      <td>NaN</td>\n",
       "      <td>NaN</td>\n",
       "      <td>NaN</td>\n",
       "      <td>NaN</td>\n",
       "      <td>surf</td>\n",
       "      <td>Louisville/Jefferson County, KY-IN MSA</td>\n",
       "    </tr>\n",
       "  </tbody>\n",
       "</table>\n",
       "<p>2303 rows × 9 columns</p>\n",
       "</div>"
      ],
      "text/plain": [
       "      user_id  month  minutos_usados  llamadas_hechas  numero_de_mensajes  \\\n",
       "0        1000   12.0           124.0             16.0                11.0   \n",
       "1        1001    8.0           182.0             27.0                30.0   \n",
       "2        1001    9.0           315.0             49.0                44.0   \n",
       "3        1001   10.0           393.0             65.0                53.0   \n",
       "4        1001   11.0           426.0             64.0                36.0   \n",
       "...       ...    ...             ...              ...                 ...   \n",
       "2298     1307    NaN             NaN              NaN                 NaN   \n",
       "2299     1319    NaN             NaN              NaN                 NaN   \n",
       "2300     1378    NaN             NaN              NaN                 NaN   \n",
       "2301     1463    NaN             NaN              NaN                 NaN   \n",
       "2302     1473    NaN             NaN              NaN                 NaN   \n",
       "\n",
       "      total_de_datos_usados  total_de_datos_usados_redondeado   plan_id  \\\n",
       "0                   1901.47                               2.0  ultimate   \n",
       "1                   6919.15                               7.0      surf   \n",
       "2                  13314.82                              14.0      surf   \n",
       "3                  22330.49                              22.0      surf   \n",
       "4                  18504.30                              19.0      surf   \n",
       "...                     ...                               ...       ...   \n",
       "2298                    NaN                               NaN      surf   \n",
       "2299                    NaN                               NaN      surf   \n",
       "2300                    NaN                               NaN      surf   \n",
       "2301                    NaN                               NaN  ultimate   \n",
       "2302                    NaN                               NaN      surf   \n",
       "\n",
       "                                        city  \n",
       "0      Atlanta-Sandy Springs-Roswell, GA MSA  \n",
       "1            Seattle-Tacoma-Bellevue, WA MSA  \n",
       "2            Seattle-Tacoma-Bellevue, WA MSA  \n",
       "3            Seattle-Tacoma-Bellevue, WA MSA  \n",
       "4            Seattle-Tacoma-Bellevue, WA MSA  \n",
       "...                                      ...  \n",
       "2298      Boston-Cambridge-Newton, MA-NH MSA  \n",
       "2299                Colorado Springs, CO MSA  \n",
       "2300          Denver-Aurora-Lakewood, CO MSA  \n",
       "2301   Atlanta-Sandy Springs-Roswell, GA MSA  \n",
       "2302  Louisville/Jefferson County, KY-IN MSA  \n",
       "\n",
       "[2303 rows x 9 columns]"
      ]
     },
     "execution_count": 82,
     "metadata": {},
     "output_type": "execute_result"
    }
   ],
   "source": [
    "# esta es una Fact Table = tabla de hechos de la empresa \n",
    "\n",
    "tabla_de_consumo_planes"
   ]
  },
  {
   "cell_type": "code",
   "execution_count": 152,
   "metadata": {},
   "outputs": [
    {
     "data": {
      "text/html": [
       "<div>\n",
       "<style scoped>\n",
       "    .dataframe tbody tr th:only-of-type {\n",
       "        vertical-align: middle;\n",
       "    }\n",
       "\n",
       "    .dataframe tbody tr th {\n",
       "        vertical-align: top;\n",
       "    }\n",
       "\n",
       "    .dataframe thead th {\n",
       "        text-align: right;\n",
       "    }\n",
       "</style>\n",
       "<table border=\"1\" class=\"dataframe\">\n",
       "  <thead>\n",
       "    <tr style=\"text-align: right;\">\n",
       "      <th></th>\n",
       "      <th>user_id</th>\n",
       "      <th>month</th>\n",
       "      <th>minutos_usados</th>\n",
       "      <th>llamadas_hechas</th>\n",
       "      <th>numero_de_mensajes</th>\n",
       "      <th>total_de_datos_usados</th>\n",
       "      <th>total_de_datos_usados_redondeado</th>\n",
       "      <th>minutos_cobrables</th>\n",
       "      <th>mensajes_cobrables</th>\n",
       "      <th>datos_cobrables</th>\n",
       "      <th>rentabilidad_mensual</th>\n",
       "    </tr>\n",
       "    <tr>\n",
       "      <th>plan_id</th>\n",
       "      <th></th>\n",
       "      <th></th>\n",
       "      <th></th>\n",
       "      <th></th>\n",
       "      <th></th>\n",
       "      <th></th>\n",
       "      <th></th>\n",
       "      <th></th>\n",
       "      <th></th>\n",
       "      <th></th>\n",
       "      <th></th>\n",
       "    </tr>\n",
       "  </thead>\n",
       "  <tbody>\n",
       "    <tr>\n",
       "      <th>surf</th>\n",
       "      <td>1242.940469</td>\n",
       "      <td>9.182454</td>\n",
       "      <td>436.519741</td>\n",
       "      <td>60.895793</td>\n",
       "      <td>40.109656</td>\n",
       "      <td>16717.702137</td>\n",
       "      <td>16.831194</td>\n",
       "      <td>61.225459</td>\n",
       "      <td>6.986067</td>\n",
       "      <td>3.850538</td>\n",
       "      <td>60.551729</td>\n",
       "    </tr>\n",
       "    <tr>\n",
       "      <th>ultimate</th>\n",
       "      <td>1253.356354</td>\n",
       "      <td>9.151389</td>\n",
       "      <td>434.676017</td>\n",
       "      <td>61.221599</td>\n",
       "      <td>46.296233</td>\n",
       "      <td>17238.642253</td>\n",
       "      <td>17.331015</td>\n",
       "      <td>0.000000</td>\n",
       "      <td>0.000000</td>\n",
       "      <td>0.328729</td>\n",
       "      <td>72.301105</td>\n",
       "    </tr>\n",
       "  </tbody>\n",
       "</table>\n",
       "</div>"
      ],
      "text/plain": [
       "              user_id     month  minutos_usados  llamadas_hechas  \\\n",
       "plan_id                                                            \n",
       "surf      1242.940469  9.182454      436.519741        60.895793   \n",
       "ultimate  1253.356354  9.151389      434.676017        61.221599   \n",
       "\n",
       "          numero_de_mensajes  total_de_datos_usados  \\\n",
       "plan_id                                               \n",
       "surf               40.109656           16717.702137   \n",
       "ultimate           46.296233           17238.642253   \n",
       "\n",
       "          total_de_datos_usados_redondeado  minutos_cobrables  \\\n",
       "plan_id                                                         \n",
       "surf                             16.831194          61.225459   \n",
       "ultimate                         17.331015           0.000000   \n",
       "\n",
       "          mensajes_cobrables  datos_cobrables  rentabilidad_mensual  \n",
       "plan_id                                                              \n",
       "surf                6.986067         3.850538             60.551729  \n",
       "ultimate            0.000000         0.328729             72.301105  "
      ]
     },
     "execution_count": 152,
     "metadata": {},
     "output_type": "execute_result"
    }
   ],
   "source": [
    "# consumo promedio por plan \n",
    "\n",
    "totales_por_plan = tabla_de_consumo_planes.groupby('plan_id').mean()\n",
    "totales_por_plan"
   ]
  },
  {
   "cell_type": "code",
   "execution_count": 83,
   "metadata": {
    "id": "0dNOXHag0q1H"
   },
   "outputs": [],
   "source": [
    "# Añade la información de la tarifa\n",
    "\n",
    "surf_monthly_charge = 20\n",
    "surf_monthly_minutes = 500\n",
    "surf_monthly_messages = 50\n",
    "surf_monthly_data = 15\n",
    "surf_call_charge = 0.03\n",
    "surf_message_charge = 0.03\n",
    "surf_data_charge = 10\n",
    "\n",
    "ultimate_monthly_charge = 70\n",
    "ultimate_monthly_minutes = 3000\n",
    "ultimate_monthly_messages = 1000\n",
    "ultimate_monthly_data = 30 \n",
    "ultimate_call_charge = 0.01\n",
    "ultimate_message_charge = 0.01\n",
    "ultimate_data_charge = 7 "
   ]
  },
  {
   "cell_type": "markdown",
   "metadata": {
    "id": "1IwGo4wg0q1I"
   },
   "source": [
    "[Calcula los ingresos mensuales por usuario (resta el límite del paquete gratuito del número total de llamadas, mensajes de texto y datos; multiplica el resultado por el valor del plan de llamadas; añade la tarifa mensual en función del plan de llamadas). Nota: Dadas las condiciones del plan, ¡esto podría no ser tan trivial como un par de líneas! Así que no pasa nada si dedicas algo de tiempo a ello.]"
   ]
  },
  {
   "cell_type": "code",
   "execution_count": 84,
   "metadata": {
    "id": "5FGCf_c60q1I"
   },
   "outputs": [],
   "source": [
    "# Calcula el ingreso mensual para cada usuario\n",
    "\n",
    "def llamadas_por_cobrar(fila):\n",
    "    plan = fila['plan_id']\n",
    "    minutos_usados = fila['minutos_usados']\n",
    "    \n",
    "    minutos_cobrables = 0\n",
    "    \n",
    "    if plan == 'surf':\n",
    "        if minutos_usados > surf_monthly_minutes:\n",
    "            minutos_cobrables = minutos_usados - surf_monthly_minutes \n",
    "    elif plan == 'ultimate':\n",
    "        \n",
    "        if minutos_usados > ultimate_monthly_minutes:\n",
    "            minutos_cobrables = minutos_usados - ultimate_monthly_minutes        \n",
    "    return minutos_cobrables"
   ]
  },
  {
   "cell_type": "markdown",
   "metadata": {
    "id": "-jtyHzJb0q1I"
   },
   "source": [
    "## Estudia el comportamiento de usuario"
   ]
  },
  {
   "cell_type": "markdown",
   "metadata": {
    "id": "AxU3Y0N70q1J"
   },
   "source": [
    "[Calcula algunas estadísticas descriptivas para los datos agregados y fusionados que nos sean útiles y que muestren un panorama general captado por los datos. Dibuja gráficos útiles para facilitar la comprensión. Dado que la tarea principal es comparar las tarifas y decidir cuál es más rentable, las estadísticas y gráficas deben calcularse por tarifa.]\n",
    "\n",
    "[En los comentarios hallarás pistas relevantes para las llamadas, pero no las hay para los mensajes e Internet. Sin embargo, el principio del estudio estadístico que se aplica para ellos es el mismo que para las llamadas.]"
   ]
  },
  {
   "cell_type": "markdown",
   "metadata": {
    "id": "vtW4CJEe0q1J"
   },
   "source": [
    "### Llamadas"
   ]
  },
  {
   "cell_type": "code",
   "execution_count": 85,
   "metadata": {
    "id": "Jf5v5--k0q1J"
   },
   "outputs": [],
   "source": [
    "# Compara la duración promedio de llamadas por cada plan y por cada mes. Traza un gráfico de barras para visualizarla.\n",
    "\n",
    "tabla_de_consumo_planes['minutos_cobrables'] = tabla_de_consumo_planes.apply(llamadas_por_cobrar, axis =1)"
   ]
  },
  {
   "cell_type": "code",
   "execution_count": 86,
   "metadata": {},
   "outputs": [
    {
     "data": {
      "text/html": [
       "<div>\n",
       "<style scoped>\n",
       "    .dataframe tbody tr th:only-of-type {\n",
       "        vertical-align: middle;\n",
       "    }\n",
       "\n",
       "    .dataframe tbody tr th {\n",
       "        vertical-align: top;\n",
       "    }\n",
       "\n",
       "    .dataframe thead th {\n",
       "        text-align: right;\n",
       "    }\n",
       "</style>\n",
       "<table border=\"1\" class=\"dataframe\">\n",
       "  <thead>\n",
       "    <tr style=\"text-align: right;\">\n",
       "      <th></th>\n",
       "      <th>user_id</th>\n",
       "      <th>month</th>\n",
       "      <th>minutos_usados</th>\n",
       "      <th>llamadas_hechas</th>\n",
       "      <th>numero_de_mensajes</th>\n",
       "      <th>total_de_datos_usados</th>\n",
       "      <th>total_de_datos_usados_redondeado</th>\n",
       "      <th>plan_id</th>\n",
       "      <th>city</th>\n",
       "      <th>minutos_cobrables</th>\n",
       "    </tr>\n",
       "  </thead>\n",
       "  <tbody>\n",
       "    <tr>\n",
       "      <th>0</th>\n",
       "      <td>1000</td>\n",
       "      <td>12.0</td>\n",
       "      <td>124.0</td>\n",
       "      <td>16.0</td>\n",
       "      <td>11.0</td>\n",
       "      <td>1901.47</td>\n",
       "      <td>2.0</td>\n",
       "      <td>ultimate</td>\n",
       "      <td>Atlanta-Sandy Springs-Roswell, GA MSA</td>\n",
       "      <td>0.0</td>\n",
       "    </tr>\n",
       "    <tr>\n",
       "      <th>1</th>\n",
       "      <td>1001</td>\n",
       "      <td>8.0</td>\n",
       "      <td>182.0</td>\n",
       "      <td>27.0</td>\n",
       "      <td>30.0</td>\n",
       "      <td>6919.15</td>\n",
       "      <td>7.0</td>\n",
       "      <td>surf</td>\n",
       "      <td>Seattle-Tacoma-Bellevue, WA MSA</td>\n",
       "      <td>0.0</td>\n",
       "    </tr>\n",
       "    <tr>\n",
       "      <th>2</th>\n",
       "      <td>1001</td>\n",
       "      <td>9.0</td>\n",
       "      <td>315.0</td>\n",
       "      <td>49.0</td>\n",
       "      <td>44.0</td>\n",
       "      <td>13314.82</td>\n",
       "      <td>14.0</td>\n",
       "      <td>surf</td>\n",
       "      <td>Seattle-Tacoma-Bellevue, WA MSA</td>\n",
       "      <td>0.0</td>\n",
       "    </tr>\n",
       "    <tr>\n",
       "      <th>3</th>\n",
       "      <td>1001</td>\n",
       "      <td>10.0</td>\n",
       "      <td>393.0</td>\n",
       "      <td>65.0</td>\n",
       "      <td>53.0</td>\n",
       "      <td>22330.49</td>\n",
       "      <td>22.0</td>\n",
       "      <td>surf</td>\n",
       "      <td>Seattle-Tacoma-Bellevue, WA MSA</td>\n",
       "      <td>0.0</td>\n",
       "    </tr>\n",
       "    <tr>\n",
       "      <th>4</th>\n",
       "      <td>1001</td>\n",
       "      <td>11.0</td>\n",
       "      <td>426.0</td>\n",
       "      <td>64.0</td>\n",
       "      <td>36.0</td>\n",
       "      <td>18504.30</td>\n",
       "      <td>19.0</td>\n",
       "      <td>surf</td>\n",
       "      <td>Seattle-Tacoma-Bellevue, WA MSA</td>\n",
       "      <td>0.0</td>\n",
       "    </tr>\n",
       "    <tr>\n",
       "      <th>...</th>\n",
       "      <td>...</td>\n",
       "      <td>...</td>\n",
       "      <td>...</td>\n",
       "      <td>...</td>\n",
       "      <td>...</td>\n",
       "      <td>...</td>\n",
       "      <td>...</td>\n",
       "      <td>...</td>\n",
       "      <td>...</td>\n",
       "      <td>...</td>\n",
       "    </tr>\n",
       "    <tr>\n",
       "      <th>2298</th>\n",
       "      <td>1307</td>\n",
       "      <td>NaN</td>\n",
       "      <td>NaN</td>\n",
       "      <td>NaN</td>\n",
       "      <td>NaN</td>\n",
       "      <td>NaN</td>\n",
       "      <td>NaN</td>\n",
       "      <td>surf</td>\n",
       "      <td>Boston-Cambridge-Newton, MA-NH MSA</td>\n",
       "      <td>0.0</td>\n",
       "    </tr>\n",
       "    <tr>\n",
       "      <th>2299</th>\n",
       "      <td>1319</td>\n",
       "      <td>NaN</td>\n",
       "      <td>NaN</td>\n",
       "      <td>NaN</td>\n",
       "      <td>NaN</td>\n",
       "      <td>NaN</td>\n",
       "      <td>NaN</td>\n",
       "      <td>surf</td>\n",
       "      <td>Colorado Springs, CO MSA</td>\n",
       "      <td>0.0</td>\n",
       "    </tr>\n",
       "    <tr>\n",
       "      <th>2300</th>\n",
       "      <td>1378</td>\n",
       "      <td>NaN</td>\n",
       "      <td>NaN</td>\n",
       "      <td>NaN</td>\n",
       "      <td>NaN</td>\n",
       "      <td>NaN</td>\n",
       "      <td>NaN</td>\n",
       "      <td>surf</td>\n",
       "      <td>Denver-Aurora-Lakewood, CO MSA</td>\n",
       "      <td>0.0</td>\n",
       "    </tr>\n",
       "    <tr>\n",
       "      <th>2301</th>\n",
       "      <td>1463</td>\n",
       "      <td>NaN</td>\n",
       "      <td>NaN</td>\n",
       "      <td>NaN</td>\n",
       "      <td>NaN</td>\n",
       "      <td>NaN</td>\n",
       "      <td>NaN</td>\n",
       "      <td>ultimate</td>\n",
       "      <td>Atlanta-Sandy Springs-Roswell, GA MSA</td>\n",
       "      <td>0.0</td>\n",
       "    </tr>\n",
       "    <tr>\n",
       "      <th>2302</th>\n",
       "      <td>1473</td>\n",
       "      <td>NaN</td>\n",
       "      <td>NaN</td>\n",
       "      <td>NaN</td>\n",
       "      <td>NaN</td>\n",
       "      <td>NaN</td>\n",
       "      <td>NaN</td>\n",
       "      <td>surf</td>\n",
       "      <td>Louisville/Jefferson County, KY-IN MSA</td>\n",
       "      <td>0.0</td>\n",
       "    </tr>\n",
       "  </tbody>\n",
       "</table>\n",
       "<p>2303 rows × 10 columns</p>\n",
       "</div>"
      ],
      "text/plain": [
       "      user_id  month  minutos_usados  llamadas_hechas  numero_de_mensajes  \\\n",
       "0        1000   12.0           124.0             16.0                11.0   \n",
       "1        1001    8.0           182.0             27.0                30.0   \n",
       "2        1001    9.0           315.0             49.0                44.0   \n",
       "3        1001   10.0           393.0             65.0                53.0   \n",
       "4        1001   11.0           426.0             64.0                36.0   \n",
       "...       ...    ...             ...              ...                 ...   \n",
       "2298     1307    NaN             NaN              NaN                 NaN   \n",
       "2299     1319    NaN             NaN              NaN                 NaN   \n",
       "2300     1378    NaN             NaN              NaN                 NaN   \n",
       "2301     1463    NaN             NaN              NaN                 NaN   \n",
       "2302     1473    NaN             NaN              NaN                 NaN   \n",
       "\n",
       "      total_de_datos_usados  total_de_datos_usados_redondeado   plan_id  \\\n",
       "0                   1901.47                               2.0  ultimate   \n",
       "1                   6919.15                               7.0      surf   \n",
       "2                  13314.82                              14.0      surf   \n",
       "3                  22330.49                              22.0      surf   \n",
       "4                  18504.30                              19.0      surf   \n",
       "...                     ...                               ...       ...   \n",
       "2298                    NaN                               NaN      surf   \n",
       "2299                    NaN                               NaN      surf   \n",
       "2300                    NaN                               NaN      surf   \n",
       "2301                    NaN                               NaN  ultimate   \n",
       "2302                    NaN                               NaN      surf   \n",
       "\n",
       "                                        city  minutos_cobrables  \n",
       "0      Atlanta-Sandy Springs-Roswell, GA MSA                0.0  \n",
       "1            Seattle-Tacoma-Bellevue, WA MSA                0.0  \n",
       "2            Seattle-Tacoma-Bellevue, WA MSA                0.0  \n",
       "3            Seattle-Tacoma-Bellevue, WA MSA                0.0  \n",
       "4            Seattle-Tacoma-Bellevue, WA MSA                0.0  \n",
       "...                                      ...                ...  \n",
       "2298      Boston-Cambridge-Newton, MA-NH MSA                0.0  \n",
       "2299                Colorado Springs, CO MSA                0.0  \n",
       "2300          Denver-Aurora-Lakewood, CO MSA                0.0  \n",
       "2301   Atlanta-Sandy Springs-Roswell, GA MSA                0.0  \n",
       "2302  Louisville/Jefferson County, KY-IN MSA                0.0  \n",
       "\n",
       "[2303 rows x 10 columns]"
      ]
     },
     "execution_count": 86,
     "metadata": {},
     "output_type": "execute_result"
    }
   ],
   "source": [
    "tabla_de_consumo_planes"
   ]
  },
  {
   "cell_type": "code",
   "execution_count": 87,
   "metadata": {
    "id": "QoLqW1S_0q1J"
   },
   "outputs": [
    {
     "data": {
      "text/html": [
       "<div>\n",
       "<style scoped>\n",
       "    .dataframe tbody tr th:only-of-type {\n",
       "        vertical-align: middle;\n",
       "    }\n",
       "\n",
       "    .dataframe tbody tr th {\n",
       "        vertical-align: top;\n",
       "    }\n",
       "\n",
       "    .dataframe thead th {\n",
       "        text-align: right;\n",
       "    }\n",
       "</style>\n",
       "<table border=\"1\" class=\"dataframe\">\n",
       "  <thead>\n",
       "    <tr style=\"text-align: right;\">\n",
       "      <th></th>\n",
       "      <th>user_id</th>\n",
       "      <th>month</th>\n",
       "      <th>minutos_usados</th>\n",
       "      <th>llamadas_hechas</th>\n",
       "      <th>numero_de_mensajes</th>\n",
       "      <th>total_de_datos_usados</th>\n",
       "      <th>total_de_datos_usados_redondeado</th>\n",
       "      <th>plan_id</th>\n",
       "      <th>city</th>\n",
       "      <th>minutos_cobrables</th>\n",
       "    </tr>\n",
       "  </thead>\n",
       "  <tbody>\n",
       "    <tr>\n",
       "      <th>9</th>\n",
       "      <td>1003</td>\n",
       "      <td>12.0</td>\n",
       "      <td>1104.0</td>\n",
       "      <td>149.0</td>\n",
       "      <td>50.0</td>\n",
       "      <td>27044.14</td>\n",
       "      <td>27.0</td>\n",
       "      <td>surf</td>\n",
       "      <td>Tulsa, OK MSA</td>\n",
       "      <td>604.0</td>\n",
       "    </tr>\n",
       "    <tr>\n",
       "      <th>23</th>\n",
       "      <td>1007</td>\n",
       "      <td>10.0</td>\n",
       "      <td>645.0</td>\n",
       "      <td>80.0</td>\n",
       "      <td>59.0</td>\n",
       "      <td>37885.63</td>\n",
       "      <td>37.0</td>\n",
       "      <td>surf</td>\n",
       "      <td>Grand Rapids-Kentwood, MI MSA</td>\n",
       "      <td>145.0</td>\n",
       "    </tr>\n",
       "    <tr>\n",
       "      <th>24</th>\n",
       "      <td>1007</td>\n",
       "      <td>11.0</td>\n",
       "      <td>524.0</td>\n",
       "      <td>80.0</td>\n",
       "      <td>48.0</td>\n",
       "      <td>24334.00</td>\n",
       "      <td>24.0</td>\n",
       "      <td>surf</td>\n",
       "      <td>Grand Rapids-Kentwood, MI MSA</td>\n",
       "      <td>24.0</td>\n",
       "    </tr>\n",
       "    <tr>\n",
       "      <th>25</th>\n",
       "      <td>1007</td>\n",
       "      <td>12.0</td>\n",
       "      <td>617.0</td>\n",
       "      <td>87.0</td>\n",
       "      <td>50.0</td>\n",
       "      <td>29069.28</td>\n",
       "      <td>29.0</td>\n",
       "      <td>surf</td>\n",
       "      <td>Grand Rapids-Kentwood, MI MSA</td>\n",
       "      <td>117.0</td>\n",
       "    </tr>\n",
       "    <tr>\n",
       "      <th>29</th>\n",
       "      <td>1009</td>\n",
       "      <td>5.0</td>\n",
       "      <td>534.0</td>\n",
       "      <td>71.0</td>\n",
       "      <td>NaN</td>\n",
       "      <td>20389.40</td>\n",
       "      <td>20.0</td>\n",
       "      <td>surf</td>\n",
       "      <td>San Jose-Sunnyvale-Santa Clara, CA MSA</td>\n",
       "      <td>34.0</td>\n",
       "    </tr>\n",
       "    <tr>\n",
       "      <th>...</th>\n",
       "      <td>...</td>\n",
       "      <td>...</td>\n",
       "      <td>...</td>\n",
       "      <td>...</td>\n",
       "      <td>...</td>\n",
       "      <td>...</td>\n",
       "      <td>...</td>\n",
       "      <td>...</td>\n",
       "      <td>...</td>\n",
       "      <td>...</td>\n",
       "    </tr>\n",
       "    <tr>\n",
       "      <th>2205</th>\n",
       "      <td>1489</td>\n",
       "      <td>10.0</td>\n",
       "      <td>518.0</td>\n",
       "      <td>66.0</td>\n",
       "      <td>84.0</td>\n",
       "      <td>14695.08</td>\n",
       "      <td>15.0</td>\n",
       "      <td>surf</td>\n",
       "      <td>Detroit-Warren-Dearborn, MI MSA</td>\n",
       "      <td>18.0</td>\n",
       "    </tr>\n",
       "    <tr>\n",
       "      <th>2220</th>\n",
       "      <td>1491</td>\n",
       "      <td>10.0</td>\n",
       "      <td>585.0</td>\n",
       "      <td>75.0</td>\n",
       "      <td>51.0</td>\n",
       "      <td>8480.09</td>\n",
       "      <td>9.0</td>\n",
       "      <td>surf</td>\n",
       "      <td>Grand Rapids-Kentwood, MI MSA</td>\n",
       "      <td>85.0</td>\n",
       "    </tr>\n",
       "    <tr>\n",
       "      <th>2235</th>\n",
       "      <td>1494</td>\n",
       "      <td>10.0</td>\n",
       "      <td>616.0</td>\n",
       "      <td>78.0</td>\n",
       "      <td>38.0</td>\n",
       "      <td>14498.50</td>\n",
       "      <td>15.0</td>\n",
       "      <td>surf</td>\n",
       "      <td>New York-Newark-Jersey City, NY-NJ-PA MSA</td>\n",
       "      <td>116.0</td>\n",
       "    </tr>\n",
       "    <tr>\n",
       "      <th>2236</th>\n",
       "      <td>1494</td>\n",
       "      <td>11.0</td>\n",
       "      <td>509.0</td>\n",
       "      <td>82.0</td>\n",
       "      <td>35.0</td>\n",
       "      <td>18405.82</td>\n",
       "      <td>18.0</td>\n",
       "      <td>surf</td>\n",
       "      <td>New York-Newark-Jersey City, NY-NJ-PA MSA</td>\n",
       "      <td>9.0</td>\n",
       "    </tr>\n",
       "    <tr>\n",
       "      <th>2239</th>\n",
       "      <td>1495</td>\n",
       "      <td>10.0</td>\n",
       "      <td>610.0</td>\n",
       "      <td>75.0</td>\n",
       "      <td>NaN</td>\n",
       "      <td>26899.41</td>\n",
       "      <td>27.0</td>\n",
       "      <td>surf</td>\n",
       "      <td>New York-Newark-Jersey City, NY-NJ-PA MSA</td>\n",
       "      <td>110.0</td>\n",
       "    </tr>\n",
       "  </tbody>\n",
       "</table>\n",
       "<p>566 rows × 10 columns</p>\n",
       "</div>"
      ],
      "text/plain": [
       "      user_id  month  minutos_usados  llamadas_hechas  numero_de_mensajes  \\\n",
       "9        1003   12.0          1104.0            149.0                50.0   \n",
       "23       1007   10.0           645.0             80.0                59.0   \n",
       "24       1007   11.0           524.0             80.0                48.0   \n",
       "25       1007   12.0           617.0             87.0                50.0   \n",
       "29       1009    5.0           534.0             71.0                 NaN   \n",
       "...       ...    ...             ...              ...                 ...   \n",
       "2205     1489   10.0           518.0             66.0                84.0   \n",
       "2220     1491   10.0           585.0             75.0                51.0   \n",
       "2235     1494   10.0           616.0             78.0                38.0   \n",
       "2236     1494   11.0           509.0             82.0                35.0   \n",
       "2239     1495   10.0           610.0             75.0                 NaN   \n",
       "\n",
       "      total_de_datos_usados  total_de_datos_usados_redondeado plan_id  \\\n",
       "9                  27044.14                              27.0    surf   \n",
       "23                 37885.63                              37.0    surf   \n",
       "24                 24334.00                              24.0    surf   \n",
       "25                 29069.28                              29.0    surf   \n",
       "29                 20389.40                              20.0    surf   \n",
       "...                     ...                               ...     ...   \n",
       "2205               14695.08                              15.0    surf   \n",
       "2220                8480.09                               9.0    surf   \n",
       "2235               14498.50                              15.0    surf   \n",
       "2236               18405.82                              18.0    surf   \n",
       "2239               26899.41                              27.0    surf   \n",
       "\n",
       "                                           city  minutos_cobrables  \n",
       "9                                 Tulsa, OK MSA              604.0  \n",
       "23                Grand Rapids-Kentwood, MI MSA              145.0  \n",
       "24                Grand Rapids-Kentwood, MI MSA               24.0  \n",
       "25                Grand Rapids-Kentwood, MI MSA              117.0  \n",
       "29       San Jose-Sunnyvale-Santa Clara, CA MSA               34.0  \n",
       "...                                         ...                ...  \n",
       "2205            Detroit-Warren-Dearborn, MI MSA               18.0  \n",
       "2220              Grand Rapids-Kentwood, MI MSA               85.0  \n",
       "2235  New York-Newark-Jersey City, NY-NJ-PA MSA              116.0  \n",
       "2236  New York-Newark-Jersey City, NY-NJ-PA MSA                9.0  \n",
       "2239  New York-Newark-Jersey City, NY-NJ-PA MSA              110.0  \n",
       "\n",
       "[566 rows x 10 columns]"
      ]
     },
     "execution_count": 87,
     "metadata": {},
     "output_type": "execute_result"
    }
   ],
   "source": [
    "# Compara el número de minutos mensuales que necesitan los usuarios de cada plan. Traza un histograma.\n",
    "\n",
    "tabla_de_consumo_planes.query('minutos_cobrables !=0')"
   ]
  },
  {
   "cell_type": "code",
   "execution_count": 88,
   "metadata": {},
   "outputs": [
    {
     "data": {
      "text/plain": [
       "0.2457663916630482"
      ]
     },
     "execution_count": 88,
     "metadata": {},
     "output_type": "execute_result"
    }
   ],
   "source": [
    "#cuantas personas se les va a cobrar al mes\n",
    "\n",
    "len(tabla_de_consumo_planes.query('minutos_cobrables > 0'))/len(tabla_de_consumo_planes)"
   ]
  },
  {
   "cell_type": "code",
   "execution_count": 89,
   "metadata": {},
   "outputs": [],
   "source": [
    "## ** a 24% de las personas les voy a cobrar por minutos**"
   ]
  },
  {
   "cell_type": "markdown",
   "metadata": {
    "id": "bLS9T8OH0q1K"
   },
   "source": [
    "[Calcula la media y la variable de la duración de las llamadas para averiguar si los usuarios de los distintos planes se comportan de forma diferente al realizar sus llamadas.]"
   ]
  },
  {
   "cell_type": "code",
   "execution_count": 137,
   "metadata": {
    "id": "oSndbAnt0q1K"
   },
   "outputs": [
    {
     "data": {
      "text/plain": [
       "41.97785497177595"
      ]
     },
     "execution_count": 137,
     "metadata": {},
     "output_type": "execute_result"
    }
   ],
   "source": [
    "# Calcula la media y la varianza de la duración mensual de llamadas.\n",
    "\n",
    "duracion_promedio_llamadas = tabla_de_consumo_planes['minutos_cobrables'].mean()\n",
    "duracion_promedio_llamadas "
   ]
  },
  {
   "cell_type": "code",
   "execution_count": 138,
   "metadata": {},
   "outputs": [
    {
     "data": {
      "text/plain": [
       "11577.986042833867"
      ]
     },
     "execution_count": 138,
     "metadata": {},
     "output_type": "execute_result"
    }
   ],
   "source": [
    "varianza_duracion_llamadas = tabla_de_consumo_planes['minutos_cobrables'].var()\n",
    "varianza_duracion_llamadas"
   ]
  },
  {
   "cell_type": "code",
   "execution_count": 139,
   "metadata": {
    "id": "nZzoRUKc0q1K"
   },
   "outputs": [],
   "source": [
    "# Traza un diagrama de caja para visualizar la distribución de la duración mensual de llamadas\n",
    "\n",
    "import pandas as pd\n",
    "import matplotlib.pyplot as plt\n",
    "import seaborn as sns\n"
   ]
  },
  {
   "cell_type": "code",
   "execution_count": 144,
   "metadata": {},
   "outputs": [
    {
     "data": {
      "image/png": "[encoded data removed]",
      "text/plain": [
       "<Figure size 1000x600 with 1 Axes>"
      ]
     },
     "metadata": {},
     "output_type": "display_data"
    }
   ],
   "source": [
    "# Trazar un diagrama de caja (boxplot) usando seaborn\n",
    "plt.figure(figsize=(10, 6))\n",
    "sns.boxplot(x='plan_id', y='minutos_cobrables', data=tabla_de_consumo_planes)\n",
    "plt.title('Distribución de la duración mensual de llamadas por plan')\n",
    "plt.xlabel('Plan')\n",
    "plt.ylabel('Minutos cobrables')\n",
    "plt.show()"
   ]
  },
  {
   "cell_type": "code",
   "execution_count": 146,
   "metadata": {},
   "outputs": [
    {
     "data": {
      "text/plain": [
       "surf        1579\n",
       "ultimate     724\n",
       "Name: plan_id, dtype: int64"
      ]
     },
     "execution_count": 146,
     "metadata": {},
     "output_type": "execute_result"
    }
   ],
   "source": [
    "conteo_llamadas_plan = tabla_de_consumo_planes['plan_id'].value_counts()\n",
    "conteo_llamadas_plan"
   ]
  },
  {
   "cell_type": "markdown",
   "metadata": {
    "id": "r627zBO50q1K"
   },
   "source": [
    "[Elabora las conclusiones sobre el comportamiento de los usuarios con respecto a las llamadas. ¿Su comportamiento varía en función del plan?]\n",
    "\n",
    "**El comportamiento de los usuarios es muy diferente en cada plan, ya que en el plan ultimate los usuarios realizan muy pocas llamadas 724. En cuanto al plan surf, los usuarios gastan mas llamadas y tiene  una distribución más dispersa ya que la mayoría de los usuarios se encuentran en la parte inferior del gráfico (cerca de los 0 a 300 minutos), hay algunos que hacen muchas más llamadas, como indican los outliers que llegan hasta más de 1000 minutos.**"
   ]
  },
  {
   "cell_type": "markdown",
   "metadata": {
    "id": "8idKy8Wh0q1L"
   },
   "source": [
    "### Mensajes"
   ]
  },
  {
   "cell_type": "code",
   "execution_count": 92,
   "metadata": {
    "id": "NXLxiTit0q1L"
   },
   "outputs": [],
   "source": [
    "# Comprara el número de mensajes que tienden a enviar cada mes los usuarios de cada plan\n",
    "\n",
    "def mensajes_por_cobrar(row):\n",
    "    plan = row['plan_id']\n",
    "    number_of_texts = row['numero_de_mensajes']\n",
    "    \n",
    "    mensajes_cobrables = 0\n",
    "    \n",
    "    if plan == 'surf':\n",
    "        if number_of_texts > surf_monthly_messages:\n",
    "            mensajes_cobrables = number_of_texts - surf_monthly_messages \n",
    "    elif plan == 'ultimate':\n",
    "        \n",
    "        if number_of_texts > ultimate_monthly_messages:\n",
    "            mensajes_cobrables = number_of_texts - ultimate_monthly_messages\n",
    "            \n",
    "    return mensajes_cobrables"
   ]
  },
  {
   "cell_type": "code",
   "execution_count": 93,
   "metadata": {},
   "outputs": [],
   "source": [
    "tabla_de_consumo_planes['mensajes_cobrables'] = tabla_de_consumo_planes.apply(mensajes_por_cobrar, axis = 1)"
   ]
  },
  {
   "cell_type": "code",
   "execution_count": 94,
   "metadata": {},
   "outputs": [
    {
     "data": {
      "text/html": [
       "<div>\n",
       "<style scoped>\n",
       "    .dataframe tbody tr th:only-of-type {\n",
       "        vertical-align: middle;\n",
       "    }\n",
       "\n",
       "    .dataframe tbody tr th {\n",
       "        vertical-align: top;\n",
       "    }\n",
       "\n",
       "    .dataframe thead th {\n",
       "        text-align: right;\n",
       "    }\n",
       "</style>\n",
       "<table border=\"1\" class=\"dataframe\">\n",
       "  <thead>\n",
       "    <tr style=\"text-align: right;\">\n",
       "      <th></th>\n",
       "      <th>user_id</th>\n",
       "      <th>month</th>\n",
       "      <th>minutos_usados</th>\n",
       "      <th>llamadas_hechas</th>\n",
       "      <th>numero_de_mensajes</th>\n",
       "      <th>total_de_datos_usados</th>\n",
       "      <th>total_de_datos_usados_redondeado</th>\n",
       "      <th>plan_id</th>\n",
       "      <th>city</th>\n",
       "      <th>minutos_cobrables</th>\n",
       "      <th>mensajes_cobrables</th>\n",
       "    </tr>\n",
       "  </thead>\n",
       "  <tbody>\n",
       "    <tr>\n",
       "      <th>0</th>\n",
       "      <td>1000</td>\n",
       "      <td>12.0</td>\n",
       "      <td>124.0</td>\n",
       "      <td>16.0</td>\n",
       "      <td>11.0</td>\n",
       "      <td>1901.47</td>\n",
       "      <td>2.0</td>\n",
       "      <td>ultimate</td>\n",
       "      <td>Atlanta-Sandy Springs-Roswell, GA MSA</td>\n",
       "      <td>0.0</td>\n",
       "      <td>0.0</td>\n",
       "    </tr>\n",
       "    <tr>\n",
       "      <th>1</th>\n",
       "      <td>1001</td>\n",
       "      <td>8.0</td>\n",
       "      <td>182.0</td>\n",
       "      <td>27.0</td>\n",
       "      <td>30.0</td>\n",
       "      <td>6919.15</td>\n",
       "      <td>7.0</td>\n",
       "      <td>surf</td>\n",
       "      <td>Seattle-Tacoma-Bellevue, WA MSA</td>\n",
       "      <td>0.0</td>\n",
       "      <td>0.0</td>\n",
       "    </tr>\n",
       "    <tr>\n",
       "      <th>2</th>\n",
       "      <td>1001</td>\n",
       "      <td>9.0</td>\n",
       "      <td>315.0</td>\n",
       "      <td>49.0</td>\n",
       "      <td>44.0</td>\n",
       "      <td>13314.82</td>\n",
       "      <td>14.0</td>\n",
       "      <td>surf</td>\n",
       "      <td>Seattle-Tacoma-Bellevue, WA MSA</td>\n",
       "      <td>0.0</td>\n",
       "      <td>0.0</td>\n",
       "    </tr>\n",
       "    <tr>\n",
       "      <th>3</th>\n",
       "      <td>1001</td>\n",
       "      <td>10.0</td>\n",
       "      <td>393.0</td>\n",
       "      <td>65.0</td>\n",
       "      <td>53.0</td>\n",
       "      <td>22330.49</td>\n",
       "      <td>22.0</td>\n",
       "      <td>surf</td>\n",
       "      <td>Seattle-Tacoma-Bellevue, WA MSA</td>\n",
       "      <td>0.0</td>\n",
       "      <td>3.0</td>\n",
       "    </tr>\n",
       "    <tr>\n",
       "      <th>4</th>\n",
       "      <td>1001</td>\n",
       "      <td>11.0</td>\n",
       "      <td>426.0</td>\n",
       "      <td>64.0</td>\n",
       "      <td>36.0</td>\n",
       "      <td>18504.30</td>\n",
       "      <td>19.0</td>\n",
       "      <td>surf</td>\n",
       "      <td>Seattle-Tacoma-Bellevue, WA MSA</td>\n",
       "      <td>0.0</td>\n",
       "      <td>0.0</td>\n",
       "    </tr>\n",
       "    <tr>\n",
       "      <th>...</th>\n",
       "      <td>...</td>\n",
       "      <td>...</td>\n",
       "      <td>...</td>\n",
       "      <td>...</td>\n",
       "      <td>...</td>\n",
       "      <td>...</td>\n",
       "      <td>...</td>\n",
       "      <td>...</td>\n",
       "      <td>...</td>\n",
       "      <td>...</td>\n",
       "      <td>...</td>\n",
       "    </tr>\n",
       "    <tr>\n",
       "      <th>2298</th>\n",
       "      <td>1307</td>\n",
       "      <td>NaN</td>\n",
       "      <td>NaN</td>\n",
       "      <td>NaN</td>\n",
       "      <td>NaN</td>\n",
       "      <td>NaN</td>\n",
       "      <td>NaN</td>\n",
       "      <td>surf</td>\n",
       "      <td>Boston-Cambridge-Newton, MA-NH MSA</td>\n",
       "      <td>0.0</td>\n",
       "      <td>0.0</td>\n",
       "    </tr>\n",
       "    <tr>\n",
       "      <th>2299</th>\n",
       "      <td>1319</td>\n",
       "      <td>NaN</td>\n",
       "      <td>NaN</td>\n",
       "      <td>NaN</td>\n",
       "      <td>NaN</td>\n",
       "      <td>NaN</td>\n",
       "      <td>NaN</td>\n",
       "      <td>surf</td>\n",
       "      <td>Colorado Springs, CO MSA</td>\n",
       "      <td>0.0</td>\n",
       "      <td>0.0</td>\n",
       "    </tr>\n",
       "    <tr>\n",
       "      <th>2300</th>\n",
       "      <td>1378</td>\n",
       "      <td>NaN</td>\n",
       "      <td>NaN</td>\n",
       "      <td>NaN</td>\n",
       "      <td>NaN</td>\n",
       "      <td>NaN</td>\n",
       "      <td>NaN</td>\n",
       "      <td>surf</td>\n",
       "      <td>Denver-Aurora-Lakewood, CO MSA</td>\n",
       "      <td>0.0</td>\n",
       "      <td>0.0</td>\n",
       "    </tr>\n",
       "    <tr>\n",
       "      <th>2301</th>\n",
       "      <td>1463</td>\n",
       "      <td>NaN</td>\n",
       "      <td>NaN</td>\n",
       "      <td>NaN</td>\n",
       "      <td>NaN</td>\n",
       "      <td>NaN</td>\n",
       "      <td>NaN</td>\n",
       "      <td>ultimate</td>\n",
       "      <td>Atlanta-Sandy Springs-Roswell, GA MSA</td>\n",
       "      <td>0.0</td>\n",
       "      <td>0.0</td>\n",
       "    </tr>\n",
       "    <tr>\n",
       "      <th>2302</th>\n",
       "      <td>1473</td>\n",
       "      <td>NaN</td>\n",
       "      <td>NaN</td>\n",
       "      <td>NaN</td>\n",
       "      <td>NaN</td>\n",
       "      <td>NaN</td>\n",
       "      <td>NaN</td>\n",
       "      <td>surf</td>\n",
       "      <td>Louisville/Jefferson County, KY-IN MSA</td>\n",
       "      <td>0.0</td>\n",
       "      <td>0.0</td>\n",
       "    </tr>\n",
       "  </tbody>\n",
       "</table>\n",
       "<p>2303 rows × 11 columns</p>\n",
       "</div>"
      ],
      "text/plain": [
       "      user_id  month  minutos_usados  llamadas_hechas  numero_de_mensajes  \\\n",
       "0        1000   12.0           124.0             16.0                11.0   \n",
       "1        1001    8.0           182.0             27.0                30.0   \n",
       "2        1001    9.0           315.0             49.0                44.0   \n",
       "3        1001   10.0           393.0             65.0                53.0   \n",
       "4        1001   11.0           426.0             64.0                36.0   \n",
       "...       ...    ...             ...              ...                 ...   \n",
       "2298     1307    NaN             NaN              NaN                 NaN   \n",
       "2299     1319    NaN             NaN              NaN                 NaN   \n",
       "2300     1378    NaN             NaN              NaN                 NaN   \n",
       "2301     1463    NaN             NaN              NaN                 NaN   \n",
       "2302     1473    NaN             NaN              NaN                 NaN   \n",
       "\n",
       "      total_de_datos_usados  total_de_datos_usados_redondeado   plan_id  \\\n",
       "0                   1901.47                               2.0  ultimate   \n",
       "1                   6919.15                               7.0      surf   \n",
       "2                  13314.82                              14.0      surf   \n",
       "3                  22330.49                              22.0      surf   \n",
       "4                  18504.30                              19.0      surf   \n",
       "...                     ...                               ...       ...   \n",
       "2298                    NaN                               NaN      surf   \n",
       "2299                    NaN                               NaN      surf   \n",
       "2300                    NaN                               NaN      surf   \n",
       "2301                    NaN                               NaN  ultimate   \n",
       "2302                    NaN                               NaN      surf   \n",
       "\n",
       "                                        city  minutos_cobrables  \\\n",
       "0      Atlanta-Sandy Springs-Roswell, GA MSA                0.0   \n",
       "1            Seattle-Tacoma-Bellevue, WA MSA                0.0   \n",
       "2            Seattle-Tacoma-Bellevue, WA MSA                0.0   \n",
       "3            Seattle-Tacoma-Bellevue, WA MSA                0.0   \n",
       "4            Seattle-Tacoma-Bellevue, WA MSA                0.0   \n",
       "...                                      ...                ...   \n",
       "2298      Boston-Cambridge-Newton, MA-NH MSA                0.0   \n",
       "2299                Colorado Springs, CO MSA                0.0   \n",
       "2300          Denver-Aurora-Lakewood, CO MSA                0.0   \n",
       "2301   Atlanta-Sandy Springs-Roswell, GA MSA                0.0   \n",
       "2302  Louisville/Jefferson County, KY-IN MSA                0.0   \n",
       "\n",
       "      mensajes_cobrables  \n",
       "0                    0.0  \n",
       "1                    0.0  \n",
       "2                    0.0  \n",
       "3                    3.0  \n",
       "4                    0.0  \n",
       "...                  ...  \n",
       "2298                 0.0  \n",
       "2299                 0.0  \n",
       "2300                 0.0  \n",
       "2301                 0.0  \n",
       "2302                 0.0  \n",
       "\n",
       "[2303 rows x 11 columns]"
      ]
     },
     "execution_count": 94,
     "metadata": {},
     "output_type": "execute_result"
    }
   ],
   "source": [
    "tabla_de_consumo_planes"
   ]
  },
  {
   "cell_type": "code",
   "execution_count": 95,
   "metadata": {
    "id": "GRI_R7xF0q1L"
   },
   "outputs": [
    {
     "data": {
      "text/plain": [
       "0.14763352149370387"
      ]
     },
     "execution_count": 95,
     "metadata": {},
     "output_type": "execute_result"
    }
   ],
   "source": [
    "# Compara la cantidad de tráfico de Internet consumido por usuarios por plan\n",
    "\n",
    "len(tabla_de_consumo_planes.query('mensajes_cobrables > 0'))/len(tabla_de_consumo_planes)"
   ]
  },
  {
   "cell_type": "code",
   "execution_count": 96,
   "metadata": {
    "id": "dtFwCGAp0q1M"
   },
   "outputs": [],
   "source": [
    "## *Al 14% de los clientes, les voy a cobrar por los mensajes "
   ]
  },
  {
   "cell_type": "markdown",
   "metadata": {
    "id": "390SSL480q1M"
   },
   "source": [
    "[Elabora las conclusiones sobre el comportamiento de los usuarios con respecto a los mensajes. ¿Su comportamiento varía en función del plan?]"
   ]
  },
  {
   "cell_type": "markdown",
   "metadata": {
    "id": "42YSypXz0q1M"
   },
   "source": [
    "### Internet"
   ]
  },
  {
   "cell_type": "code",
   "execution_count": 97,
   "metadata": {},
   "outputs": [],
   "source": [
    "def datos_cobrables (fila):\n",
    "    plan = fila['plan_id']\n",
    "    datos_usados = fila['total_de_datos_usados_redondeado']\n",
    "    \n",
    "    datos_cobrables = 0\n",
    "    \n",
    "    if plan == 'surf':\n",
    "        if datos_usados > surf_monthly_data:\n",
    "            datos_cobrables = datos_usados - surf_monthly_data\n",
    "    elif plan == 'ultimate':\n",
    "        \n",
    "        if datos_usados > ultimate_monthly_data:\n",
    "            datos_cobrables = datos_usados - ultimate_monthly_data\n",
    "        \n",
    "    return datos_cobrables"
   ]
  },
  {
   "cell_type": "markdown",
   "metadata": {
    "id": "UN9zwuMP0q1N"
   },
   "source": [
    "[Elabora las conclusiones sobre cómo los usuarios tienden a consumir el tráfico de Internet. ¿Su comportamiento varía en función del plan?]"
   ]
  },
  {
   "cell_type": "code",
   "execution_count": 98,
   "metadata": {},
   "outputs": [],
   "source": [
    "tabla_de_consumo_planes['datos_cobrables'] = tabla_de_consumo_planes.apply(datos_cobrables, axis =1)"
   ]
  },
  {
   "cell_type": "code",
   "execution_count": 99,
   "metadata": {},
   "outputs": [
    {
     "data": {
      "text/html": [
       "<div>\n",
       "<style scoped>\n",
       "    .dataframe tbody tr th:only-of-type {\n",
       "        vertical-align: middle;\n",
       "    }\n",
       "\n",
       "    .dataframe tbody tr th {\n",
       "        vertical-align: top;\n",
       "    }\n",
       "\n",
       "    .dataframe thead th {\n",
       "        text-align: right;\n",
       "    }\n",
       "</style>\n",
       "<table border=\"1\" class=\"dataframe\">\n",
       "  <thead>\n",
       "    <tr style=\"text-align: right;\">\n",
       "      <th></th>\n",
       "      <th>user_id</th>\n",
       "      <th>month</th>\n",
       "      <th>minutos_usados</th>\n",
       "      <th>llamadas_hechas</th>\n",
       "      <th>numero_de_mensajes</th>\n",
       "      <th>total_de_datos_usados</th>\n",
       "      <th>total_de_datos_usados_redondeado</th>\n",
       "      <th>plan_id</th>\n",
       "      <th>city</th>\n",
       "      <th>minutos_cobrables</th>\n",
       "      <th>mensajes_cobrables</th>\n",
       "      <th>datos_cobrables</th>\n",
       "    </tr>\n",
       "  </thead>\n",
       "  <tbody>\n",
       "    <tr>\n",
       "      <th>0</th>\n",
       "      <td>1000</td>\n",
       "      <td>12.0</td>\n",
       "      <td>124.0</td>\n",
       "      <td>16.0</td>\n",
       "      <td>11.0</td>\n",
       "      <td>1901.47</td>\n",
       "      <td>2.0</td>\n",
       "      <td>ultimate</td>\n",
       "      <td>Atlanta-Sandy Springs-Roswell, GA MSA</td>\n",
       "      <td>0.0</td>\n",
       "      <td>0.0</td>\n",
       "      <td>0.0</td>\n",
       "    </tr>\n",
       "    <tr>\n",
       "      <th>1</th>\n",
       "      <td>1001</td>\n",
       "      <td>8.0</td>\n",
       "      <td>182.0</td>\n",
       "      <td>27.0</td>\n",
       "      <td>30.0</td>\n",
       "      <td>6919.15</td>\n",
       "      <td>7.0</td>\n",
       "      <td>surf</td>\n",
       "      <td>Seattle-Tacoma-Bellevue, WA MSA</td>\n",
       "      <td>0.0</td>\n",
       "      <td>0.0</td>\n",
       "      <td>0.0</td>\n",
       "    </tr>\n",
       "    <tr>\n",
       "      <th>2</th>\n",
       "      <td>1001</td>\n",
       "      <td>9.0</td>\n",
       "      <td>315.0</td>\n",
       "      <td>49.0</td>\n",
       "      <td>44.0</td>\n",
       "      <td>13314.82</td>\n",
       "      <td>14.0</td>\n",
       "      <td>surf</td>\n",
       "      <td>Seattle-Tacoma-Bellevue, WA MSA</td>\n",
       "      <td>0.0</td>\n",
       "      <td>0.0</td>\n",
       "      <td>0.0</td>\n",
       "    </tr>\n",
       "    <tr>\n",
       "      <th>3</th>\n",
       "      <td>1001</td>\n",
       "      <td>10.0</td>\n",
       "      <td>393.0</td>\n",
       "      <td>65.0</td>\n",
       "      <td>53.0</td>\n",
       "      <td>22330.49</td>\n",
       "      <td>22.0</td>\n",
       "      <td>surf</td>\n",
       "      <td>Seattle-Tacoma-Bellevue, WA MSA</td>\n",
       "      <td>0.0</td>\n",
       "      <td>3.0</td>\n",
       "      <td>7.0</td>\n",
       "    </tr>\n",
       "    <tr>\n",
       "      <th>4</th>\n",
       "      <td>1001</td>\n",
       "      <td>11.0</td>\n",
       "      <td>426.0</td>\n",
       "      <td>64.0</td>\n",
       "      <td>36.0</td>\n",
       "      <td>18504.30</td>\n",
       "      <td>19.0</td>\n",
       "      <td>surf</td>\n",
       "      <td>Seattle-Tacoma-Bellevue, WA MSA</td>\n",
       "      <td>0.0</td>\n",
       "      <td>0.0</td>\n",
       "      <td>4.0</td>\n",
       "    </tr>\n",
       "    <tr>\n",
       "      <th>...</th>\n",
       "      <td>...</td>\n",
       "      <td>...</td>\n",
       "      <td>...</td>\n",
       "      <td>...</td>\n",
       "      <td>...</td>\n",
       "      <td>...</td>\n",
       "      <td>...</td>\n",
       "      <td>...</td>\n",
       "      <td>...</td>\n",
       "      <td>...</td>\n",
       "      <td>...</td>\n",
       "      <td>...</td>\n",
       "    </tr>\n",
       "    <tr>\n",
       "      <th>2298</th>\n",
       "      <td>1307</td>\n",
       "      <td>NaN</td>\n",
       "      <td>NaN</td>\n",
       "      <td>NaN</td>\n",
       "      <td>NaN</td>\n",
       "      <td>NaN</td>\n",
       "      <td>NaN</td>\n",
       "      <td>surf</td>\n",
       "      <td>Boston-Cambridge-Newton, MA-NH MSA</td>\n",
       "      <td>0.0</td>\n",
       "      <td>0.0</td>\n",
       "      <td>0.0</td>\n",
       "    </tr>\n",
       "    <tr>\n",
       "      <th>2299</th>\n",
       "      <td>1319</td>\n",
       "      <td>NaN</td>\n",
       "      <td>NaN</td>\n",
       "      <td>NaN</td>\n",
       "      <td>NaN</td>\n",
       "      <td>NaN</td>\n",
       "      <td>NaN</td>\n",
       "      <td>surf</td>\n",
       "      <td>Colorado Springs, CO MSA</td>\n",
       "      <td>0.0</td>\n",
       "      <td>0.0</td>\n",
       "      <td>0.0</td>\n",
       "    </tr>\n",
       "    <tr>\n",
       "      <th>2300</th>\n",
       "      <td>1378</td>\n",
       "      <td>NaN</td>\n",
       "      <td>NaN</td>\n",
       "      <td>NaN</td>\n",
       "      <td>NaN</td>\n",
       "      <td>NaN</td>\n",
       "      <td>NaN</td>\n",
       "      <td>surf</td>\n",
       "      <td>Denver-Aurora-Lakewood, CO MSA</td>\n",
       "      <td>0.0</td>\n",
       "      <td>0.0</td>\n",
       "      <td>0.0</td>\n",
       "    </tr>\n",
       "    <tr>\n",
       "      <th>2301</th>\n",
       "      <td>1463</td>\n",
       "      <td>NaN</td>\n",
       "      <td>NaN</td>\n",
       "      <td>NaN</td>\n",
       "      <td>NaN</td>\n",
       "      <td>NaN</td>\n",
       "      <td>NaN</td>\n",
       "      <td>ultimate</td>\n",
       "      <td>Atlanta-Sandy Springs-Roswell, GA MSA</td>\n",
       "      <td>0.0</td>\n",
       "      <td>0.0</td>\n",
       "      <td>0.0</td>\n",
       "    </tr>\n",
       "    <tr>\n",
       "      <th>2302</th>\n",
       "      <td>1473</td>\n",
       "      <td>NaN</td>\n",
       "      <td>NaN</td>\n",
       "      <td>NaN</td>\n",
       "      <td>NaN</td>\n",
       "      <td>NaN</td>\n",
       "      <td>NaN</td>\n",
       "      <td>surf</td>\n",
       "      <td>Louisville/Jefferson County, KY-IN MSA</td>\n",
       "      <td>0.0</td>\n",
       "      <td>0.0</td>\n",
       "      <td>0.0</td>\n",
       "    </tr>\n",
       "  </tbody>\n",
       "</table>\n",
       "<p>2303 rows × 12 columns</p>\n",
       "</div>"
      ],
      "text/plain": [
       "      user_id  month  minutos_usados  llamadas_hechas  numero_de_mensajes  \\\n",
       "0        1000   12.0           124.0             16.0                11.0   \n",
       "1        1001    8.0           182.0             27.0                30.0   \n",
       "2        1001    9.0           315.0             49.0                44.0   \n",
       "3        1001   10.0           393.0             65.0                53.0   \n",
       "4        1001   11.0           426.0             64.0                36.0   \n",
       "...       ...    ...             ...              ...                 ...   \n",
       "2298     1307    NaN             NaN              NaN                 NaN   \n",
       "2299     1319    NaN             NaN              NaN                 NaN   \n",
       "2300     1378    NaN             NaN              NaN                 NaN   \n",
       "2301     1463    NaN             NaN              NaN                 NaN   \n",
       "2302     1473    NaN             NaN              NaN                 NaN   \n",
       "\n",
       "      total_de_datos_usados  total_de_datos_usados_redondeado   plan_id  \\\n",
       "0                   1901.47                               2.0  ultimate   \n",
       "1                   6919.15                               7.0      surf   \n",
       "2                  13314.82                              14.0      surf   \n",
       "3                  22330.49                              22.0      surf   \n",
       "4                  18504.30                              19.0      surf   \n",
       "...                     ...                               ...       ...   \n",
       "2298                    NaN                               NaN      surf   \n",
       "2299                    NaN                               NaN      surf   \n",
       "2300                    NaN                               NaN      surf   \n",
       "2301                    NaN                               NaN  ultimate   \n",
       "2302                    NaN                               NaN      surf   \n",
       "\n",
       "                                        city  minutos_cobrables  \\\n",
       "0      Atlanta-Sandy Springs-Roswell, GA MSA                0.0   \n",
       "1            Seattle-Tacoma-Bellevue, WA MSA                0.0   \n",
       "2            Seattle-Tacoma-Bellevue, WA MSA                0.0   \n",
       "3            Seattle-Tacoma-Bellevue, WA MSA                0.0   \n",
       "4            Seattle-Tacoma-Bellevue, WA MSA                0.0   \n",
       "...                                      ...                ...   \n",
       "2298      Boston-Cambridge-Newton, MA-NH MSA                0.0   \n",
       "2299                Colorado Springs, CO MSA                0.0   \n",
       "2300          Denver-Aurora-Lakewood, CO MSA                0.0   \n",
       "2301   Atlanta-Sandy Springs-Roswell, GA MSA                0.0   \n",
       "2302  Louisville/Jefferson County, KY-IN MSA                0.0   \n",
       "\n",
       "      mensajes_cobrables  datos_cobrables  \n",
       "0                    0.0              0.0  \n",
       "1                    0.0              0.0  \n",
       "2                    0.0              0.0  \n",
       "3                    3.0              7.0  \n",
       "4                    0.0              4.0  \n",
       "...                  ...              ...  \n",
       "2298                 0.0              0.0  \n",
       "2299                 0.0              0.0  \n",
       "2300                 0.0              0.0  \n",
       "2301                 0.0              0.0  \n",
       "2302                 0.0              0.0  \n",
       "\n",
       "[2303 rows x 12 columns]"
      ]
     },
     "execution_count": 99,
     "metadata": {},
     "output_type": "execute_result"
    }
   ],
   "source": [
    "tabla_de_consumo_planes"
   ]
  },
  {
   "cell_type": "code",
   "execution_count": 100,
   "metadata": {},
   "outputs": [
    {
     "data": {
      "text/plain": [
       "0.4133738601823708"
      ]
     },
     "execution_count": 100,
     "metadata": {},
     "output_type": "execute_result"
    }
   ],
   "source": [
    "len(tabla_de_consumo_planes.query('datos_cobrables > 0'))/len(tabla_de_consumo_planes)"
   ]
  },
  {
   "cell_type": "code",
   "execution_count": 101,
   "metadata": {},
   "outputs": [],
   "source": [
    "##** El 41% de los clientes consumen más datos de lo que incluye el plan"
   ]
  },
  {
   "cell_type": "markdown",
   "metadata": {
    "id": "tCijq3260q1N"
   },
   "source": [
    "## Ingreso"
   ]
  },
  {
   "cell_type": "markdown",
   "metadata": {
    "id": "9nq5IAcy0q1O"
   },
   "source": [
    "[Del mismo modo que has estudiado el comportamiento de los usuarios, describe estadísticamente los ingresos de los planes.]"
   ]
  },
  {
   "cell_type": "code",
   "execution_count": 102,
   "metadata": {
    "id": "tz-dq_V00q1O"
   },
   "outputs": [],
   "source": [
    "def rentabilidad_mensual(fila):\n",
    "    plan = fila['plan_id']\n",
    "    llamadas_cobrables = fila['minutos_cobrables']\n",
    "    mensajes_cobrables = fila['mensajes_cobrables']\n",
    "    datos_cobrables = fila['datos_cobrables']\n",
    "    \n",
    "    rentabilidad = 0\n",
    "    \n",
    "    if plan == 'surf':\n",
    "        rentabilidad = surf_monthly_charge + (llamadas_cobrables * surf_call_charge) + (mensajes_cobrables * surf_message_charge) + (datos_cobrables * surf_data_charge)\n",
    "    elif plan == 'ultimate':\n",
    "        rentabilidad = ultimate_monthly_charge + (llamadas_cobrables * ultimate_call_charge) + (mensajes_cobrables * ultimate_message_charge) + (datos_cobrables * ultimate_data_charge)\n",
    "        \n",
    "    return rentabilidad"
   ]
  },
  {
   "cell_type": "code",
   "execution_count": 103,
   "metadata": {
    "id": "0Y1v8ZUz0q1P"
   },
   "outputs": [],
   "source": [
    "tabla_de_consumo_planes['rentabilidad_mensual'] = tabla_de_consumo_planes.apply(rentabilidad_mensual, axis=1)"
   ]
  },
  {
   "cell_type": "code",
   "execution_count": 104,
   "metadata": {
    "id": "bYmwxyVh0q1P"
   },
   "outputs": [
    {
     "data": {
      "text/html": [
       "<div>\n",
       "<style scoped>\n",
       "    .dataframe tbody tr th:only-of-type {\n",
       "        vertical-align: middle;\n",
       "    }\n",
       "\n",
       "    .dataframe tbody tr th {\n",
       "        vertical-align: top;\n",
       "    }\n",
       "\n",
       "    .dataframe thead th {\n",
       "        text-align: right;\n",
       "    }\n",
       "</style>\n",
       "<table border=\"1\" class=\"dataframe\">\n",
       "  <thead>\n",
       "    <tr style=\"text-align: right;\">\n",
       "      <th></th>\n",
       "      <th>user_id</th>\n",
       "      <th>month</th>\n",
       "      <th>minutos_usados</th>\n",
       "      <th>llamadas_hechas</th>\n",
       "      <th>numero_de_mensajes</th>\n",
       "      <th>total_de_datos_usados</th>\n",
       "      <th>total_de_datos_usados_redondeado</th>\n",
       "      <th>plan_id</th>\n",
       "      <th>city</th>\n",
       "      <th>minutos_cobrables</th>\n",
       "      <th>mensajes_cobrables</th>\n",
       "      <th>datos_cobrables</th>\n",
       "      <th>rentabilidad_mensual</th>\n",
       "    </tr>\n",
       "  </thead>\n",
       "  <tbody>\n",
       "    <tr>\n",
       "      <th>0</th>\n",
       "      <td>1000</td>\n",
       "      <td>12.0</td>\n",
       "      <td>124.0</td>\n",
       "      <td>16.0</td>\n",
       "      <td>11.0</td>\n",
       "      <td>1901.47</td>\n",
       "      <td>2.0</td>\n",
       "      <td>ultimate</td>\n",
       "      <td>Atlanta-Sandy Springs-Roswell, GA MSA</td>\n",
       "      <td>0.0</td>\n",
       "      <td>0.0</td>\n",
       "      <td>0.0</td>\n",
       "      <td>70.00</td>\n",
       "    </tr>\n",
       "    <tr>\n",
       "      <th>1</th>\n",
       "      <td>1001</td>\n",
       "      <td>8.0</td>\n",
       "      <td>182.0</td>\n",
       "      <td>27.0</td>\n",
       "      <td>30.0</td>\n",
       "      <td>6919.15</td>\n",
       "      <td>7.0</td>\n",
       "      <td>surf</td>\n",
       "      <td>Seattle-Tacoma-Bellevue, WA MSA</td>\n",
       "      <td>0.0</td>\n",
       "      <td>0.0</td>\n",
       "      <td>0.0</td>\n",
       "      <td>20.00</td>\n",
       "    </tr>\n",
       "    <tr>\n",
       "      <th>2</th>\n",
       "      <td>1001</td>\n",
       "      <td>9.0</td>\n",
       "      <td>315.0</td>\n",
       "      <td>49.0</td>\n",
       "      <td>44.0</td>\n",
       "      <td>13314.82</td>\n",
       "      <td>14.0</td>\n",
       "      <td>surf</td>\n",
       "      <td>Seattle-Tacoma-Bellevue, WA MSA</td>\n",
       "      <td>0.0</td>\n",
       "      <td>0.0</td>\n",
       "      <td>0.0</td>\n",
       "      <td>20.00</td>\n",
       "    </tr>\n",
       "    <tr>\n",
       "      <th>3</th>\n",
       "      <td>1001</td>\n",
       "      <td>10.0</td>\n",
       "      <td>393.0</td>\n",
       "      <td>65.0</td>\n",
       "      <td>53.0</td>\n",
       "      <td>22330.49</td>\n",
       "      <td>22.0</td>\n",
       "      <td>surf</td>\n",
       "      <td>Seattle-Tacoma-Bellevue, WA MSA</td>\n",
       "      <td>0.0</td>\n",
       "      <td>3.0</td>\n",
       "      <td>7.0</td>\n",
       "      <td>90.09</td>\n",
       "    </tr>\n",
       "    <tr>\n",
       "      <th>4</th>\n",
       "      <td>1001</td>\n",
       "      <td>11.0</td>\n",
       "      <td>426.0</td>\n",
       "      <td>64.0</td>\n",
       "      <td>36.0</td>\n",
       "      <td>18504.30</td>\n",
       "      <td>19.0</td>\n",
       "      <td>surf</td>\n",
       "      <td>Seattle-Tacoma-Bellevue, WA MSA</td>\n",
       "      <td>0.0</td>\n",
       "      <td>0.0</td>\n",
       "      <td>4.0</td>\n",
       "      <td>60.00</td>\n",
       "    </tr>\n",
       "    <tr>\n",
       "      <th>...</th>\n",
       "      <td>...</td>\n",
       "      <td>...</td>\n",
       "      <td>...</td>\n",
       "      <td>...</td>\n",
       "      <td>...</td>\n",
       "      <td>...</td>\n",
       "      <td>...</td>\n",
       "      <td>...</td>\n",
       "      <td>...</td>\n",
       "      <td>...</td>\n",
       "      <td>...</td>\n",
       "      <td>...</td>\n",
       "      <td>...</td>\n",
       "    </tr>\n",
       "    <tr>\n",
       "      <th>2298</th>\n",
       "      <td>1307</td>\n",
       "      <td>NaN</td>\n",
       "      <td>NaN</td>\n",
       "      <td>NaN</td>\n",
       "      <td>NaN</td>\n",
       "      <td>NaN</td>\n",
       "      <td>NaN</td>\n",
       "      <td>surf</td>\n",
       "      <td>Boston-Cambridge-Newton, MA-NH MSA</td>\n",
       "      <td>0.0</td>\n",
       "      <td>0.0</td>\n",
       "      <td>0.0</td>\n",
       "      <td>20.00</td>\n",
       "    </tr>\n",
       "    <tr>\n",
       "      <th>2299</th>\n",
       "      <td>1319</td>\n",
       "      <td>NaN</td>\n",
       "      <td>NaN</td>\n",
       "      <td>NaN</td>\n",
       "      <td>NaN</td>\n",
       "      <td>NaN</td>\n",
       "      <td>NaN</td>\n",
       "      <td>surf</td>\n",
       "      <td>Colorado Springs, CO MSA</td>\n",
       "      <td>0.0</td>\n",
       "      <td>0.0</td>\n",
       "      <td>0.0</td>\n",
       "      <td>20.00</td>\n",
       "    </tr>\n",
       "    <tr>\n",
       "      <th>2300</th>\n",
       "      <td>1378</td>\n",
       "      <td>NaN</td>\n",
       "      <td>NaN</td>\n",
       "      <td>NaN</td>\n",
       "      <td>NaN</td>\n",
       "      <td>NaN</td>\n",
       "      <td>NaN</td>\n",
       "      <td>surf</td>\n",
       "      <td>Denver-Aurora-Lakewood, CO MSA</td>\n",
       "      <td>0.0</td>\n",
       "      <td>0.0</td>\n",
       "      <td>0.0</td>\n",
       "      <td>20.00</td>\n",
       "    </tr>\n",
       "    <tr>\n",
       "      <th>2301</th>\n",
       "      <td>1463</td>\n",
       "      <td>NaN</td>\n",
       "      <td>NaN</td>\n",
       "      <td>NaN</td>\n",
       "      <td>NaN</td>\n",
       "      <td>NaN</td>\n",
       "      <td>NaN</td>\n",
       "      <td>ultimate</td>\n",
       "      <td>Atlanta-Sandy Springs-Roswell, GA MSA</td>\n",
       "      <td>0.0</td>\n",
       "      <td>0.0</td>\n",
       "      <td>0.0</td>\n",
       "      <td>70.00</td>\n",
       "    </tr>\n",
       "    <tr>\n",
       "      <th>2302</th>\n",
       "      <td>1473</td>\n",
       "      <td>NaN</td>\n",
       "      <td>NaN</td>\n",
       "      <td>NaN</td>\n",
       "      <td>NaN</td>\n",
       "      <td>NaN</td>\n",
       "      <td>NaN</td>\n",
       "      <td>surf</td>\n",
       "      <td>Louisville/Jefferson County, KY-IN MSA</td>\n",
       "      <td>0.0</td>\n",
       "      <td>0.0</td>\n",
       "      <td>0.0</td>\n",
       "      <td>20.00</td>\n",
       "    </tr>\n",
       "  </tbody>\n",
       "</table>\n",
       "<p>2303 rows × 13 columns</p>\n",
       "</div>"
      ],
      "text/plain": [
       "      user_id  month  minutos_usados  llamadas_hechas  numero_de_mensajes  \\\n",
       "0        1000   12.0           124.0             16.0                11.0   \n",
       "1        1001    8.0           182.0             27.0                30.0   \n",
       "2        1001    9.0           315.0             49.0                44.0   \n",
       "3        1001   10.0           393.0             65.0                53.0   \n",
       "4        1001   11.0           426.0             64.0                36.0   \n",
       "...       ...    ...             ...              ...                 ...   \n",
       "2298     1307    NaN             NaN              NaN                 NaN   \n",
       "2299     1319    NaN             NaN              NaN                 NaN   \n",
       "2300     1378    NaN             NaN              NaN                 NaN   \n",
       "2301     1463    NaN             NaN              NaN                 NaN   \n",
       "2302     1473    NaN             NaN              NaN                 NaN   \n",
       "\n",
       "      total_de_datos_usados  total_de_datos_usados_redondeado   plan_id  \\\n",
       "0                   1901.47                               2.0  ultimate   \n",
       "1                   6919.15                               7.0      surf   \n",
       "2                  13314.82                              14.0      surf   \n",
       "3                  22330.49                              22.0      surf   \n",
       "4                  18504.30                              19.0      surf   \n",
       "...                     ...                               ...       ...   \n",
       "2298                    NaN                               NaN      surf   \n",
       "2299                    NaN                               NaN      surf   \n",
       "2300                    NaN                               NaN      surf   \n",
       "2301                    NaN                               NaN  ultimate   \n",
       "2302                    NaN                               NaN      surf   \n",
       "\n",
       "                                        city  minutos_cobrables  \\\n",
       "0      Atlanta-Sandy Springs-Roswell, GA MSA                0.0   \n",
       "1            Seattle-Tacoma-Bellevue, WA MSA                0.0   \n",
       "2            Seattle-Tacoma-Bellevue, WA MSA                0.0   \n",
       "3            Seattle-Tacoma-Bellevue, WA MSA                0.0   \n",
       "4            Seattle-Tacoma-Bellevue, WA MSA                0.0   \n",
       "...                                      ...                ...   \n",
       "2298      Boston-Cambridge-Newton, MA-NH MSA                0.0   \n",
       "2299                Colorado Springs, CO MSA                0.0   \n",
       "2300          Denver-Aurora-Lakewood, CO MSA                0.0   \n",
       "2301   Atlanta-Sandy Springs-Roswell, GA MSA                0.0   \n",
       "2302  Louisville/Jefferson County, KY-IN MSA                0.0   \n",
       "\n",
       "      mensajes_cobrables  datos_cobrables  rentabilidad_mensual  \n",
       "0                    0.0              0.0                 70.00  \n",
       "1                    0.0              0.0                 20.00  \n",
       "2                    0.0              0.0                 20.00  \n",
       "3                    3.0              7.0                 90.09  \n",
       "4                    0.0              4.0                 60.00  \n",
       "...                  ...              ...                   ...  \n",
       "2298                 0.0              0.0                 20.00  \n",
       "2299                 0.0              0.0                 20.00  \n",
       "2300                 0.0              0.0                 20.00  \n",
       "2301                 0.0              0.0                 70.00  \n",
       "2302                 0.0              0.0                 20.00  \n",
       "\n",
       "[2303 rows x 13 columns]"
      ]
     },
     "execution_count": 104,
     "metadata": {},
     "output_type": "execute_result"
    }
   ],
   "source": [
    "tabla_de_consumo_planes"
   ]
  },
  {
   "cell_type": "code",
   "execution_count": 105,
   "metadata": {},
   "outputs": [],
   "source": [
    "variables = ['minutos_usados', 'numero_de_mensajes', 'total_de_datos_usados_redondeado']"
   ]
  },
  {
   "cell_type": "code",
   "execution_count": 106,
   "metadata": {},
   "outputs": [],
   "source": [
    "plans = ['surf', 'ultimate']"
   ]
  },
  {
   "cell_type": "code",
   "execution_count": 107,
   "metadata": {
    "scrolled": false
   },
   "outputs": [
    {
     "data": {
      "image/png": "[encoded data removed]",
      "text/plain": [
       "<Figure size 640x480 with 1 Axes>"
      ]
     },
     "metadata": {},
     "output_type": "display_data"
    },
    {
     "data": {
      "image/png": "[encoded data removed]",
      "text/plain": [
       "<Figure size 640x480 with 1 Axes>"
      ]
     },
     "metadata": {},
     "output_type": "display_data"
    },
    {
     "data": {
      "image/png": "[encoded data removed]",
      "text/plain": [
       "<Figure size 640x480 with 1 Axes>"
      ]
     },
     "metadata": {},
     "output_type": "display_data"
    },
    {
     "data": {
      "image/png": "[encoded data removed]",
      "text/plain": [
       "<Figure size 640x480 with 1 Axes>"
      ]
     },
     "metadata": {},
     "output_type": "display_data"
    },
    {
     "data": {
      "image/png": "[encoded data removed]",
      "text/plain": [
       "<Figure size 640x480 with 1 Axes>"
      ]
     },
     "metadata": {},
     "output_type": "display_data"
    },
    {
     "data": {
      "image/png": "[encoded data removed]",
      "text/plain": [
       "<Figure size 640x480 with 1 Axes>"
      ]
     },
     "metadata": {},
     "output_type": "display_data"
    },
    {
     "data": {
      "image/png": "[encoded data removed]",
      "text/plain": [
       "<Figure size 640x480 with 1 Axes>"
      ]
     },
     "metadata": {},
     "output_type": "display_data"
    },
    {
     "data": {
      "image/png": "[encoded data removed]",
      "text/plain": [
       "<Figure size 640x480 with 1 Axes>"
      ]
     },
     "metadata": {},
     "output_type": "display_data"
    },
    {
     "data": {
      "image/png": "[encoded data removed]",
      "text/plain": [
       "<Figure size 640x480 with 1 Axes>"
      ]
     },
     "metadata": {},
     "output_type": "display_data"
    }
   ],
   "source": [
    "import matplotlib.pyplot as plt\n",
    "\n",
    "for metrica in variables:\n",
    "    for plan in plans:\n",
    "        tabla_de_consumo_planes[tabla_de_consumo_planes['plan_id'] == plan][metrica].plot(kind='hist')\n",
    "    plt.title(metrica)\n",
    "    plt.legend(plans)\n",
    "    plt.show()\n",
    "      \n",
    "    for plan in plans:    \n",
    "        plt.boxplot(tabla_de_consumo_planes[tabla_de_consumo_planes['plan_id'] == plan][metrica].dropna())  \n",
    "        plt.title(plan)\n",
    "        plt.show()\n",
    "    "
   ]
  },
  {
   "cell_type": "code",
   "execution_count": 133,
   "metadata": {},
   "outputs": [],
   "source": [
    "##**En la grafica minutos_usados:\n",
    "    #En el plan surf: la mayoria de los usuarios tienden a usr entre 200 y 600 minutos al mes, con un pico entre 250 y 500 minutos\n",
    "    #En el plan ultimate: Los usuarios tienen una distribución más concentrada en un rango más bajo de minutos usados, con un pico entre 300 y 400 minutos.\n",
    "        \n",
    "##**En la gráfica numero_de_mensajes:\n",
    "    #En el plan surf: La mayoría de los usuarios del plan Surf envían menos de 50 mensajes al mes. El pico de frecuencia se encuentra en el primer intervalo (0 a 25 mensajes). \n",
    "         #Ademas, a medida que aumenta el número de mensajes enviados, la frecuencia de usuarios disminuye drásticamente. Muy pocos usuarios envían más de 100 mensajes, y casi ninguno supera los 200.\n",
    "    \n",
    "    #En el plan ultimate: la mayoría de los usuarios del plan Ultimate también envían menos de 50 mensajes al mes.\n",
    "    \n",
    "##**En la gráfica total_de_datos_usados_redondeados: \n",
    "    #La mayoría de los usuarios del plan Surf consumen entre 10 y 20 GB de datos al mes, con un pico de frecuencia alrededor de 15 a 20 GB. La frecuencia de usuarios disminuye significativamente después de los 20 GB de datos usados, con muy pocos usuarios que consumen más de 30 GB.\n",
    "    #Los usuarios del plan Ultimate también tienen una concentración de consumo de datos similar, con la mayoría utilizando entre 10 y 20 GB."
   ]
  },
  {
   "cell_type": "code",
   "execution_count": 112,
   "metadata": {},
   "outputs": [
    {
     "name": "stdout",
     "output_type": "stream",
     "text": [
      "La rentabilidad mensual del plan surf es de : 95611.18\n",
      "La rentabilidad mensual del plan ultimate es de : 52346.0\n"
     ]
    }
   ],
   "source": [
    "#Para obtener la rentabilidad de cada uno de los planes:\n",
    "\n",
    "plans = ['surf', 'ultimate']\n",
    "\n",
    "for plan in plans:\n",
    "    rentabilidad = tabla_de_consumo_planes[tabla_de_consumo_planes['plan_id'] == plan]['rentabilidad_mensual'].sum()\n",
    "    print(f'La rentabilidad mensual del plan {plan} es de : {rentabilidad}')"
   ]
  },
  {
   "cell_type": "code",
   "execution_count": 122,
   "metadata": {},
   "outputs": [
    {
     "name": "stdout",
     "output_type": "stream",
     "text": [
      "La rentabilidad mensual promedio del plan surf es de : 60.551728942368584\n",
      "La rentabilidad mensual promedio del plan ultimate es de : 72.3011049723757\n"
     ]
    }
   ],
   "source": [
    "#Para obtener la rentabilidad promedio mensual de cada uno de los planes:\n",
    "\n",
    "plans = ['surf', 'ultimate']\n",
    "\n",
    "for plan in plans:\n",
    "    rentabilidad_promedio_mensual = tabla_de_consumo_planes[tabla_de_consumo_planes['plan_id'] == plan]['rentabilidad_mensual'].mean()\n",
    "    print(f'La rentabilidad mensual promedio del plan {plan} es de : {rentabilidad_promedio_mensual}')"
   ]
  },
  {
   "cell_type": "code",
   "execution_count": 118,
   "metadata": {},
   "outputs": [],
   "source": [
    "#Ganancia del plan 'surf'\n",
    "\n",
    "alpha = 0.05\n",
    "\n",
    "sample_1 = tabla_de_consumo_planes.query('plan_id == \"surf\"')['rentabilidad_mensual']"
   ]
  },
  {
   "cell_type": "code",
   "execution_count": 119,
   "metadata": {},
   "outputs": [
    {
     "data": {
      "text/plain": [
       "1       20.00\n",
       "2       20.00\n",
       "3       90.09\n",
       "4       60.00\n",
       "5       60.00\n",
       "        ...  \n",
       "2295    20.00\n",
       "2298    20.00\n",
       "2299    20.00\n",
       "2300    20.00\n",
       "2302    20.00\n",
       "Name: rentabilidad_mensual, Length: 1579, dtype: float64"
      ]
     },
     "execution_count": 119,
     "metadata": {},
     "output_type": "execute_result"
    }
   ],
   "source": [
    "sample_1"
   ]
  },
  {
   "cell_type": "code",
   "execution_count": 120,
   "metadata": {},
   "outputs": [],
   "source": [
    "#Ganancia del plan 'ultimate'\n",
    "\n",
    "alpha = 0.05\n",
    "\n",
    "sample_2 = tabla_de_consumo_planes.query('plan_id == \"ultimate\"')['rentabilidad_mensual']"
   ]
  },
  {
   "cell_type": "code",
   "execution_count": 121,
   "metadata": {},
   "outputs": [
    {
     "data": {
      "text/plain": [
       "0       70.0\n",
       "19      70.0\n",
       "20      84.0\n",
       "26      70.0\n",
       "27      70.0\n",
       "        ... \n",
       "2292    70.0\n",
       "2293    70.0\n",
       "2296    70.0\n",
       "2297    70.0\n",
       "2301    70.0\n",
       "Name: rentabilidad_mensual, Length: 724, dtype: float64"
      ]
     },
     "execution_count": 121,
     "metadata": {},
     "output_type": "execute_result"
    }
   ],
   "source": [
    "sample_2"
   ]
  },
  {
   "cell_type": "markdown",
   "metadata": {
    "id": "KAFidcXZ0q1P"
   },
   "source": [
    "[Elabora las conclusiones sobre cómo difiere el ingreso entre los planes.]\n",
    "\n",
    "**Es interesante observar que en primer lugar al analizar la rentabilidad total de los dos planes, el plan 'surf' tiene un ingreso mayor con 9.5611 en comparacion con el plan 'ultimate' con 52.346. Sin embargo al realizar operaciones estadisticas, nos damos cuenta que en promedio mensualmente, el plan 'ultimate' tiene un ingreso mayor que el otro plan.**"
   ]
  },
  {
   "cell_type": "markdown",
   "metadata": {
    "id": "ajJ7VKeI0q1Q"
   },
   "source": [
    "## Prueba las hipótesis estadísticas"
   ]
  },
  {
   "cell_type": "markdown",
   "metadata": {
    "id": "AdXAZ-yL0q1Q"
   },
   "source": [
    "[Prueba la hipótesis de que son diferentes los ingresos promedio procedentes de los usuarios de los planes de llamada Ultimate y Surf.]"
   ]
  },
  {
   "cell_type": "markdown",
   "metadata": {
    "id": "IQwa_hsh0q1Q"
   },
   "source": [
    "[Elabora las hipótesis nula y alternativa, escoge la prueba estadística, determina el valor alfa.]"
   ]
  },
  {
   "cell_type": "code",
   "execution_count": 129,
   "metadata": {
    "id": "nFoPNlPq0q1R"
   },
   "outputs": [],
   "source": [
    "# Prueba las hipótesis: \n",
    "\n",
    "# H0= Los promedios mensuales del plan surf son iguales al plan ultimate\n",
    "# H1= Los promedios mensuales del plan Surf no son iguales al plan Ultimate\n",
    "#prueba estadistica = st.ttest"
   ]
  },
  {
   "cell_type": "code",
   "execution_count": 124,
   "metadata": {},
   "outputs": [
    {
     "name": "stdout",
     "output_type": "stream",
     "text": [
      "p-value: 1.218411585212325e-15\n"
     ]
    }
   ],
   "source": [
    "from scipy import stats as st\n",
    "\n",
    "resultados = st.ttest_ind(sample_1, sample_2, equal_var=False)\n",
    "\n",
    "print(f'p-value: {resultados.pvalue}')"
   ]
  },
  {
   "cell_type": "markdown",
   "metadata": {
    "id": "tCcAruM60q1R"
   },
   "source": [
    "[Prueba la hipótesis de que el ingreso promedio de los usuarios del área NY-NJ es diferente al de los usuarios de otras regiones.]"
   ]
  },
  {
   "cell_type": "markdown",
   "metadata": {
    "id": "LsBgitqj0q1R"
   },
   "source": [
    "[Elabora las hipótesis nula y alternativa, escoge la prueba estadística, determina el valor alfa.]"
   ]
  },
  {
   "cell_type": "code",
   "execution_count": 130,
   "metadata": {
    "id": "Cqcj7wrZ0q1S"
   },
   "outputs": [
    {
     "name": "stdout",
     "output_type": "stream",
     "text": [
      "Podemos rechazar la hipotesis nula\n"
     ]
    }
   ],
   "source": [
    "# Prueba las hipótesis\n",
    "\n",
    "if resultados.pvalue < alpha:\n",
    "    print(\"Podemos rechazar la hipotesis nula\")\n",
    "else:\n",
    "    print(\"No podemos rechazar la hipotesis nula\")\n"
   ]
  },
  {
   "cell_type": "markdown",
   "metadata": {
    "id": "bbTR8UQO0q1T"
   },
   "source": [
    "## Conclusión general\n",
    "\n",
    "[En esta sección final, enumera tus conclusiones importantes. Asegúrate de que estas abarquen todas las decisiones (suposiciones) importantes que adoptaste y que determinaron la forma elegida para procesar y analizar los datos.]\n",
    "\n",
    "**Como analista para el operador de telecomunicaciones Megaline, en el análisis de los datos de los planes 'surf' y 'ultimate' se pudo determinar que cada plan tiene un comportamiento de consumo diferente, es decir en el plan surf los usuarios consumen más minutos que el plan ultimate, sin embargo el plan ultimate consume mas llamadas, mensajes y datos que el plan surf. En cuanto a ingresos, pudimos comprender que solamente con el calculo del total de los ingresos no podemos generar conclusiones del ingreso mas alto ya que al realizar los analisis estadisticos se identifico que en promedio el plan ultimate tiene mayores ingresos para la compañia, lo cual se ve reflejado en los valores de llamadas, mensajes y datos. Por ultimo con la hipotesis llegamos a la conclusión que los planes son diferentes y se recomienda a la gerencia realizar estrategias de ventas por separado a cada plan.**"
   ]
  }
 ],
 "metadata": {
  "ExecuteTimeLog": [
   {
    "duration": 828,
    "start_time": "2021-11-16T09:21:11.304Z"
   },
   {
    "duration": 893,
    "start_time": "2021-11-16T09:21:17.728Z"
   },
   {
    "duration": 1150,
    "start_time": "2021-11-16T09:21:29.568Z"
   },
   {
    "duration": 3,
    "start_time": "2021-11-16T09:24:14.495Z"
   },
   {
    "duration": 120,
    "start_time": "2021-11-16T09:24:46.630Z"
   },
   {
    "duration": 3,
    "start_time": "2021-11-16T09:28:27.882Z"
   },
   {
    "duration": 4,
    "start_time": "2021-11-16T09:29:54.281Z"
   },
   {
    "duration": 3,
    "start_time": "2021-11-16T09:30:45.936Z"
   },
   {
    "duration": 4,
    "start_time": "2021-11-16T09:31:06.300Z"
   },
   {
    "duration": 113,
    "start_time": "2021-11-16T09:31:37.208Z"
   },
   {
    "duration": 143,
    "start_time": "2021-11-16T09:31:48.656Z"
   },
   {
    "duration": 98,
    "start_time": "2021-11-16T09:31:55.678Z"
   },
   {
    "duration": 3,
    "start_time": "2021-11-16T09:32:08.535Z"
   },
   {
    "duration": 111,
    "start_time": "2021-11-16T09:32:10.120Z"
   },
   {
    "duration": 3,
    "start_time": "2021-11-16T09:32:15.732Z"
   },
   {
    "duration": 4,
    "start_time": "2021-11-16T09:32:29.423Z"
   },
   {
    "duration": 3,
    "start_time": "2021-11-16T10:03:03.074Z"
   },
   {
    "duration": 3,
    "start_time": "2021-11-16T10:10:01.288Z"
   },
   {
    "duration": 3,
    "start_time": "2021-11-16T10:10:46.923Z"
   },
   {
    "duration": 121,
    "start_time": "2021-11-16T10:37:46.494Z"
   },
   {
    "duration": 125,
    "start_time": "2021-11-16T10:38:20.632Z"
   },
   {
    "duration": 112,
    "start_time": "2021-11-16T10:46:53.001Z"
   },
   {
    "duration": 110,
    "start_time": "2021-11-16T10:48:25.775Z"
   },
   {
    "duration": 3,
    "start_time": "2021-11-16T10:50:18.720Z"
   },
   {
    "duration": 4,
    "start_time": "2021-11-16T10:50:37.649Z"
   },
   {
    "duration": 2,
    "start_time": "2021-11-16T10:50:51.884Z"
   },
   {
    "duration": 3,
    "start_time": "2021-11-16T10:51:56.237Z"
   },
   {
    "duration": 101,
    "start_time": "2021-11-16T10:53:13.791Z"
   },
   {
    "duration": 3,
    "start_time": "2021-11-16T10:55:59.186Z"
   },
   {
    "duration": 3,
    "start_time": "2021-11-16T10:56:10.751Z"
   },
   {
    "duration": 3,
    "start_time": "2021-11-16T10:56:49.038Z"
   },
   {
    "duration": 3,
    "start_time": "2021-11-16T10:56:49.174Z"
   },
   {
    "duration": 4,
    "start_time": "2021-11-16T10:56:49.414Z"
   },
   {
    "duration": 3,
    "start_time": "2021-11-16T10:56:49.680Z"
   },
   {
    "duration": 3,
    "start_time": "2021-11-16T10:56:50.370Z"
   },
   {
    "duration": 114,
    "start_time": "2021-11-16T10:59:34.518Z"
   },
   {
    "duration": 3,
    "start_time": "2021-11-16T11:01:41.201Z"
   },
   {
    "duration": 116,
    "start_time": "2021-11-16T11:01:48.754Z"
   },
   {
    "duration": 3,
    "start_time": "2021-11-16T11:02:16.685Z"
   },
   {
    "duration": 3,
    "start_time": "2021-11-16T11:02:19.479Z"
   },
   {
    "duration": 3,
    "start_time": "2021-11-16T11:02:47.067Z"
   },
   {
    "duration": 3,
    "start_time": "2021-11-16T11:02:49.353Z"
   },
   {
    "duration": 3,
    "start_time": "2021-11-16T11:03:07.835Z"
   },
   {
    "duration": 3,
    "start_time": "2021-11-16T11:03:07.953Z"
   },
   {
    "duration": 112,
    "start_time": "2021-11-16T11:07:52.072Z"
   },
   {
    "duration": 187,
    "start_time": "2021-11-16T11:09:23.468Z"
   },
   {
    "duration": 4,
    "start_time": "2021-11-16T11:10:01.455Z"
   },
   {
    "duration": 3,
    "start_time": "2021-11-16T11:10:05.069Z"
   },
   {
    "duration": 4,
    "start_time": "2021-11-16T11:10:13.376Z"
   },
   {
    "duration": 3,
    "start_time": "2021-11-16T11:10:14.434Z"
   },
   {
    "duration": 3,
    "start_time": "2021-11-16T11:10:22.853Z"
   },
   {
    "duration": 4,
    "start_time": "2021-11-16T11:27:29.279Z"
   },
   {
    "duration": 4,
    "start_time": "2021-11-16T11:29:08.919Z"
   },
   {
    "duration": 118,
    "start_time": "2021-11-16T11:29:46.703Z"
   },
   {
    "duration": 437,
    "start_time": "2021-11-16T11:36:02.181Z"
   },
   {
    "duration": 157,
    "start_time": "2021-11-16T11:36:14.388Z"
   },
   {
    "duration": 207,
    "start_time": "2021-11-16T11:47:15.898Z"
   },
   {
    "duration": 3,
    "start_time": "2021-11-16T11:53:52.092Z"
   },
   {
    "duration": 3,
    "start_time": "2021-11-16T11:53:52.236Z"
   },
   {
    "duration": 3,
    "start_time": "2021-11-16T11:59:12.005Z"
   },
   {
    "duration": 112,
    "start_time": "2021-11-16T12:00:33.446Z"
   },
   {
    "duration": 3,
    "start_time": "2021-11-16T12:02:14.453Z"
   },
   {
    "duration": 3,
    "start_time": "2021-11-16T12:02:39.512Z"
   },
   {
    "duration": 106,
    "start_time": "2021-11-16T12:03:03.460Z"
   },
   {
    "duration": 3,
    "start_time": "2021-11-17T20:37:21.139Z"
   },
   {
    "duration": 3,
    "start_time": "2021-11-17T20:37:22.229Z"
   },
   {
    "duration": 3,
    "start_time": "2021-11-17T20:38:38.806Z"
   },
   {
    "duration": 3,
    "start_time": "2021-11-17T20:38:41.958Z"
   },
   {
    "duration": 3,
    "start_time": "2021-11-17T20:43:46.551Z"
   },
   {
    "duration": 4,
    "start_time": "2021-11-17T20:58:21.835Z"
   },
   {
    "duration": 3,
    "start_time": "2021-11-17T20:59:21.872Z"
   },
   {
    "duration": 4,
    "start_time": "2021-11-17T20:59:45.352Z"
   },
   {
    "duration": 4,
    "start_time": "2021-11-17T20:59:49.646Z"
   },
   {
    "duration": 159,
    "start_time": "2021-11-17T21:02:26.949Z"
   },
   {
    "duration": 3,
    "start_time": "2021-11-17T21:03:53.461Z"
   },
   {
    "duration": 3,
    "start_time": "2021-11-17T21:03:53.694Z"
   },
   {
    "duration": 3,
    "start_time": "2021-11-17T21:05:28.145Z"
   },
   {
    "duration": 116,
    "start_time": "2021-11-17T21:05:57.787Z"
   },
   {
    "duration": 3,
    "start_time": "2021-11-17T21:06:37.993Z"
   },
   {
    "duration": 3,
    "start_time": "2021-11-17T21:06:38.261Z"
   },
   {
    "duration": 3,
    "start_time": "2021-11-17T21:11:54.358Z"
   },
   {
    "duration": 3,
    "start_time": "2021-11-17T21:12:43.846Z"
   },
   {
    "duration": 4,
    "start_time": "2021-11-17T21:13:08.773Z"
   },
   {
    "duration": 3,
    "start_time": "2021-11-17T21:14:44.441Z"
   },
   {
    "duration": 3,
    "start_time": "2021-11-17T21:15:42.059Z"
   },
   {
    "duration": 4,
    "start_time": "2021-11-17T21:15:51.995Z"
   },
   {
    "duration": 3,
    "start_time": "2021-11-17T21:15:53.923Z"
   },
   {
    "duration": 3,
    "start_time": "2021-11-17T21:15:55.282Z"
   },
   {
    "duration": 3,
    "start_time": "2021-11-17T21:16:28.492Z"
   },
   {
    "duration": 3,
    "start_time": "2021-11-17T21:16:32.603Z"
   },
   {
    "duration": 3,
    "start_time": "2021-11-17T21:17:06.941Z"
   },
   {
    "duration": 98,
    "start_time": "2021-11-17T21:18:05.733Z"
   },
   {
    "duration": 4,
    "start_time": "2021-11-17T21:21:35.255Z"
   },
   {
    "duration": 3,
    "start_time": "2021-11-17T21:21:37.804Z"
   },
   {
    "duration": 4,
    "start_time": "2021-11-17T21:23:06.071Z"
   },
   {
    "duration": 3,
    "start_time": "2021-11-17T21:23:24.799Z"
   },
   {
    "duration": 3,
    "start_time": "2021-11-17T21:23:32.591Z"
   },
   {
    "duration": 98,
    "start_time": "2021-11-17T21:28:31.559Z"
   },
   {
    "duration": 3,
    "start_time": "2021-11-17T21:28:45.448Z"
   },
   {
    "duration": 3,
    "start_time": "2021-11-17T21:29:17.303Z"
   },
   {
    "duration": 3,
    "start_time": "2021-11-17T21:29:29.617Z"
   },
   {
    "duration": 3,
    "start_time": "2021-11-17T21:29:32.681Z"
   },
   {
    "duration": 3,
    "start_time": "2021-11-17T21:36:11.474Z"
   },
   {
    "duration": 3,
    "start_time": "2021-11-17T21:36:14.791Z"
   },
   {
    "duration": 3,
    "start_time": "2021-11-17T21:36:53.943Z"
   },
   {
    "duration": 3,
    "start_time": "2021-11-17T21:36:56.165Z"
   },
   {
    "duration": 4,
    "start_time": "2021-11-17T21:37:16.590Z"
   },
   {
    "duration": 3,
    "start_time": "2021-11-17T21:37:22.702Z"
   },
   {
    "duration": 4,
    "start_time": "2021-11-17T21:38:03.479Z"
   },
   {
    "duration": 3,
    "start_time": "2021-11-17T21:38:08.601Z"
   },
   {
    "duration": 3,
    "start_time": "2021-11-17T21:38:12.928Z"
   },
   {
    "duration": 3,
    "start_time": "2021-11-17T21:38:48.896Z"
   },
   {
    "duration": 2,
    "start_time": "2021-11-17T21:38:49.171Z"
   },
   {
    "duration": 4,
    "start_time": "2021-11-17T21:39:57.889Z"
   },
   {
    "duration": 3,
    "start_time": "2021-11-17T21:39:58.057Z"
   },
   {
    "duration": 3,
    "start_time": "2021-11-17T21:41:20.108Z"
   },
   {
    "duration": 3,
    "start_time": "2021-11-17T21:41:20.629Z"
   },
   {
    "duration": 3,
    "start_time": "2021-11-17T21:42:49.136Z"
   },
   {
    "duration": 3,
    "start_time": "2021-11-17T21:43:15.137Z"
   },
   {
    "duration": 4,
    "start_time": "2021-11-17T21:43:16.766Z"
   },
   {
    "duration": 4,
    "start_time": "2021-11-17T21:43:31.711Z"
   },
   {
    "duration": 3,
    "start_time": "2021-11-17T21:43:36.312Z"
   },
   {
    "duration": 4,
    "start_time": "2021-11-17T21:45:08.825Z"
   },
   {
    "duration": 4,
    "start_time": "2021-11-17T21:45:10.119Z"
   },
   {
    "duration": 4,
    "start_time": "2021-11-17T21:45:13.748Z"
   },
   {
    "duration": 3,
    "start_time": "2021-11-17T21:45:22.219Z"
   },
   {
    "duration": 3,
    "start_time": "2021-11-17T21:45:33.412Z"
   },
   {
    "duration": 2,
    "start_time": "2021-11-17T21:46:01.885Z"
   },
   {
    "duration": 3,
    "start_time": "2021-11-17T21:46:03.628Z"
   },
   {
    "duration": 107,
    "start_time": "2021-11-17T21:47:32.512Z"
   },
   {
    "duration": 103,
    "start_time": "2021-11-17T21:50:36.243Z"
   },
   {
    "duration": 3,
    "start_time": "2021-11-18T06:28:31.440Z"
   },
   {
    "duration": 3,
    "start_time": "2021-11-18T06:29:00.168Z"
   },
   {
    "duration": 3,
    "start_time": "2021-11-18T06:31:27.008Z"
   },
   {
    "duration": 2,
    "start_time": "2021-11-18T06:35:34.288Z"
   },
   {
    "duration": 2,
    "start_time": "2021-11-18T06:38:04.527Z"
   },
   {
    "duration": 4919,
    "start_time": "2024-08-20T21:12:08.091Z"
   },
   {
    "duration": 17,
    "start_time": "2024-08-20T21:12:13.013Z"
   },
   {
    "duration": 1187,
    "start_time": "2024-08-20T21:15:24.877Z"
   },
   {
    "duration": 270,
    "start_time": "2024-08-20T21:18:30.355Z"
   },
   {
    "duration": 211,
    "start_time": "2024-08-20T21:18:48.849Z"
   },
   {
    "duration": 329,
    "start_time": "2024-08-20T21:21:50.994Z"
   },
   {
    "duration": 4,
    "start_time": "2024-08-20T21:21:59.369Z"
   },
   {
    "duration": 279,
    "start_time": "2024-08-20T21:22:01.236Z"
   },
   {
    "duration": 16,
    "start_time": "2024-08-20T21:23:21.758Z"
   },
   {
    "duration": 14,
    "start_time": "2024-08-20T21:27:40.928Z"
   },
   {
    "duration": 17,
    "start_time": "2024-08-20T21:28:47.354Z"
   },
   {
    "duration": 14,
    "start_time": "2024-08-20T21:28:59.934Z"
   },
   {
    "duration": 24,
    "start_time": "2024-08-20T21:29:30.322Z"
   },
   {
    "duration": 11,
    "start_time": "2024-08-20T21:30:51.108Z"
   },
   {
    "duration": 23,
    "start_time": "2024-08-20T21:31:02.393Z"
   },
   {
    "duration": 20,
    "start_time": "2024-08-20T21:31:04.833Z"
   },
   {
    "duration": 14,
    "start_time": "2024-08-20T21:31:15.905Z"
   },
   {
    "duration": 23,
    "start_time": "2024-08-20T21:31:25.041Z"
   },
   {
    "duration": 11,
    "start_time": "2024-08-20T21:31:30.358Z"
   },
   {
    "duration": 12,
    "start_time": "2024-08-20T21:33:35.450Z"
   },
   {
    "duration": 15,
    "start_time": "2024-08-20T21:34:06.328Z"
   },
   {
    "duration": 11,
    "start_time": "2024-08-20T21:34:12.977Z"
   },
   {
    "duration": 9,
    "start_time": "2024-08-20T21:36:01.646Z"
   },
   {
    "duration": 7,
    "start_time": "2024-08-20T21:36:10.965Z"
   },
   {
    "duration": 11,
    "start_time": "2024-08-20T21:39:12.069Z"
   },
   {
    "duration": 9,
    "start_time": "2024-08-20T21:39:15.602Z"
   },
   {
    "duration": 9,
    "start_time": "2024-08-20T21:39:55.241Z"
   },
   {
    "duration": 4,
    "start_time": "2024-08-20T21:45:02.063Z"
   },
   {
    "duration": 8,
    "start_time": "2024-08-20T21:45:34.536Z"
   },
   {
    "duration": 5,
    "start_time": "2024-08-20T21:45:45.896Z"
   },
   {
    "duration": 13,
    "start_time": "2024-08-20T21:45:57.420Z"
   },
   {
    "duration": 11,
    "start_time": "2024-08-20T21:46:00.079Z"
   },
   {
    "duration": 54,
    "start_time": "2024-08-20T21:47:08.502Z"
   },
   {
    "duration": 19,
    "start_time": "2024-08-20T21:47:27.722Z"
   },
   {
    "duration": 28,
    "start_time": "2024-08-20T21:48:18.799Z"
   },
   {
    "duration": 27,
    "start_time": "2024-08-20T21:49:03.659Z"
   },
   {
    "duration": 14,
    "start_time": "2024-08-20T21:49:09.967Z"
   },
   {
    "duration": 70,
    "start_time": "2024-08-20T21:52:34.418Z"
   },
   {
    "duration": 75,
    "start_time": "2024-08-20T21:52:38.602Z"
   },
   {
    "duration": 23,
    "start_time": "2024-08-20T21:52:56.114Z"
   },
   {
    "duration": 24,
    "start_time": "2024-08-20T21:53:57.512Z"
   },
   {
    "duration": 18,
    "start_time": "2024-08-20T21:54:32.343Z"
   },
   {
    "duration": 310,
    "start_time": "2024-08-21T19:52:47.603Z"
   },
   {
    "duration": 22,
    "start_time": "2024-08-21T19:52:59.855Z"
   },
   {
    "duration": 4955,
    "start_time": "2024-08-21T19:53:22.731Z"
   },
   {
    "duration": 376,
    "start_time": "2024-08-21T19:53:27.691Z"
   },
   {
    "duration": 15,
    "start_time": "2024-08-21T19:53:28.070Z"
   },
   {
    "duration": 18,
    "start_time": "2024-08-21T19:53:28.088Z"
   },
   {
    "duration": 8,
    "start_time": "2024-08-21T19:53:28.111Z"
   },
   {
    "duration": 8,
    "start_time": "2024-08-21T19:53:28.122Z"
   },
   {
    "duration": 57,
    "start_time": "2024-08-21T19:53:28.134Z"
   },
   {
    "duration": 14,
    "start_time": "2024-08-21T19:53:28.194Z"
   },
   {
    "duration": 9,
    "start_time": "2024-08-21T19:53:28.212Z"
   },
   {
    "duration": 11,
    "start_time": "2024-08-21T19:53:28.224Z"
   },
   {
    "duration": 5,
    "start_time": "2024-08-21T19:53:28.290Z"
   },
   {
    "duration": 9,
    "start_time": "2024-08-21T19:53:28.298Z"
   },
   {
    "duration": 26,
    "start_time": "2024-08-21T19:53:28.310Z"
   },
   {
    "duration": 48,
    "start_time": "2024-08-21T19:53:28.344Z"
   },
   {
    "duration": 63,
    "start_time": "2024-08-21T19:53:28.395Z"
   },
   {
    "duration": 44,
    "start_time": "2024-08-21T19:53:28.461Z"
   },
   {
    "duration": 13,
    "start_time": "2024-08-21T19:53:28.508Z"
   },
   {
    "duration": 21,
    "start_time": "2024-08-21T19:53:28.525Z"
   },
   {
    "duration": 48,
    "start_time": "2024-08-21T19:53:28.549Z"
   },
   {
    "duration": 30,
    "start_time": "2024-08-21T19:53:28.600Z"
   },
   {
    "duration": 16,
    "start_time": "2024-08-21T19:53:28.633Z"
   },
   {
    "duration": 22,
    "start_time": "2024-08-21T19:53:28.691Z"
   },
   {
    "duration": 13,
    "start_time": "2024-08-21T19:53:28.716Z"
   },
   {
    "duration": 117,
    "start_time": "2024-08-21T19:53:28.733Z"
   },
   {
    "duration": 19,
    "start_time": "2024-08-21T19:53:28.856Z"
   },
   {
    "duration": 4,
    "start_time": "2024-08-21T19:53:28.891Z"
   },
   {
    "duration": 3,
    "start_time": "2024-08-21T19:53:28.899Z"
   },
   {
    "duration": 4,
    "start_time": "2024-08-21T19:53:28.906Z"
   },
   {
    "duration": 3,
    "start_time": "2024-08-21T19:53:28.914Z"
   },
   {
    "duration": 3,
    "start_time": "2024-08-21T19:53:28.922Z"
   },
   {
    "duration": 4,
    "start_time": "2024-08-21T19:53:28.929Z"
   },
   {
    "duration": 4,
    "start_time": "2024-08-21T19:53:28.992Z"
   },
   {
    "duration": 3,
    "start_time": "2024-08-21T19:53:29.000Z"
   },
   {
    "duration": 4,
    "start_time": "2024-08-21T19:53:29.007Z"
   },
   {
    "duration": 3,
    "start_time": "2024-08-21T19:53:29.015Z"
   },
   {
    "duration": 4,
    "start_time": "2024-08-21T19:53:29.021Z"
   },
   {
    "duration": 5,
    "start_time": "2024-08-21T19:53:29.029Z"
   },
   {
    "duration": 4,
    "start_time": "2024-08-21T19:53:29.090Z"
   },
   {
    "duration": 3,
    "start_time": "2024-08-21T19:53:29.097Z"
   },
   {
    "duration": 4,
    "start_time": "2024-08-21T19:53:29.103Z"
   },
   {
    "duration": 3,
    "start_time": "2024-08-21T19:53:29.116Z"
   },
   {
    "duration": 12,
    "start_time": "2024-08-21T19:55:34.428Z"
   },
   {
    "duration": 12,
    "start_time": "2024-08-21T19:55:47.415Z"
   },
   {
    "duration": 507,
    "start_time": "2024-08-21T19:58:42.054Z"
   },
   {
    "duration": 38,
    "start_time": "2024-08-21T19:59:06.496Z"
   },
   {
    "duration": 28,
    "start_time": "2024-08-21T19:59:55.871Z"
   },
   {
    "duration": 44,
    "start_time": "2024-08-21T20:12:14.550Z"
   },
   {
    "duration": 11,
    "start_time": "2024-08-21T20:18:07.908Z"
   },
   {
    "duration": 23,
    "start_time": "2024-08-21T20:19:46.582Z"
   },
   {
    "duration": 18,
    "start_time": "2024-08-21T20:19:51.026Z"
   },
   {
    "duration": 32,
    "start_time": "2024-08-21T20:20:03.528Z"
   },
   {
    "duration": 13,
    "start_time": "2024-08-21T20:20:50.499Z"
   },
   {
    "duration": 43,
    "start_time": "2024-08-21T20:25:30.339Z"
   },
   {
    "duration": 540,
    "start_time": "2024-08-21T20:29:19.005Z"
   },
   {
    "duration": 77,
    "start_time": "2024-08-21T20:29:51.337Z"
   },
   {
    "duration": 84,
    "start_time": "2024-08-21T20:30:02.584Z"
   },
   {
    "duration": 55,
    "start_time": "2024-08-21T20:32:26.520Z"
   },
   {
    "duration": 28,
    "start_time": "2024-08-21T20:32:38.525Z"
   },
   {
    "duration": 19,
    "start_time": "2024-08-21T20:32:45.640Z"
   },
   {
    "duration": 13,
    "start_time": "2024-08-21T20:33:03.528Z"
   },
   {
    "duration": 15,
    "start_time": "2024-08-21T20:33:31.085Z"
   },
   {
    "duration": 11,
    "start_time": "2024-08-21T20:33:35.579Z"
   },
   {
    "duration": 32,
    "start_time": "2024-08-21T20:35:02.247Z"
   },
   {
    "duration": 18,
    "start_time": "2024-08-21T20:42:18.836Z"
   },
   {
    "duration": 12,
    "start_time": "2024-08-21T20:44:33.430Z"
   },
   {
    "duration": 11,
    "start_time": "2024-08-21T20:44:41.339Z"
   },
   {
    "duration": 3,
    "start_time": "2024-08-21T20:49:04.882Z"
   },
   {
    "duration": 81,
    "start_time": "2024-08-21T20:53:03.606Z"
   },
   {
    "duration": 26,
    "start_time": "2024-08-21T20:53:19.555Z"
   },
   {
    "duration": 24,
    "start_time": "2024-08-21T20:53:44.979Z"
   },
   {
    "duration": 18,
    "start_time": "2024-08-21T20:53:51.402Z"
   },
   {
    "duration": 23,
    "start_time": "2024-08-21T20:54:10.943Z"
   },
   {
    "duration": 18,
    "start_time": "2024-08-21T20:54:14.117Z"
   },
   {
    "duration": 11,
    "start_time": "2024-08-21T20:55:09.727Z"
   },
   {
    "duration": 9,
    "start_time": "2024-08-21T20:56:35.781Z"
   },
   {
    "duration": 12,
    "start_time": "2024-08-21T20:57:01.211Z"
   },
   {
    "duration": 12,
    "start_time": "2024-08-21T21:07:38.533Z"
   },
   {
    "duration": 13,
    "start_time": "2024-08-21T21:08:37.802Z"
   },
   {
    "duration": 4,
    "start_time": "2024-08-21T21:19:52.628Z"
   },
   {
    "duration": 3,
    "start_time": "2024-08-21T21:25:39.174Z"
   },
   {
    "duration": 16,
    "start_time": "2024-08-21T21:25:42.782Z"
   },
   {
    "duration": 3,
    "start_time": "2024-08-21T21:36:10.745Z"
   },
   {
    "duration": 311,
    "start_time": "2024-08-22T19:46:15.156Z"
   },
   {
    "duration": 5349,
    "start_time": "2024-08-22T19:46:22.033Z"
   },
   {
    "duration": 445,
    "start_time": "2024-08-22T19:46:27.386Z"
   },
   {
    "duration": 24,
    "start_time": "2024-08-22T19:46:27.834Z"
   },
   {
    "duration": 17,
    "start_time": "2024-08-22T19:46:27.863Z"
   },
   {
    "duration": 20,
    "start_time": "2024-08-22T19:46:27.884Z"
   },
   {
    "duration": 9,
    "start_time": "2024-08-22T19:46:27.908Z"
   },
   {
    "duration": 11,
    "start_time": "2024-08-22T19:46:27.921Z"
   },
   {
    "duration": 17,
    "start_time": "2024-08-22T19:46:27.935Z"
   },
   {
    "duration": 45,
    "start_time": "2024-08-22T19:46:27.956Z"
   },
   {
    "duration": 15,
    "start_time": "2024-08-22T19:46:28.008Z"
   },
   {
    "duration": 14,
    "start_time": "2024-08-22T19:46:28.025Z"
   },
   {
    "duration": 12,
    "start_time": "2024-08-22T19:46:28.042Z"
   },
   {
    "duration": 45,
    "start_time": "2024-08-22T19:46:28.057Z"
   },
   {
    "duration": 46,
    "start_time": "2024-08-22T19:46:28.106Z"
   },
   {
    "duration": 22,
    "start_time": "2024-08-22T19:46:28.157Z"
   },
   {
    "duration": 32,
    "start_time": "2024-08-22T19:46:28.182Z"
   },
   {
    "duration": 16,
    "start_time": "2024-08-22T19:46:28.217Z"
   },
   {
    "duration": 79,
    "start_time": "2024-08-22T19:46:28.236Z"
   },
   {
    "duration": 20,
    "start_time": "2024-08-22T19:46:28.318Z"
   },
   {
    "duration": 16,
    "start_time": "2024-08-22T19:46:28.345Z"
   },
   {
    "duration": 548,
    "start_time": "2024-08-22T19:46:28.365Z"
   },
   {
    "duration": 0,
    "start_time": "2024-08-22T19:46:28.919Z"
   },
   {
    "duration": 0,
    "start_time": "2024-08-22T19:46:28.923Z"
   },
   {
    "duration": 0,
    "start_time": "2024-08-22T19:46:28.925Z"
   },
   {
    "duration": 0,
    "start_time": "2024-08-22T19:46:28.927Z"
   },
   {
    "duration": 0,
    "start_time": "2024-08-22T19:46:28.930Z"
   },
   {
    "duration": 0,
    "start_time": "2024-08-22T19:46:28.932Z"
   },
   {
    "duration": 0,
    "start_time": "2024-08-22T19:46:28.935Z"
   },
   {
    "duration": 0,
    "start_time": "2024-08-22T19:46:28.937Z"
   },
   {
    "duration": 0,
    "start_time": "2024-08-22T19:46:28.940Z"
   },
   {
    "duration": 0,
    "start_time": "2024-08-22T19:46:28.942Z"
   },
   {
    "duration": 0,
    "start_time": "2024-08-22T19:46:28.945Z"
   },
   {
    "duration": 0,
    "start_time": "2024-08-22T19:46:28.947Z"
   },
   {
    "duration": 0,
    "start_time": "2024-08-22T19:46:28.950Z"
   },
   {
    "duration": 0,
    "start_time": "2024-08-22T19:46:28.952Z"
   },
   {
    "duration": 0,
    "start_time": "2024-08-22T19:46:29.003Z"
   },
   {
    "duration": 0,
    "start_time": "2024-08-22T19:46:29.005Z"
   },
   {
    "duration": 0,
    "start_time": "2024-08-22T19:46:29.007Z"
   },
   {
    "duration": 0,
    "start_time": "2024-08-22T19:46:29.010Z"
   },
   {
    "duration": 0,
    "start_time": "2024-08-22T19:46:29.012Z"
   },
   {
    "duration": 0,
    "start_time": "2024-08-22T19:46:29.015Z"
   },
   {
    "duration": 0,
    "start_time": "2024-08-22T19:46:29.017Z"
   },
   {
    "duration": 0,
    "start_time": "2024-08-22T19:46:29.019Z"
   },
   {
    "duration": 0,
    "start_time": "2024-08-22T19:46:29.022Z"
   },
   {
    "duration": 0,
    "start_time": "2024-08-22T19:46:29.026Z"
   },
   {
    "duration": 0,
    "start_time": "2024-08-22T19:46:29.028Z"
   },
   {
    "duration": 0,
    "start_time": "2024-08-22T19:46:29.030Z"
   },
   {
    "duration": 0,
    "start_time": "2024-08-22T19:46:29.033Z"
   },
   {
    "duration": 0,
    "start_time": "2024-08-22T19:46:29.035Z"
   },
   {
    "duration": 0,
    "start_time": "2024-08-22T19:46:29.037Z"
   },
   {
    "duration": 0,
    "start_time": "2024-08-22T19:46:29.039Z"
   },
   {
    "duration": 0,
    "start_time": "2024-08-22T19:46:29.042Z"
   },
   {
    "duration": 0,
    "start_time": "2024-08-22T19:46:29.044Z"
   },
   {
    "duration": 0,
    "start_time": "2024-08-22T19:46:29.046Z"
   },
   {
    "duration": 0,
    "start_time": "2024-08-22T19:46:29.049Z"
   },
   {
    "duration": 0,
    "start_time": "2024-08-22T19:46:29.051Z"
   },
   {
    "duration": 1,
    "start_time": "2024-08-22T19:46:29.100Z"
   },
   {
    "duration": 0,
    "start_time": "2024-08-22T19:46:29.103Z"
   },
   {
    "duration": 0,
    "start_time": "2024-08-22T19:46:29.106Z"
   },
   {
    "duration": 0,
    "start_time": "2024-08-22T19:46:29.107Z"
   },
   {
    "duration": 0,
    "start_time": "2024-08-22T19:46:29.110Z"
   },
   {
    "duration": 0,
    "start_time": "2024-08-22T19:46:29.112Z"
   },
   {
    "duration": 0,
    "start_time": "2024-08-22T19:46:29.115Z"
   },
   {
    "duration": 0,
    "start_time": "2024-08-22T19:46:29.118Z"
   },
   {
    "duration": 25,
    "start_time": "2024-08-22T19:47:51.820Z"
   },
   {
    "duration": 14,
    "start_time": "2024-08-22T19:48:07.539Z"
   },
   {
    "duration": 37,
    "start_time": "2024-08-22T19:48:39.755Z"
   },
   {
    "duration": 37,
    "start_time": "2024-08-22T19:49:04.783Z"
   },
   {
    "duration": 7,
    "start_time": "2024-08-22T19:51:06.489Z"
   },
   {
    "duration": 14,
    "start_time": "2024-08-22T19:51:27.325Z"
   },
   {
    "duration": 7,
    "start_time": "2024-08-22T19:52:22.119Z"
   },
   {
    "duration": 15,
    "start_time": "2024-08-22T19:52:24.196Z"
   },
   {
    "duration": 3,
    "start_time": "2024-08-22T19:53:42.701Z"
   },
   {
    "duration": 9,
    "start_time": "2024-08-22T19:54:49.424Z"
   },
   {
    "duration": 9,
    "start_time": "2024-08-22T19:54:57.344Z"
   },
   {
    "duration": 10,
    "start_time": "2024-08-22T19:54:59.512Z"
   },
   {
    "duration": 15,
    "start_time": "2024-08-22T19:55:11.283Z"
   },
   {
    "duration": 14,
    "start_time": "2024-08-22T19:55:21.498Z"
   },
   {
    "duration": 20,
    "start_time": "2024-08-22T19:55:29.880Z"
   },
   {
    "duration": 7,
    "start_time": "2024-08-22T19:55:35.109Z"
   },
   {
    "duration": 8,
    "start_time": "2024-08-22T19:55:37.110Z"
   },
   {
    "duration": 15,
    "start_time": "2024-08-22T19:55:39.990Z"
   },
   {
    "duration": 14,
    "start_time": "2024-08-22T19:56:23.296Z"
   },
   {
    "duration": 272,
    "start_time": "2024-08-22T19:57:46.990Z"
   },
   {
    "duration": 17,
    "start_time": "2024-08-22T19:57:53.214Z"
   },
   {
    "duration": 14,
    "start_time": "2024-08-22T19:57:57.125Z"
   },
   {
    "duration": 8,
    "start_time": "2024-08-22T19:58:01.967Z"
   },
   {
    "duration": 15,
    "start_time": "2024-08-22T19:58:09.008Z"
   },
   {
    "duration": 8,
    "start_time": "2024-08-22T19:58:22.085Z"
   },
   {
    "duration": 7,
    "start_time": "2024-08-22T19:58:24.253Z"
   },
   {
    "duration": 15,
    "start_time": "2024-08-22T19:58:28.848Z"
   },
   {
    "duration": 9,
    "start_time": "2024-08-22T20:00:03.744Z"
   },
   {
    "duration": 7,
    "start_time": "2024-08-22T20:00:05.649Z"
   },
   {
    "duration": 15,
    "start_time": "2024-08-22T20:00:07.568Z"
   },
   {
    "duration": 1077,
    "start_time": "2024-08-22T20:00:46.914Z"
   },
   {
    "duration": 28,
    "start_time": "2024-08-22T20:03:01.310Z"
   },
   {
    "duration": 26,
    "start_time": "2024-08-22T20:03:21.110Z"
   },
   {
    "duration": 16,
    "start_time": "2024-08-22T20:03:33.561Z"
   },
   {
    "duration": 5,
    "start_time": "2024-08-22T20:04:12.349Z"
   },
   {
    "duration": 68,
    "start_time": "2024-08-22T20:04:14.898Z"
   },
   {
    "duration": 70,
    "start_time": "2024-08-22T20:04:28.082Z"
   },
   {
    "duration": 69,
    "start_time": "2024-08-22T20:04:45.448Z"
   },
   {
    "duration": 16,
    "start_time": "2024-08-22T20:04:48.425Z"
   },
   {
    "duration": 15,
    "start_time": "2024-08-22T20:04:52.256Z"
   },
   {
    "duration": 73,
    "start_time": "2024-08-22T20:05:27.194Z"
   },
   {
    "duration": 15,
    "start_time": "2024-08-22T20:05:32.859Z"
   },
   {
    "duration": 26,
    "start_time": "2024-08-22T20:10:25.242Z"
   },
   {
    "duration": 49,
    "start_time": "2024-08-22T20:10:28.133Z"
   },
   {
    "duration": 12,
    "start_time": "2024-08-22T20:10:30.696Z"
   },
   {
    "duration": 29,
    "start_time": "2024-08-22T20:10:33.153Z"
   },
   {
    "duration": 12,
    "start_time": "2024-08-22T20:10:35.641Z"
   },
   {
    "duration": 4,
    "start_time": "2024-08-22T20:14:30.457Z"
   },
   {
    "duration": 24,
    "start_time": "2024-08-22T20:15:34.016Z"
   },
   {
    "duration": 4,
    "start_time": "2024-08-22T20:15:52.049Z"
   },
   {
    "duration": 23,
    "start_time": "2024-08-22T20:15:53.754Z"
   },
   {
    "duration": 266,
    "start_time": "2024-08-22T20:16:09.172Z"
   },
   {
    "duration": 3,
    "start_time": "2024-08-22T20:16:20.880Z"
   },
   {
    "duration": 78,
    "start_time": "2024-08-22T20:16:23.088Z"
   },
   {
    "duration": 20,
    "start_time": "2024-08-22T20:16:44.784Z"
   },
   {
    "duration": 12,
    "start_time": "2024-08-22T20:17:13.019Z"
   },
   {
    "duration": 19,
    "start_time": "2024-08-22T20:18:37.207Z"
   },
   {
    "duration": 10,
    "start_time": "2024-08-22T20:18:37.230Z"
   },
   {
    "duration": 71,
    "start_time": "2024-08-22T20:18:37.244Z"
   },
   {
    "duration": 14,
    "start_time": "2024-08-22T20:18:37.318Z"
   },
   {
    "duration": 24,
    "start_time": "2024-08-22T20:18:37.339Z"
   },
   {
    "duration": 47,
    "start_time": "2024-08-22T20:18:37.365Z"
   },
   {
    "duration": 11,
    "start_time": "2024-08-22T20:18:37.415Z"
   },
   {
    "duration": 13,
    "start_time": "2024-08-22T20:18:37.429Z"
   },
   {
    "duration": 3,
    "start_time": "2024-08-22T20:18:37.445Z"
   },
   {
    "duration": 51,
    "start_time": "2024-08-22T20:18:37.452Z"
   },
   {
    "duration": 25,
    "start_time": "2024-08-22T20:18:37.506Z"
   },
   {
    "duration": 11,
    "start_time": "2024-08-22T20:18:37.534Z"
   },
   {
    "duration": 102,
    "start_time": "2024-08-22T20:18:37.548Z"
   },
   {
    "duration": 17,
    "start_time": "2024-08-22T20:18:37.659Z"
   },
   {
    "duration": 32,
    "start_time": "2024-08-22T20:18:37.702Z"
   },
   {
    "duration": 23,
    "start_time": "2024-08-22T20:18:37.737Z"
   },
   {
    "duration": 40,
    "start_time": "2024-08-22T20:18:37.764Z"
   },
   {
    "duration": 38,
    "start_time": "2024-08-22T20:18:37.807Z"
   },
   {
    "duration": 16,
    "start_time": "2024-08-22T20:18:37.848Z"
   },
   {
    "duration": 43,
    "start_time": "2024-08-22T20:18:37.867Z"
   },
   {
    "duration": 3,
    "start_time": "2024-08-22T20:18:37.913Z"
   },
   {
    "duration": 14,
    "start_time": "2024-08-22T20:18:37.919Z"
   },
   {
    "duration": 3,
    "start_time": "2024-08-22T20:18:37.937Z"
   },
   {
    "duration": 3,
    "start_time": "2024-08-22T20:18:37.943Z"
   },
   {
    "duration": 4,
    "start_time": "2024-08-22T20:18:37.949Z"
   },
   {
    "duration": 3,
    "start_time": "2024-08-22T20:18:38.003Z"
   },
   {
    "duration": 5,
    "start_time": "2024-08-22T20:18:38.009Z"
   },
   {
    "duration": 4,
    "start_time": "2024-08-22T20:18:38.017Z"
   },
   {
    "duration": 3,
    "start_time": "2024-08-22T20:18:38.025Z"
   },
   {
    "duration": 3,
    "start_time": "2024-08-22T20:18:38.032Z"
   },
   {
    "duration": 3,
    "start_time": "2024-08-22T20:18:38.039Z"
   },
   {
    "duration": 55,
    "start_time": "2024-08-22T20:18:38.046Z"
   },
   {
    "duration": 4,
    "start_time": "2024-08-22T20:18:38.104Z"
   },
   {
    "duration": 3,
    "start_time": "2024-08-22T20:18:38.112Z"
   },
   {
    "duration": 3,
    "start_time": "2024-08-22T20:18:38.119Z"
   },
   {
    "duration": 3,
    "start_time": "2024-08-22T20:18:38.126Z"
   },
   {
    "duration": 4,
    "start_time": "2024-08-22T20:18:38.132Z"
   },
   {
    "duration": 4,
    "start_time": "2024-08-22T20:18:38.139Z"
   },
   {
    "duration": 14,
    "start_time": "2024-08-22T20:19:45.166Z"
   },
   {
    "duration": 51,
    "start_time": "2024-08-22T20:30:16.284Z"
   },
   {
    "duration": 21,
    "start_time": "2024-08-22T20:30:24.729Z"
   },
   {
    "duration": 4,
    "start_time": "2024-08-22T20:32:22.043Z"
   },
   {
    "duration": 11,
    "start_time": "2024-08-22T20:32:33.162Z"
   },
   {
    "duration": 4,
    "start_time": "2024-08-22T20:33:52.030Z"
   },
   {
    "duration": 11,
    "start_time": "2024-08-22T20:33:53.787Z"
   },
   {
    "duration": 17,
    "start_time": "2024-08-22T20:36:09.201Z"
   },
   {
    "duration": 15,
    "start_time": "2024-08-22T20:36:44.272Z"
   },
   {
    "duration": 15,
    "start_time": "2024-08-22T20:38:30.104Z"
   },
   {
    "duration": 545,
    "start_time": "2024-08-22T20:45:53.808Z"
   },
   {
    "duration": 69,
    "start_time": "2024-08-22T20:47:38.969Z"
   },
   {
    "duration": 25,
    "start_time": "2024-08-22T20:49:35.690Z"
   },
   {
    "duration": 17,
    "start_time": "2024-08-22T20:49:44.082Z"
   },
   {
    "duration": 12,
    "start_time": "2024-08-22T20:52:12.585Z"
   },
   {
    "duration": 4,
    "start_time": "2024-08-22T20:52:41.887Z"
   },
   {
    "duration": 6,
    "start_time": "2024-08-22T20:53:06.225Z"
   },
   {
    "duration": 14,
    "start_time": "2024-08-22T20:53:12.053Z"
   },
   {
    "duration": 126,
    "start_time": "2024-08-22T21:00:57.225Z"
   },
   {
    "duration": 23,
    "start_time": "2024-08-22T21:01:43.417Z"
   },
   {
    "duration": 16,
    "start_time": "2024-08-22T21:01:51.745Z"
   },
   {
    "duration": 3,
    "start_time": "2024-08-22T21:02:25.669Z"
   },
   {
    "duration": 6,
    "start_time": "2024-08-22T21:02:55.158Z"
   },
   {
    "duration": 22,
    "start_time": "2024-08-22T21:10:15.665Z"
   },
   {
    "duration": 4,
    "start_time": "2024-08-22T21:10:18.547Z"
   },
   {
    "duration": 23,
    "start_time": "2024-08-22T21:10:20.238Z"
   },
   {
    "duration": 26,
    "start_time": "2024-08-22T21:10:32.622Z"
   },
   {
    "duration": 23,
    "start_time": "2024-08-22T21:10:33.981Z"
   },
   {
    "duration": 4,
    "start_time": "2024-08-22T21:10:37.157Z"
   },
   {
    "duration": 7,
    "start_time": "2024-08-22T21:10:38.994Z"
   },
   {
    "duration": 23,
    "start_time": "2024-08-22T21:10:41.063Z"
   },
   {
    "duration": 15,
    "start_time": "2024-08-22T21:11:17.182Z"
   },
   {
    "duration": 4,
    "start_time": "2024-08-22T21:18:32.438Z"
   },
   {
    "duration": 4,
    "start_time": "2024-08-22T21:21:44.234Z"
   },
   {
    "duration": 7,
    "start_time": "2024-08-22T21:21:46.338Z"
   },
   {
    "duration": 23,
    "start_time": "2024-08-22T21:23:06.113Z"
   },
   {
    "duration": 25,
    "start_time": "2024-08-22T21:26:35.989Z"
   },
   {
    "duration": 4,
    "start_time": "2024-08-22T21:26:51.866Z"
   },
   {
    "duration": 24,
    "start_time": "2024-08-22T21:26:55.147Z"
   },
   {
    "duration": 4,
    "start_time": "2024-08-22T21:28:06.209Z"
   },
   {
    "duration": 8,
    "start_time": "2024-08-22T21:28:13.357Z"
   },
   {
    "duration": 16,
    "start_time": "2024-08-22T21:29:08.838Z"
   },
   {
    "duration": 11,
    "start_time": "2024-08-22T21:36:36.720Z"
   },
   {
    "duration": 22,
    "start_time": "2024-08-22T21:36:45.399Z"
   },
   {
    "duration": 13,
    "start_time": "2024-08-22T21:39:38.735Z"
   },
   {
    "duration": 29,
    "start_time": "2024-08-22T21:39:48.227Z"
   },
   {
    "duration": 30,
    "start_time": "2024-08-22T21:41:27.043Z"
   },
   {
    "duration": 4,
    "start_time": "2024-08-22T21:41:29.531Z"
   },
   {
    "duration": 5,
    "start_time": "2024-08-22T21:44:15.594Z"
   },
   {
    "duration": 6,
    "start_time": "2024-08-22T21:45:00.087Z"
   },
   {
    "duration": 15,
    "start_time": "2024-08-22T21:45:01.715Z"
   },
   {
    "duration": 4,
    "start_time": "2024-08-22T21:48:19.391Z"
   },
   {
    "duration": 25,
    "start_time": "2024-08-22T21:51:53.339Z"
   },
   {
    "duration": 11,
    "start_time": "2024-08-22T21:51:56.516Z"
   },
   {
    "duration": 28,
    "start_time": "2024-08-22T21:51:58.699Z"
   },
   {
    "duration": 31,
    "start_time": "2024-08-22T21:56:39.251Z"
   },
   {
    "duration": 10,
    "start_time": "2024-08-23T16:38:07.599Z"
   },
   {
    "duration": 5,
    "start_time": "2024-08-23T16:40:48.554Z"
   },
   {
    "duration": 9,
    "start_time": "2024-08-23T16:47:03.354Z"
   },
   {
    "duration": 4,
    "start_time": "2024-08-23T16:50:10.926Z"
   },
   {
    "duration": 5,
    "start_time": "2024-08-23T16:50:47.918Z"
   },
   {
    "duration": 303,
    "start_time": "2024-08-23T20:22:30.992Z"
   },
   {
    "duration": 5118,
    "start_time": "2024-08-23T20:23:16.872Z"
   },
   {
    "duration": 349,
    "start_time": "2024-08-23T20:23:21.995Z"
   },
   {
    "duration": 16,
    "start_time": "2024-08-23T20:23:22.346Z"
   },
   {
    "duration": 16,
    "start_time": "2024-08-23T20:23:22.366Z"
   },
   {
    "duration": 4,
    "start_time": "2024-08-23T20:23:22.386Z"
   },
   {
    "duration": 42,
    "start_time": "2024-08-23T20:23:22.393Z"
   },
   {
    "duration": 11,
    "start_time": "2024-08-23T20:23:22.438Z"
   },
   {
    "duration": 15,
    "start_time": "2024-08-23T20:23:22.451Z"
   },
   {
    "duration": 14,
    "start_time": "2024-08-23T20:23:22.470Z"
   },
   {
    "duration": 53,
    "start_time": "2024-08-23T20:23:22.487Z"
   },
   {
    "duration": 10,
    "start_time": "2024-08-23T20:23:22.543Z"
   },
   {
    "duration": 21,
    "start_time": "2024-08-23T20:23:22.557Z"
   },
   {
    "duration": 52,
    "start_time": "2024-08-23T20:23:22.581Z"
   },
   {
    "duration": 7,
    "start_time": "2024-08-23T20:23:22.642Z"
   },
   {
    "duration": 16,
    "start_time": "2024-08-23T20:23:22.652Z"
   },
   {
    "duration": 15,
    "start_time": "2024-08-23T20:23:22.670Z"
   },
   {
    "duration": 67,
    "start_time": "2024-08-23T20:23:22.688Z"
   },
   {
    "duration": 11,
    "start_time": "2024-08-23T20:23:22.758Z"
   },
   {
    "duration": 88,
    "start_time": "2024-08-23T20:23:22.772Z"
   },
   {
    "duration": 19,
    "start_time": "2024-08-23T20:23:22.864Z"
   },
   {
    "duration": 12,
    "start_time": "2024-08-23T20:23:22.886Z"
   },
   {
    "duration": 66,
    "start_time": "2024-08-23T20:23:22.901Z"
   },
   {
    "duration": 28,
    "start_time": "2024-08-23T20:23:22.970Z"
   },
   {
    "duration": 67,
    "start_time": "2024-08-23T20:23:23.001Z"
   },
   {
    "duration": 12,
    "start_time": "2024-08-23T20:23:23.070Z"
   },
   {
    "duration": 60,
    "start_time": "2024-08-23T20:23:23.085Z"
   },
   {
    "duration": 13,
    "start_time": "2024-08-23T20:23:23.148Z"
   },
   {
    "duration": 5,
    "start_time": "2024-08-23T20:23:23.164Z"
   },
   {
    "duration": 112,
    "start_time": "2024-08-23T20:23:23.172Z"
   },
   {
    "duration": 12,
    "start_time": "2024-08-23T20:23:23.288Z"
   },
   {
    "duration": 37,
    "start_time": "2024-08-23T20:23:23.305Z"
   },
   {
    "duration": 11,
    "start_time": "2024-08-23T20:23:23.344Z"
   },
   {
    "duration": 36,
    "start_time": "2024-08-23T20:23:23.359Z"
   },
   {
    "duration": 43,
    "start_time": "2024-08-23T20:23:23.400Z"
   },
   {
    "duration": 24,
    "start_time": "2024-08-23T20:23:23.447Z"
   },
   {
    "duration": 18,
    "start_time": "2024-08-23T20:23:23.474Z"
   },
   {
    "duration": 43,
    "start_time": "2024-08-23T20:23:23.495Z"
   },
   {
    "duration": 11,
    "start_time": "2024-08-23T20:23:23.541Z"
   },
   {
    "duration": 4,
    "start_time": "2024-08-23T20:23:23.555Z"
   },
   {
    "duration": 11,
    "start_time": "2024-08-23T20:23:23.562Z"
   },
   {
    "duration": 69,
    "start_time": "2024-08-23T20:23:23.585Z"
   },
   {
    "duration": 12,
    "start_time": "2024-08-23T20:23:23.656Z"
   },
   {
    "duration": 98,
    "start_time": "2024-08-23T20:23:23.670Z"
   },
   {
    "duration": 17,
    "start_time": "2024-08-23T20:23:23.771Z"
   },
   {
    "duration": 54,
    "start_time": "2024-08-23T20:23:23.791Z"
   },
   {
    "duration": 20,
    "start_time": "2024-08-23T20:23:23.848Z"
   },
   {
    "duration": 13,
    "start_time": "2024-08-23T20:23:23.870Z"
   },
   {
    "duration": 63,
    "start_time": "2024-08-23T20:23:23.886Z"
   },
   {
    "duration": 13,
    "start_time": "2024-08-23T20:23:23.952Z"
   },
   {
    "duration": 14,
    "start_time": "2024-08-23T20:23:23.968Z"
   },
   {
    "duration": 4,
    "start_time": "2024-08-23T20:23:23.985Z"
   },
   {
    "duration": 48,
    "start_time": "2024-08-23T20:23:23.993Z"
   },
   {
    "duration": 12,
    "start_time": "2024-08-23T20:23:24.044Z"
   },
   {
    "duration": 75,
    "start_time": "2024-08-23T20:23:24.059Z"
   },
   {
    "duration": 22,
    "start_time": "2024-08-23T20:23:24.137Z"
   },
   {
    "duration": 4,
    "start_time": "2024-08-23T20:23:24.163Z"
   },
   {
    "duration": 12,
    "start_time": "2024-08-23T20:23:24.170Z"
   },
   {
    "duration": 57,
    "start_time": "2024-08-23T20:23:24.185Z"
   },
   {
    "duration": 14,
    "start_time": "2024-08-23T20:23:24.245Z"
   },
   {
    "duration": 27,
    "start_time": "2024-08-23T20:23:24.262Z"
   },
   {
    "duration": 41,
    "start_time": "2024-08-23T20:23:24.292Z"
   },
   {
    "duration": 4,
    "start_time": "2024-08-23T20:23:24.336Z"
   },
   {
    "duration": 6,
    "start_time": "2024-08-23T20:23:24.344Z"
   },
   {
    "duration": 13,
    "start_time": "2024-08-23T20:23:24.353Z"
   },
   {
    "duration": 20,
    "start_time": "2024-08-23T20:23:24.369Z"
   },
   {
    "duration": 4,
    "start_time": "2024-08-23T20:23:24.434Z"
   },
   {
    "duration": 7,
    "start_time": "2024-08-23T20:23:24.440Z"
   },
   {
    "duration": 15,
    "start_time": "2024-08-23T20:23:24.449Z"
   },
   {
    "duration": 4,
    "start_time": "2024-08-23T20:23:24.468Z"
   },
   {
    "duration": 7,
    "start_time": "2024-08-23T20:23:24.475Z"
   },
   {
    "duration": 61,
    "start_time": "2024-08-23T20:23:24.485Z"
   },
   {
    "duration": 12,
    "start_time": "2024-08-23T20:23:24.549Z"
   },
   {
    "duration": 21,
    "start_time": "2024-08-23T20:23:24.564Z"
   },
   {
    "duration": 65,
    "start_time": "2024-08-23T20:23:24.588Z"
   },
   {
    "duration": 6,
    "start_time": "2024-08-23T20:23:24.656Z"
   },
   {
    "duration": 16,
    "start_time": "2024-08-23T20:23:24.666Z"
   },
   {
    "duration": 52,
    "start_time": "2024-08-23T20:23:24.687Z"
   },
   {
    "duration": 25,
    "start_time": "2024-08-23T20:23:24.742Z"
   },
   {
    "duration": 5,
    "start_time": "2024-08-23T20:23:24.772Z"
   },
   {
    "duration": 5,
    "start_time": "2024-08-23T20:23:24.781Z"
   },
   {
    "duration": 87,
    "start_time": "2024-08-23T20:23:24.789Z"
   },
   {
    "duration": 3,
    "start_time": "2024-08-23T20:23:24.879Z"
   },
   {
    "duration": 4,
    "start_time": "2024-08-23T20:23:24.886Z"
   },
   {
    "duration": 3,
    "start_time": "2024-08-23T20:23:24.893Z"
   },
   {
    "duration": 4,
    "start_time": "2024-08-23T20:23:24.935Z"
   },
   {
    "duration": 7,
    "start_time": "2024-08-23T20:23:24.943Z"
   },
   {
    "duration": 3,
    "start_time": "2024-08-23T20:23:24.954Z"
   },
   {
    "duration": 4,
    "start_time": "2024-08-23T20:23:24.960Z"
   },
   {
    "duration": 113,
    "start_time": "2024-08-23T20:25:16.014Z"
   },
   {
    "duration": 10,
    "start_time": "2024-08-23T20:25:26.355Z"
   },
   {
    "duration": 25,
    "start_time": "2024-08-23T20:25:30.372Z"
   },
   {
    "duration": 5,
    "start_time": "2024-08-23T20:25:35.067Z"
   },
   {
    "duration": 5,
    "start_time": "2024-08-23T20:25:37.224Z"
   },
   {
    "duration": 44,
    "start_time": "2024-08-23T20:25:39.734Z"
   },
   {
    "duration": 23,
    "start_time": "2024-08-23T20:25:41.252Z"
   },
   {
    "duration": 27,
    "start_time": "2024-08-23T20:26:36.423Z"
   },
   {
    "duration": 5,
    "start_time": "2024-08-23T20:26:37.859Z"
   },
   {
    "duration": 46,
    "start_time": "2024-08-23T20:26:46.482Z"
   },
   {
    "duration": 22,
    "start_time": "2024-08-23T20:26:49.435Z"
   },
   {
    "duration": 26,
    "start_time": "2024-08-23T20:26:51.619Z"
   },
   {
    "duration": 13,
    "start_time": "2024-08-23T20:26:58.466Z"
   },
   {
    "duration": 24,
    "start_time": "2024-08-23T20:27:01.123Z"
   },
   {
    "duration": 22,
    "start_time": "2024-08-23T20:27:17.018Z"
   },
   {
    "duration": 839,
    "start_time": "2024-08-23T20:27:22.020Z"
   },
   {
    "duration": 24,
    "start_time": "2024-08-23T20:27:57.260Z"
   },
   {
    "duration": 44,
    "start_time": "2024-08-23T20:29:12.446Z"
   },
   {
    "duration": 27,
    "start_time": "2024-08-23T20:29:14.226Z"
   },
   {
    "duration": 30,
    "start_time": "2024-08-23T20:30:27.061Z"
   },
   {
    "duration": 12,
    "start_time": "2024-08-23T20:33:08.110Z"
   },
   {
    "duration": 10,
    "start_time": "2024-08-23T20:33:34.591Z"
   },
   {
    "duration": 9,
    "start_time": "2024-08-23T20:34:39.414Z"
   },
   {
    "duration": 7,
    "start_time": "2024-08-23T20:35:16.880Z"
   },
   {
    "duration": 3,
    "start_time": "2024-08-23T20:35:25.296Z"
   },
   {
    "duration": 3,
    "start_time": "2024-08-23T20:35:31.223Z"
   },
   {
    "duration": 5,
    "start_time": "2024-08-23T20:42:03.572Z"
   },
   {
    "duration": 168,
    "start_time": "2024-08-23T20:43:10.548Z"
   },
   {
    "duration": 71,
    "start_time": "2024-08-23T20:43:26.397Z"
   },
   {
    "duration": 5,
    "start_time": "2024-08-23T20:43:43.460Z"
   },
   {
    "duration": 5,
    "start_time": "2024-08-23T20:43:46.225Z"
   },
   {
    "duration": 46,
    "start_time": "2024-08-23T20:43:49.070Z"
   },
   {
    "duration": 28,
    "start_time": "2024-08-23T20:43:50.939Z"
   },
   {
    "duration": 9,
    "start_time": "2024-08-23T20:43:58.866Z"
   },
   {
    "duration": 7,
    "start_time": "2024-08-23T20:44:04.520Z"
   },
   {
    "duration": 97,
    "start_time": "2024-08-23T20:44:08.471Z"
   },
   {
    "duration": 5,
    "start_time": "2024-08-23T20:45:22.996Z"
   },
   {
    "duration": 76,
    "start_time": "2024-08-23T20:45:26.619Z"
   },
   {
    "duration": 74,
    "start_time": "2024-08-23T20:45:31.792Z"
   },
   {
    "duration": 5,
    "start_time": "2024-08-23T20:46:31.074Z"
   },
   {
    "duration": 45,
    "start_time": "2024-08-23T20:46:34.456Z"
   },
   {
    "duration": 28,
    "start_time": "2024-08-23T20:46:42.338Z"
   },
   {
    "duration": 9,
    "start_time": "2024-08-23T20:48:13.889Z"
   },
   {
    "duration": 3,
    "start_time": "2024-08-23T20:48:45.191Z"
   },
   {
    "duration": 5,
    "start_time": "2024-08-23T20:57:38.693Z"
   },
   {
    "duration": 5,
    "start_time": "2024-08-23T20:57:42.783Z"
   },
   {
    "duration": 5,
    "start_time": "2024-08-23T20:59:13.584Z"
   },
   {
    "duration": 76,
    "start_time": "2024-08-23T20:59:15.701Z"
   },
   {
    "duration": 5,
    "start_time": "2024-08-23T20:59:54.160Z"
   },
   {
    "duration": 78,
    "start_time": "2024-08-23T20:59:56.737Z"
   },
   {
    "duration": 89,
    "start_time": "2024-08-23T21:00:21.992Z"
   },
   {
    "duration": 6,
    "start_time": "2024-08-23T21:00:24.311Z"
   },
   {
    "duration": 90,
    "start_time": "2024-08-23T21:00:27.098Z"
   },
   {
    "duration": 5,
    "start_time": "2024-08-23T21:01:00.690Z"
   },
   {
    "duration": 80,
    "start_time": "2024-08-23T21:01:02.857Z"
   },
   {
    "duration": 76,
    "start_time": "2024-08-23T21:01:28.632Z"
   },
   {
    "duration": 5,
    "start_time": "2024-08-23T21:01:42.888Z"
   },
   {
    "duration": 81,
    "start_time": "2024-08-23T21:01:45.344Z"
   },
   {
    "duration": 72,
    "start_time": "2024-08-23T21:04:56.217Z"
   },
   {
    "duration": 5,
    "start_time": "2024-08-23T21:05:53.377Z"
   },
   {
    "duration": 74,
    "start_time": "2024-08-23T21:05:55.856Z"
   },
   {
    "duration": 10,
    "start_time": "2024-08-23T21:07:00.292Z"
   },
   {
    "duration": 24,
    "start_time": "2024-08-23T21:07:03.572Z"
   },
   {
    "duration": 4,
    "start_time": "2024-08-23T21:07:11.996Z"
   },
   {
    "duration": 5,
    "start_time": "2024-08-23T21:07:14.396Z"
   },
   {
    "duration": 45,
    "start_time": "2024-08-23T21:07:20.391Z"
   },
   {
    "duration": 27,
    "start_time": "2024-08-23T21:07:22.788Z"
   },
   {
    "duration": 11,
    "start_time": "2024-08-23T21:07:32.753Z"
   },
   {
    "duration": 5,
    "start_time": "2024-08-23T21:07:37.268Z"
   },
   {
    "duration": 26,
    "start_time": "2024-08-23T21:07:39.597Z"
   },
   {
    "duration": 789,
    "start_time": "2024-08-23T21:07:47.629Z"
   },
   {
    "duration": 26,
    "start_time": "2024-08-23T21:07:57.469Z"
   },
   {
    "duration": 244,
    "start_time": "2024-08-23T21:08:00.248Z"
   },
   {
    "duration": 254,
    "start_time": "2024-08-23T21:08:17.738Z"
   },
   {
    "duration": 27,
    "start_time": "2024-08-23T21:08:20.927Z"
   },
   {
    "duration": 44,
    "start_time": "2024-08-23T21:08:23.081Z"
   },
   {
    "duration": 28,
    "start_time": "2024-08-23T21:08:25.023Z"
   },
   {
    "duration": 9,
    "start_time": "2024-08-23T21:08:27.808Z"
   },
   {
    "duration": 5,
    "start_time": "2024-08-23T21:08:30.904Z"
   },
   {
    "duration": 74,
    "start_time": "2024-08-23T21:08:34.119Z"
   },
   {
    "duration": 5,
    "start_time": "2024-08-23T21:09:03.968Z"
   },
   {
    "duration": 5,
    "start_time": "2024-08-23T21:11:46.748Z"
   },
   {
    "duration": 4,
    "start_time": "2024-08-23T21:12:06.297Z"
   },
   {
    "duration": 76,
    "start_time": "2024-08-23T21:12:48.481Z"
   },
   {
    "duration": 27,
    "start_time": "2024-08-23T21:13:06.348Z"
   },
   {
    "duration": 6,
    "start_time": "2024-08-23T21:14:56.305Z"
   },
   {
    "duration": 5,
    "start_time": "2024-08-23T21:15:01.843Z"
   },
   {
    "duration": 5,
    "start_time": "2024-08-23T21:15:18.321Z"
   },
   {
    "duration": 75,
    "start_time": "2024-08-23T21:15:22.561Z"
   },
   {
    "duration": 73,
    "start_time": "2024-08-23T21:15:37.537Z"
   },
   {
    "duration": 5,
    "start_time": "2024-08-23T21:22:06.827Z"
   },
   {
    "duration": 79,
    "start_time": "2024-08-23T21:22:11.397Z"
   },
   {
    "duration": 5,
    "start_time": "2024-08-23T21:23:31.910Z"
   },
   {
    "duration": 74,
    "start_time": "2024-08-23T21:23:44.419Z"
   },
   {
    "duration": 77,
    "start_time": "2024-08-23T21:24:02.087Z"
   },
   {
    "duration": 72,
    "start_time": "2024-08-23T21:24:15.110Z"
   },
   {
    "duration": 74,
    "start_time": "2024-08-23T21:25:35.662Z"
   },
   {
    "duration": 74,
    "start_time": "2024-08-23T21:27:47.540Z"
   },
   {
    "duration": 5,
    "start_time": "2024-08-23T21:29:21.751Z"
   },
   {
    "duration": 77,
    "start_time": "2024-08-23T21:29:24.092Z"
   },
   {
    "duration": 74,
    "start_time": "2024-08-23T21:29:49.044Z"
   },
   {
    "duration": 5,
    "start_time": "2024-08-23T21:30:13.665Z"
   },
   {
    "duration": 75,
    "start_time": "2024-08-23T21:30:15.824Z"
   },
   {
    "duration": 6,
    "start_time": "2024-08-23T21:30:45.704Z"
   },
   {
    "duration": 44,
    "start_time": "2024-08-23T21:30:47.444Z"
   },
   {
    "duration": 29,
    "start_time": "2024-08-23T21:30:54.540Z"
   },
   {
    "duration": 11,
    "start_time": "2024-08-23T21:36:31.498Z"
   },
   {
    "duration": 3,
    "start_time": "2024-08-23T21:38:04.147Z"
   },
   {
    "duration": 5,
    "start_time": "2024-08-23T21:58:45.491Z"
   },
   {
    "duration": 5,
    "start_time": "2024-08-23T21:59:53.057Z"
   },
   {
    "duration": 78,
    "start_time": "2024-08-23T21:59:54.836Z"
   },
   {
    "duration": 5,
    "start_time": "2024-08-23T22:00:18.509Z"
   },
   {
    "duration": 6,
    "start_time": "2024-08-23T22:00:45.685Z"
   },
   {
    "duration": 6,
    "start_time": "2024-08-23T22:01:26.201Z"
   },
   {
    "duration": 78,
    "start_time": "2024-08-23T22:01:28.101Z"
   },
   {
    "duration": 5,
    "start_time": "2024-08-23T22:02:06.638Z"
   },
   {
    "duration": 76,
    "start_time": "2024-08-23T22:02:09.318Z"
   },
   {
    "duration": 6,
    "start_time": "2024-08-23T22:04:13.853Z"
   },
   {
    "duration": 77,
    "start_time": "2024-08-23T22:04:17.617Z"
   },
   {
    "duration": 6,
    "start_time": "2024-08-23T22:05:00.518Z"
   },
   {
    "duration": 5,
    "start_time": "2024-08-23T22:05:02.782Z"
   },
   {
    "duration": 83,
    "start_time": "2024-08-23T22:05:05.044Z"
   },
   {
    "duration": 5,
    "start_time": "2024-08-23T22:05:22.107Z"
   },
   {
    "duration": 74,
    "start_time": "2024-08-23T22:05:24.519Z"
   },
   {
    "duration": 6,
    "start_time": "2024-08-23T22:06:44.626Z"
   },
   {
    "duration": 69,
    "start_time": "2024-08-23T22:06:47.733Z"
   },
   {
    "duration": 32,
    "start_time": "2024-08-23T22:06:58.461Z"
   },
   {
    "duration": 4,
    "start_time": "2024-08-23T22:11:03.708Z"
   },
   {
    "duration": 4,
    "start_time": "2024-08-23T22:11:25.390Z"
   },
   {
    "duration": 222,
    "start_time": "2024-08-23T22:20:55.701Z"
   },
   {
    "duration": 4,
    "start_time": "2024-08-23T22:22:02.167Z"
   },
   {
    "duration": 3,
    "start_time": "2024-08-23T22:22:04.369Z"
   },
   {
    "duration": 207,
    "start_time": "2024-08-23T22:22:06.633Z"
   },
   {
    "duration": 3828,
    "start_time": "2024-08-23T22:22:25.117Z"
   },
   {
    "duration": 4,
    "start_time": "2024-08-23T22:23:00.294Z"
   },
   {
    "duration": 4,
    "start_time": "2024-08-23T22:23:02.334Z"
   },
   {
    "duration": 5584,
    "start_time": "2024-08-23T22:23:03.794Z"
   },
   {
    "duration": 5590,
    "start_time": "2024-08-23T22:41:38.855Z"
   },
   {
    "duration": 4,
    "start_time": "2024-08-23T22:42:17.283Z"
   },
   {
    "duration": 3,
    "start_time": "2024-08-23T22:42:20.891Z"
   },
   {
    "duration": 5644,
    "start_time": "2024-08-23T22:42:22.963Z"
   },
   {
    "duration": 5586,
    "start_time": "2024-08-23T22:42:38.987Z"
   },
   {
    "duration": 5569,
    "start_time": "2024-08-23T22:45:05.094Z"
   },
   {
    "duration": 32,
    "start_time": "2024-08-23T22:45:10.667Z"
   },
   {
    "duration": 4,
    "start_time": "2024-08-23T22:45:14.423Z"
   },
   {
    "duration": 3,
    "start_time": "2024-08-23T22:45:16.435Z"
   },
   {
    "duration": 5993,
    "start_time": "2024-08-23T22:45:17.959Z"
   },
   {
    "duration": 31,
    "start_time": "2024-08-23T22:46:25.998Z"
   },
   {
    "duration": 30,
    "start_time": "2024-08-23T22:46:38.635Z"
   },
   {
    "duration": 7,
    "start_time": "2024-08-23T22:46:47.495Z"
   },
   {
    "duration": 6,
    "start_time": "2024-08-23T22:47:01.755Z"
   },
   {
    "duration": 65,
    "start_time": "2024-08-23T22:47:04.219Z"
   },
   {
    "duration": 31,
    "start_time": "2024-08-23T22:47:07.418Z"
   },
   {
    "duration": 3,
    "start_time": "2024-08-23T22:47:14.699Z"
   },
   {
    "duration": 3,
    "start_time": "2024-08-23T22:47:16.629Z"
   },
   {
    "duration": 5761,
    "start_time": "2024-08-23T22:47:18.652Z"
   },
   {
    "duration": 31,
    "start_time": "2024-08-23T22:50:04.529Z"
   },
   {
    "duration": 4,
    "start_time": "2024-08-23T22:50:09.656Z"
   },
   {
    "duration": 3,
    "start_time": "2024-08-23T22:50:11.780Z"
   },
   {
    "duration": 5571,
    "start_time": "2024-08-23T22:50:13.385Z"
   },
   {
    "duration": 4,
    "start_time": "2024-08-23T22:51:44.216Z"
   },
   {
    "duration": 4,
    "start_time": "2024-08-23T22:51:45.998Z"
   },
   {
    "duration": 1415,
    "start_time": "2024-08-23T22:51:47.633Z"
   },
   {
    "duration": 1385,
    "start_time": "2024-08-23T22:53:09.903Z"
   },
   {
    "duration": 1531,
    "start_time": "2024-08-23T22:55:37.899Z"
   },
   {
    "duration": 29,
    "start_time": "2024-08-23T22:56:14.285Z"
   },
   {
    "duration": 29,
    "start_time": "2024-08-23T22:56:33.185Z"
   },
   {
    "duration": 1403,
    "start_time": "2024-08-23T22:57:47.009Z"
   },
   {
    "duration": 4,
    "start_time": "2024-08-23T22:57:55.062Z"
   },
   {
    "duration": 1414,
    "start_time": "2024-08-23T22:57:56.589Z"
   },
   {
    "duration": 1540,
    "start_time": "2024-08-23T23:02:05.410Z"
   },
   {
    "duration": 966,
    "start_time": "2024-08-23T23:03:34.986Z"
   },
   {
    "duration": 1387,
    "start_time": "2024-08-23T23:03:44.814Z"
   },
   {
    "duration": 133,
    "start_time": "2024-08-23T23:05:24.519Z"
   },
   {
    "duration": 147,
    "start_time": "2024-08-23T23:06:26.982Z"
   },
   {
    "duration": 143,
    "start_time": "2024-08-23T23:07:00.457Z"
   },
   {
    "duration": 1450,
    "start_time": "2024-08-23T23:09:55.608Z"
   },
   {
    "duration": 1182,
    "start_time": "2024-08-23T23:15:55.471Z"
   },
   {
    "duration": 1201,
    "start_time": "2024-08-23T23:19:45.097Z"
   },
   {
    "duration": 8,
    "start_time": "2024-08-23T23:22:42.847Z"
   },
   {
    "duration": 1773,
    "start_time": "2024-08-23T23:23:01.656Z"
   },
   {
    "duration": 1651,
    "start_time": "2024-08-23T23:23:38.528Z"
   },
   {
    "duration": 4402,
    "start_time": "2024-08-24T01:47:39.535Z"
   },
   {
    "duration": 835,
    "start_time": "2024-08-24T01:47:50.565Z"
   },
   {
    "duration": 360,
    "start_time": "2024-08-24T01:47:51.404Z"
   },
   {
    "duration": 18,
    "start_time": "2024-08-24T01:47:51.767Z"
   },
   {
    "duration": 17,
    "start_time": "2024-08-24T01:47:51.788Z"
   },
   {
    "duration": 3,
    "start_time": "2024-08-24T01:47:51.809Z"
   },
   {
    "duration": 28,
    "start_time": "2024-08-24T01:47:51.814Z"
   },
   {
    "duration": 9,
    "start_time": "2024-08-24T01:47:51.846Z"
   },
   {
    "duration": 16,
    "start_time": "2024-08-24T01:47:51.858Z"
   },
   {
    "duration": 60,
    "start_time": "2024-08-24T01:47:51.876Z"
   },
   {
    "duration": 10,
    "start_time": "2024-08-24T01:47:51.939Z"
   },
   {
    "duration": 10,
    "start_time": "2024-08-24T01:47:51.951Z"
   },
   {
    "duration": 16,
    "start_time": "2024-08-24T01:47:51.964Z"
   },
   {
    "duration": 52,
    "start_time": "2024-08-24T01:47:51.984Z"
   },
   {
    "duration": 8,
    "start_time": "2024-08-24T01:47:52.043Z"
   },
   {
    "duration": 16,
    "start_time": "2024-08-24T01:47:52.054Z"
   },
   {
    "duration": 14,
    "start_time": "2024-08-24T01:47:52.074Z"
   },
   {
    "duration": 65,
    "start_time": "2024-08-24T01:47:52.092Z"
   },
   {
    "duration": 12,
    "start_time": "2024-08-24T01:47:52.159Z"
   },
   {
    "duration": 84,
    "start_time": "2024-08-24T01:47:52.174Z"
   },
   {
    "duration": 21,
    "start_time": "2024-08-24T01:47:52.262Z"
   },
   {
    "duration": 12,
    "start_time": "2024-08-24T01:47:52.286Z"
   },
   {
    "duration": 64,
    "start_time": "2024-08-24T01:47:52.301Z"
   },
   {
    "duration": 26,
    "start_time": "2024-08-24T01:47:52.368Z"
   },
   {
    "duration": 66,
    "start_time": "2024-08-24T01:47:52.397Z"
   },
   {
    "duration": 12,
    "start_time": "2024-08-24T01:47:52.466Z"
   },
   {
    "duration": 58,
    "start_time": "2024-08-24T01:47:52.481Z"
   },
   {
    "duration": 12,
    "start_time": "2024-08-24T01:47:52.542Z"
   },
   {
    "duration": 4,
    "start_time": "2024-08-24T01:47:52.557Z"
   },
   {
    "duration": 109,
    "start_time": "2024-08-24T01:47:52.565Z"
   },
   {
    "duration": 13,
    "start_time": "2024-08-24T01:47:52.677Z"
   },
   {
    "duration": 20,
    "start_time": "2024-08-24T01:47:52.692Z"
   },
   {
    "duration": 11,
    "start_time": "2024-08-24T01:47:52.736Z"
   },
   {
    "duration": 31,
    "start_time": "2024-08-24T01:47:52.750Z"
   },
   {
    "duration": 50,
    "start_time": "2024-08-24T01:47:52.784Z"
   },
   {
    "duration": 24,
    "start_time": "2024-08-24T01:47:52.836Z"
   },
   {
    "duration": 18,
    "start_time": "2024-08-24T01:47:52.862Z"
   },
   {
    "duration": 10,
    "start_time": "2024-08-24T01:47:52.883Z"
   },
   {
    "duration": 46,
    "start_time": "2024-08-24T01:47:52.896Z"
   },
   {
    "duration": 4,
    "start_time": "2024-08-24T01:47:52.944Z"
   },
   {
    "duration": 14,
    "start_time": "2024-08-24T01:47:52.951Z"
   },
   {
    "duration": 62,
    "start_time": "2024-08-24T01:47:52.977Z"
   },
   {
    "duration": 12,
    "start_time": "2024-08-24T01:47:53.043Z"
   },
   {
    "duration": 84,
    "start_time": "2024-08-24T01:47:53.058Z"
   },
   {
    "duration": 18,
    "start_time": "2024-08-24T01:47:53.145Z"
   },
   {
    "duration": 32,
    "start_time": "2024-08-24T01:47:53.166Z"
   },
   {
    "duration": 50,
    "start_time": "2024-08-24T01:47:53.200Z"
   },
   {
    "duration": 14,
    "start_time": "2024-08-24T01:47:53.253Z"
   },
   {
    "duration": 66,
    "start_time": "2024-08-24T01:47:53.270Z"
   },
   {
    "duration": 13,
    "start_time": "2024-08-24T01:47:53.339Z"
   },
   {
    "duration": 11,
    "start_time": "2024-08-24T01:47:53.356Z"
   },
   {
    "duration": 3,
    "start_time": "2024-08-24T01:47:53.370Z"
   },
   {
    "duration": 13,
    "start_time": "2024-08-24T01:47:53.376Z"
   },
   {
    "duration": 54,
    "start_time": "2024-08-24T01:47:53.391Z"
   },
   {
    "duration": 48,
    "start_time": "2024-08-24T01:47:53.449Z"
   },
   {
    "duration": 49,
    "start_time": "2024-08-24T01:47:53.500Z"
   },
   {
    "duration": 5,
    "start_time": "2024-08-24T01:47:53.552Z"
   },
   {
    "duration": 10,
    "start_time": "2024-08-24T01:47:53.560Z"
   },
   {
    "duration": 17,
    "start_time": "2024-08-24T01:47:53.573Z"
   },
   {
    "duration": 55,
    "start_time": "2024-08-24T01:47:53.592Z"
   },
   {
    "duration": 23,
    "start_time": "2024-08-24T01:47:53.650Z"
   },
   {
    "duration": 10,
    "start_time": "2024-08-24T01:47:53.675Z"
   },
   {
    "duration": 7,
    "start_time": "2024-08-24T01:47:53.689Z"
   },
   {
    "duration": 6,
    "start_time": "2024-08-24T01:47:53.736Z"
   },
   {
    "duration": 15,
    "start_time": "2024-08-24T01:47:53.745Z"
   },
   {
    "duration": 20,
    "start_time": "2024-08-24T01:47:53.764Z"
   },
   {
    "duration": 4,
    "start_time": "2024-08-24T01:47:53.786Z"
   },
   {
    "duration": 44,
    "start_time": "2024-08-24T01:47:53.795Z"
   },
   {
    "duration": 16,
    "start_time": "2024-08-24T01:47:53.841Z"
   },
   {
    "duration": 4,
    "start_time": "2024-08-24T01:47:53.860Z"
   },
   {
    "duration": 6,
    "start_time": "2024-08-24T01:47:53.868Z"
   },
   {
    "duration": 63,
    "start_time": "2024-08-24T01:47:53.878Z"
   },
   {
    "duration": 11,
    "start_time": "2024-08-24T01:47:53.944Z"
   },
   {
    "duration": 18,
    "start_time": "2024-08-24T01:47:53.958Z"
   },
   {
    "duration": 66,
    "start_time": "2024-08-24T01:47:53.980Z"
   },
   {
    "duration": 11,
    "start_time": "2024-08-24T01:47:54.052Z"
   },
   {
    "duration": 16,
    "start_time": "2024-08-24T01:47:54.069Z"
   },
   {
    "duration": 15,
    "start_time": "2024-08-24T01:47:54.091Z"
   },
   {
    "duration": 49,
    "start_time": "2024-08-24T01:47:54.109Z"
   },
   {
    "duration": 5,
    "start_time": "2024-08-24T01:47:54.161Z"
   },
   {
    "duration": 6,
    "start_time": "2024-08-24T01:47:54.169Z"
   },
   {
    "duration": 78,
    "start_time": "2024-08-24T01:47:54.178Z"
   },
   {
    "duration": 27,
    "start_time": "2024-08-24T01:47:54.259Z"
   },
   {
    "duration": 53,
    "start_time": "2024-08-24T01:47:54.289Z"
   },
   {
    "duration": 10,
    "start_time": "2024-08-24T01:47:54.345Z"
   },
   {
    "duration": 4,
    "start_time": "2024-08-24T01:47:54.358Z"
   },
   {
    "duration": 4,
    "start_time": "2024-08-24T01:47:54.365Z"
   },
   {
    "duration": 4,
    "start_time": "2024-08-24T01:47:54.372Z"
   },
   {
    "duration": 4,
    "start_time": "2024-08-24T01:47:54.380Z"
   },
   {
    "duration": 45,
    "start_time": "2024-08-24T01:47:54.435Z"
   },
   {
    "duration": 29,
    "start_time": "2024-08-24T01:47:54.482Z"
   },
   {
    "duration": 9,
    "start_time": "2024-08-24T01:47:54.535Z"
   },
   {
    "duration": 4,
    "start_time": "2024-08-24T01:47:54.547Z"
   },
   {
    "duration": 5,
    "start_time": "2024-08-24T01:47:54.554Z"
   },
   {
    "duration": 82,
    "start_time": "2024-08-24T01:47:54.562Z"
   },
   {
    "duration": 31,
    "start_time": "2024-08-24T01:47:54.646Z"
   },
   {
    "duration": 10,
    "start_time": "2024-08-24T01:47:54.680Z"
   },
   {
    "duration": 3,
    "start_time": "2024-08-24T01:47:54.694Z"
   },
   {
    "duration": 6,
    "start_time": "2024-08-24T01:47:54.733Z"
   },
   {
    "duration": 68,
    "start_time": "2024-08-24T01:47:54.741Z"
   },
   {
    "duration": 58,
    "start_time": "2024-08-24T01:47:54.812Z"
   },
   {
    "duration": 5,
    "start_time": "2024-08-24T01:47:54.873Z"
   },
   {
    "duration": 10,
    "start_time": "2024-08-24T01:47:54.881Z"
   },
   {
    "duration": 1799,
    "start_time": "2024-08-24T01:47:54.895Z"
   },
   {
    "duration": 4,
    "start_time": "2024-08-24T01:47:56.697Z"
   },
   {
    "duration": 3,
    "start_time": "2024-08-24T01:47:56.704Z"
   },
   {
    "duration": 24,
    "start_time": "2024-08-24T01:47:56.710Z"
   },
   {
    "duration": 6,
    "start_time": "2024-08-24T01:52:23.061Z"
   },
   {
    "duration": 9,
    "start_time": "2024-08-24T01:54:00.355Z"
   },
   {
    "duration": 10,
    "start_time": "2024-08-24T01:54:56.540Z"
   },
   {
    "duration": 389,
    "start_time": "2024-08-24T10:22:27.785Z"
   },
   {
    "duration": 27,
    "start_time": "2024-08-24T10:23:34.408Z"
   },
   {
    "duration": 20,
    "start_time": "2024-08-24T10:23:48.831Z"
   },
   {
    "duration": 4916,
    "start_time": "2024-08-24T10:24:04.936Z"
   },
   {
    "duration": 4,
    "start_time": "2024-08-24T10:24:39.054Z"
   },
   {
    "duration": 370,
    "start_time": "2024-08-24T10:24:40.701Z"
   },
   {
    "duration": 16,
    "start_time": "2024-08-24T10:24:43.199Z"
   },
   {
    "duration": 18,
    "start_time": "2024-08-24T10:24:45.693Z"
   },
   {
    "duration": 4,
    "start_time": "2024-08-24T10:24:49.297Z"
   },
   {
    "duration": 11,
    "start_time": "2024-08-24T10:24:51.357Z"
   },
   {
    "duration": 11,
    "start_time": "2024-08-24T10:24:53.273Z"
   },
   {
    "duration": 17,
    "start_time": "2024-08-24T10:25:18.099Z"
   },
   {
    "duration": 16,
    "start_time": "2024-08-24T10:25:18.120Z"
   },
   {
    "duration": 32,
    "start_time": "2024-08-24T10:25:18.139Z"
   },
   {
    "duration": 10,
    "start_time": "2024-08-24T10:25:18.177Z"
   },
   {
    "duration": 16,
    "start_time": "2024-08-24T10:25:18.190Z"
   },
   {
    "duration": 13,
    "start_time": "2024-08-24T10:25:18.209Z"
   },
   {
    "duration": 8,
    "start_time": "2024-08-24T10:25:18.270Z"
   },
   {
    "duration": 17,
    "start_time": "2024-08-24T10:25:18.284Z"
   },
   {
    "duration": 63,
    "start_time": "2024-08-24T10:25:18.304Z"
   },
   {
    "duration": 27,
    "start_time": "2024-08-24T10:25:18.373Z"
   },
   {
    "duration": 13,
    "start_time": "2024-08-24T10:25:18.403Z"
   },
   {
    "duration": 93,
    "start_time": "2024-08-24T10:25:18.419Z"
   },
   {
    "duration": 19,
    "start_time": "2024-08-24T10:25:18.515Z"
   },
   {
    "duration": 33,
    "start_time": "2024-08-24T10:25:18.537Z"
   },
   {
    "duration": 41,
    "start_time": "2024-08-24T10:25:18.573Z"
   },
   {
    "duration": 57,
    "start_time": "2024-08-24T10:25:18.617Z"
   },
   {
    "duration": 45,
    "start_time": "2024-08-24T10:25:18.677Z"
   },
   {
    "duration": 12,
    "start_time": "2024-08-24T10:25:18.726Z"
   },
   {
    "duration": 55,
    "start_time": "2024-08-24T10:25:18.741Z"
   },
   {
    "duration": 13,
    "start_time": "2024-08-24T10:25:18.800Z"
   },
   {
    "duration": 4,
    "start_time": "2024-08-24T10:25:18.816Z"
   },
   {
    "duration": 113,
    "start_time": "2024-08-24T10:25:18.824Z"
   },
   {
    "duration": 28,
    "start_time": "2024-08-24T10:25:18.940Z"
   },
   {
    "duration": 21,
    "start_time": "2024-08-24T10:25:18.972Z"
   },
   {
    "duration": 11,
    "start_time": "2024-08-24T10:25:18.996Z"
   },
   {
    "duration": 63,
    "start_time": "2024-08-24T10:25:19.010Z"
   },
   {
    "duration": 16,
    "start_time": "2024-08-24T10:25:19.077Z"
   },
   {
    "duration": 24,
    "start_time": "2024-08-24T10:25:19.103Z"
   },
   {
    "duration": 50,
    "start_time": "2024-08-24T10:25:19.129Z"
   },
   {
    "duration": 12,
    "start_time": "2024-08-24T10:25:19.183Z"
   },
   {
    "duration": 12,
    "start_time": "2024-08-24T10:25:19.198Z"
   },
   {
    "duration": 4,
    "start_time": "2024-08-24T10:25:19.213Z"
   },
   {
    "duration": 58,
    "start_time": "2024-08-24T10:25:19.220Z"
   },
   {
    "duration": 26,
    "start_time": "2024-08-24T10:25:19.284Z"
   },
   {
    "duration": 10,
    "start_time": "2024-08-24T10:25:19.314Z"
   },
   {
    "duration": 105,
    "start_time": "2024-08-24T10:25:19.328Z"
   },
   {
    "duration": 34,
    "start_time": "2024-08-24T10:25:19.436Z"
   },
   {
    "duration": 31,
    "start_time": "2024-08-24T10:25:19.473Z"
   },
   {
    "duration": 19,
    "start_time": "2024-08-24T10:25:19.507Z"
   },
   {
    "duration": 44,
    "start_time": "2024-08-24T10:25:19.529Z"
   },
   {
    "duration": 34,
    "start_time": "2024-08-24T10:25:19.577Z"
   },
   {
    "duration": 13,
    "start_time": "2024-08-24T10:25:19.614Z"
   },
   {
    "duration": 42,
    "start_time": "2024-08-24T10:25:19.630Z"
   },
   {
    "duration": 3,
    "start_time": "2024-08-24T10:25:19.676Z"
   },
   {
    "duration": 13,
    "start_time": "2024-08-24T10:25:19.682Z"
   },
   {
    "duration": 12,
    "start_time": "2024-08-24T10:25:19.699Z"
   },
   {
    "duration": 95,
    "start_time": "2024-08-24T10:25:19.714Z"
   },
   {
    "duration": 20,
    "start_time": "2024-08-24T10:25:19.813Z"
   },
   {
    "duration": 4,
    "start_time": "2024-08-24T10:25:19.836Z"
   },
   {
    "duration": 10,
    "start_time": "2024-08-24T10:25:19.868Z"
   },
   {
    "duration": 15,
    "start_time": "2024-08-24T10:25:19.883Z"
   },
   {
    "duration": 14,
    "start_time": "2024-08-24T10:25:19.901Z"
   },
   {
    "duration": 66,
    "start_time": "2024-08-24T10:25:19.918Z"
   },
   {
    "duration": 10,
    "start_time": "2024-08-24T10:25:19.987Z"
   },
   {
    "duration": 4,
    "start_time": "2024-08-24T10:25:20.000Z"
   },
   {
    "duration": 7,
    "start_time": "2024-08-24T10:25:20.007Z"
   },
   {
    "duration": 54,
    "start_time": "2024-08-24T10:25:20.016Z"
   },
   {
    "duration": 19,
    "start_time": "2024-08-24T10:25:20.073Z"
   },
   {
    "duration": 4,
    "start_time": "2024-08-24T10:25:20.095Z"
   },
   {
    "duration": 7,
    "start_time": "2024-08-24T10:25:20.104Z"
   },
   {
    "duration": 54,
    "start_time": "2024-08-24T10:25:20.114Z"
   },
   {
    "duration": 4,
    "start_time": "2024-08-24T10:25:20.171Z"
   },
   {
    "duration": 6,
    "start_time": "2024-08-24T10:25:20.179Z"
   },
   {
    "duration": 18,
    "start_time": "2024-08-24T10:25:20.189Z"
   },
   {
    "duration": 13,
    "start_time": "2024-08-24T10:25:20.209Z"
   },
   {
    "duration": 19,
    "start_time": "2024-08-24T10:25:20.267Z"
   },
   {
    "duration": 28,
    "start_time": "2024-08-24T10:25:20.289Z"
   },
   {
    "duration": 7,
    "start_time": "2024-08-24T10:25:20.320Z"
   },
   {
    "duration": 49,
    "start_time": "2024-08-24T10:25:20.330Z"
   },
   {
    "duration": 11,
    "start_time": "2024-08-24T10:25:20.382Z"
   },
   {
    "duration": 26,
    "start_time": "2024-08-24T10:25:20.396Z"
   },
   {
    "duration": 43,
    "start_time": "2024-08-24T10:25:20.425Z"
   },
   {
    "duration": 5,
    "start_time": "2024-08-24T10:25:20.471Z"
   },
   {
    "duration": 45,
    "start_time": "2024-08-24T10:25:20.480Z"
   },
   {
    "duration": 60,
    "start_time": "2024-08-24T10:25:20.528Z"
   },
   {
    "duration": 28,
    "start_time": "2024-08-24T10:25:20.591Z"
   },
   {
    "duration": 10,
    "start_time": "2024-08-24T10:25:20.623Z"
   },
   {
    "duration": 4,
    "start_time": "2024-08-24T10:25:20.667Z"
   },
   {
    "duration": 4,
    "start_time": "2024-08-24T10:25:20.674Z"
   },
   {
    "duration": 6,
    "start_time": "2024-08-24T10:25:20.682Z"
   },
   {
    "duration": 7,
    "start_time": "2024-08-24T10:25:20.691Z"
   },
   {
    "duration": 80,
    "start_time": "2024-08-24T10:25:20.711Z"
   },
   {
    "duration": 29,
    "start_time": "2024-08-24T10:25:20.794Z"
   },
   {
    "duration": 10,
    "start_time": "2024-08-24T10:25:20.826Z"
   },
   {
    "duration": 3,
    "start_time": "2024-08-24T10:25:20.868Z"
   },
   {
    "duration": 6,
    "start_time": "2024-08-24T10:25:20.875Z"
   },
   {
    "duration": 45,
    "start_time": "2024-08-24T10:25:20.884Z"
   },
   {
    "duration": 61,
    "start_time": "2024-08-24T10:25:20.932Z"
   },
   {
    "duration": 12,
    "start_time": "2024-08-24T10:25:20.996Z"
   },
   {
    "duration": 3,
    "start_time": "2024-08-24T10:25:21.011Z"
   },
   {
    "duration": 8,
    "start_time": "2024-08-24T10:25:21.017Z"
   },
   {
    "duration": 100,
    "start_time": "2024-08-24T10:25:21.028Z"
   },
   {
    "duration": 51,
    "start_time": "2024-08-24T10:25:21.131Z"
   },
   {
    "duration": 4,
    "start_time": "2024-08-24T10:25:21.185Z"
   },
   {
    "duration": 6,
    "start_time": "2024-08-24T10:25:21.193Z"
   },
   {
    "duration": 1800,
    "start_time": "2024-08-24T10:25:21.202Z"
   },
   {
    "duration": 9,
    "start_time": "2024-08-24T10:25:23.005Z"
   },
   {
    "duration": 9,
    "start_time": "2024-08-24T10:25:23.017Z"
   },
   {
    "duration": 3,
    "start_time": "2024-08-24T10:25:23.029Z"
   },
   {
    "duration": 3,
    "start_time": "2024-08-24T10:25:23.069Z"
   },
   {
    "duration": 10,
    "start_time": "2024-08-24T10:25:29.963Z"
   },
   {
    "duration": 7,
    "start_time": "2024-08-24T10:25:32.092Z"
   },
   {
    "duration": 8,
    "start_time": "2024-08-24T10:25:44.083Z"
   },
   {
    "duration": 7,
    "start_time": "2024-08-24T10:26:31.916Z"
   },
   {
    "duration": 7,
    "start_time": "2024-08-24T10:27:01.044Z"
   },
   {
    "duration": 7,
    "start_time": "2024-08-24T10:27:10.020Z"
   },
   {
    "duration": 8,
    "start_time": "2024-08-24T10:27:13.963Z"
   },
   {
    "duration": 8,
    "start_time": "2024-08-24T10:27:15.860Z"
   },
   {
    "duration": 7,
    "start_time": "2024-08-24T10:27:18.201Z"
   },
   {
    "duration": 8,
    "start_time": "2024-08-24T10:27:21.796Z"
   },
   {
    "duration": 10,
    "start_time": "2024-08-24T10:32:51.932Z"
   },
   {
    "duration": 3,
    "start_time": "2024-08-24T10:48:10.721Z"
   },
   {
    "duration": 6,
    "start_time": "2024-08-24T10:50:39.991Z"
   },
   {
    "duration": 5,
    "start_time": "2024-08-24T10:52:20.843Z"
   },
   {
    "duration": 5,
    "start_time": "2024-08-24T10:57:39.226Z"
   },
   {
    "duration": 3,
    "start_time": "2024-08-24T10:59:12.469Z"
   },
   {
    "duration": 3,
    "start_time": "2024-08-24T11:00:03.081Z"
   },
   {
    "duration": 3,
    "start_time": "2024-08-24T11:00:58.386Z"
   },
   {
    "duration": 5,
    "start_time": "2024-08-24T11:26:55.049Z"
   },
   {
    "duration": 8,
    "start_time": "2024-08-24T11:48:05.365Z"
   },
   {
    "duration": 3,
    "start_time": "2024-08-24T11:48:14.857Z"
   },
   {
    "duration": 4,
    "start_time": "2024-08-24T11:53:53.879Z"
   },
   {
    "duration": 4,
    "start_time": "2024-08-24T12:02:56.662Z"
   },
   {
    "duration": 4,
    "start_time": "2024-08-24T12:03:38.684Z"
   },
   {
    "duration": 4,
    "start_time": "2024-08-24T12:03:52.147Z"
   },
   {
    "duration": 6,
    "start_time": "2024-08-24T12:04:04.181Z"
   },
   {
    "duration": 6,
    "start_time": "2024-08-24T12:04:14.228Z"
   },
   {
    "duration": 4,
    "start_time": "2024-08-24T12:06:18.981Z"
   },
   {
    "duration": 463,
    "start_time": "2024-08-24T12:06:22.889Z"
   },
   {
    "duration": 86,
    "start_time": "2024-08-24T12:07:03.670Z"
   },
   {
    "duration": 232,
    "start_time": "2024-08-24T12:09:52.172Z"
   },
   {
    "duration": 449,
    "start_time": "2024-08-24T12:11:53.101Z"
   },
   {
    "duration": 292,
    "start_time": "2024-08-24T12:12:00.839Z"
   },
   {
    "duration": 4,
    "start_time": "2024-08-24T12:18:13.748Z"
   },
   {
    "duration": 8,
    "start_time": "2024-08-24T12:18:21.283Z"
   },
   {
    "duration": 12,
    "start_time": "2024-08-24T12:32:05.605Z"
   },
   {
    "duration": 24,
    "start_time": "2024-08-24T12:33:09.420Z"
   },
   {
    "duration": 8,
    "start_time": "2024-08-24T12:33:53.265Z"
   },
   {
    "duration": 20,
    "start_time": "2024-08-24T12:34:03.473Z"
   },
   {
    "duration": 20,
    "start_time": "2024-08-24T12:35:40.880Z"
   },
   {
    "duration": 20,
    "start_time": "2024-08-24T12:37:27.581Z"
   }
  ],
  "colab": {
   "provenance": []
  },
  "kernelspec": {
   "display_name": "Python 3 (ipykernel)",
   "language": "python",
   "name": "python3"
  },
  "language_info": {
   "codemirror_mode": {
    "name": "ipython",
    "version": 3
   },
   "file_extension": ".py",
   "mimetype": "text/x-python",
   "name": "python",
   "nbconvert_exporter": "python",
   "pygments_lexer": "ipython3",
   "version": "3.9.19"
  },
  "toc": {
   "base_numbering": 1,
   "nav_menu": {},
   "number_sections": true,
   "sideBar": true,
   "skip_h1_title": false,
   "title_cell": "Table of Contents",
   "title_sidebar": "Contents",
   "toc_cell": false,
   "toc_position": {
    "height": "calc(100% - 180px)",
    "left": "10px",
    "top": "150px",
    "width": "244.797px"
   },
   "toc_section_display": true,
   "toc_window_display": true
  }
 },
 "nbformat": 4,
 "nbformat_minor": 1
}
